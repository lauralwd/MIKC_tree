{
 "cells": [
  {
   "cell_type": "markdown",
   "metadata": {},
   "source": [
    "Continue working on the tree basal v5.\n",
    "\n",
    "Removing unpublished data again. We're happy enought with gymnosperm sequences so We're keeping those. \n",
    "\n",
    "The major change is that we identified a clade of MIKC* sequences which we're removing. This may add power to the analysis (at least some speed) and we're not interested in those here.\n",
    "\n",
    "I'm running trees initially with UFbootstrap and SH-alrt and later with a non-parametric tree inference."
   ]
  },
  {
   "cell_type": "markdown",
   "metadata": {},
   "source": [
    "I'm getting the basalv4 fasta, sinse this has everything I want anyway."
   ]
  },
  {
   "cell_type": "code",
   "execution_count": 1,
   "metadata": {},
   "outputs": [
    {
     "name": "stdout",
     "output_type": "stream",
     "text": [
      "\u001b[01;31m\u001b[K>\u001b[m\u001b[Ktr|Q5KU24|Q5KU24_COLSC MADS-box transcription factor CsMADS1 OS=Coleochaete scutata OX=3125 GN=csmads1 PE=2 SV=1\n",
      "\u001b[01;31m\u001b[K>\u001b[m\u001b[Ktr|Q5KTX4|Q5KTX4_9VIRI MADS-box protein CpMADS1 (Fragment) OS=Closterium peracerosum-strigosum-littorale complex OX=34146 GN=CpMADS1 PE=2 SV=1\n",
      "\u001b[01;31m\u001b[K>\u001b[m\u001b[KcgMADS1_BAD88436\n",
      "\u001b[01;31m\u001b[K>\u001b[m\u001b[KCRM1_CAA69276\n",
      "\u001b[01;31m\u001b[K>\u001b[m\u001b[KCRM2_CAA69277\n",
      "\u001b[01;31m\u001b[K>\u001b[m\u001b[KCRM3_CAA69407\n",
      "\u001b[01;31m\u001b[K>\u001b[m\u001b[KCRM4_CAA69408\n",
      "\u001b[01;31m\u001b[K>\u001b[m\u001b[KCRM5_CAA69409\n",
      "\u001b[01;31m\u001b[K>\u001b[m\u001b[KCRM6_CAA69410\n",
      "\u001b[01;31m\u001b[K>\u001b[m\u001b[KCRM7_CAA69411\n",
      "\u001b[01;31m\u001b[K>\u001b[m\u001b[KOPM1_CAA69412\n",
      "\u001b[01;31m\u001b[K>\u001b[m\u001b[KCMADS1_AAC24492\n",
      "\u001b[01;31m\u001b[K>\u001b[m\u001b[KCMADS2_AAC24493\n",
      "\u001b[01;31m\u001b[K>\u001b[m\u001b[KCMADS3_AAC24319\n",
      "\u001b[01;31m\u001b[K>\u001b[m\u001b[KCMADS4_AAC24320\n",
      "\u001b[01;31m\u001b[K>\u001b[m\u001b[KCMADS6_AAC24325\n",
      "\u001b[01;31m\u001b[K>\u001b[m\u001b[KSmMADS6\n",
      "\u001b[01;31m\u001b[K>\u001b[m\u001b[KSmMADS4\n",
      "\u001b[01;31m\u001b[K>\u001b[m\u001b[KSmMADS3\n",
      "\u001b[01;31m\u001b[K>\u001b[m\u001b[KSmMADS2\n",
      "\u001b[01;31m\u001b[K>\u001b[m\u001b[KSmMADS10\n",
      "\u001b[01;31m\u001b[K>\u001b[m\u001b[KSmMADS1\n",
      "\u001b[01;31m\u001b[K>\u001b[m\u001b[KPPM1_Pp012G078200\n",
      "\u001b[01;31m\u001b[K>\u001b[m\u001b[KPPM2_Pp003G125000\n",
      "\u001b[01;31m\u001b[K>\u001b[m\u001b[KPpMADS1_Pp004G002000\n",
      "\u001b[01;31m\u001b[K>\u001b[m\u001b[KPpMADS_S\n",
      "\u001b[01;31m\u001b[K>\u001b[m\u001b[KPPMC5_Pp017G019900\n",
      "\u001b[01;31m\u001b[K>\u001b[m\u001b[KPPMC6_Pp014G056100\n",
      "\u001b[01;31m\u001b[K>\u001b[m\u001b[KPpMADS2_Pp012G080000\n",
      "\u001b[01;31m\u001b[K>\u001b[m\u001b[KPpMADS3_Pp003G124300\n",
      "\u001b[01;31m\u001b[K>\u001b[m\u001b[KPPM3_Pp014G086000\n",
      "\u001b[01;31m\u001b[K>\u001b[m\u001b[KPPM4_Pp001G158500\n",
      "\u001b[01;31m\u001b[K>\u001b[m\u001b[KPPM6_Pp008G025800\n",
      "\u001b[01;31m\u001b[K>\u001b[m\u001b[KPPM7_Pp017G043700\n",
      "\u001b[01;31m\u001b[K>\u001b[m\u001b[KPPMA8_Pp008G025900\n",
      "\u001b[01;31m\u001b[K>\u001b[m\u001b[KPPMA9_Pp003G124400\n",
      "\u001b[01;31m\u001b[K>\u001b[m\u001b[KPPMA11_Pp001G158400\n",
      "\u001b[01;31m\u001b[K>\u001b[m\u001b[KPPMA12_Pp004G013900\n",
      "\u001b[01;31m\u001b[K>\u001b[m\u001b[KPp014G086100\n",
      "\u001b[01;31m\u001b[K>\u001b[m\u001b[KPI\n",
      "\u001b[01;31m\u001b[K>\u001b[m\u001b[KAP3\n",
      "\u001b[01;31m\u001b[K>\u001b[m\u001b[KAGL2_SEP1\n",
      "\u001b[01;31m\u001b[K>\u001b[m\u001b[KAGL6\n",
      "\u001b[01;31m\u001b[K>\u001b[m\u001b[KAGL8_FUL\n",
      "\u001b[01;31m\u001b[K>\u001b[m\u001b[KAGL25_FLC\n",
      "\u001b[01;31m\u001b[K>\u001b[m\u001b[KAG\n",
      "\u001b[01;31m\u001b[K>\u001b[m\u001b[KAGL12\n",
      "\u001b[01;31m\u001b[K>\u001b[m\u001b[KAGL15\n",
      "\u001b[01;31m\u001b[K>\u001b[m\u001b[KAGL17\n",
      "\u001b[01;31m\u001b[K>\u001b[m\u001b[KAGL20_SOC1\n",
      "\u001b[01;31m\u001b[K>\u001b[m\u001b[KAGL22_SVP\n",
      "\u001b[01;31m\u001b[K>\u001b[m\u001b[KAGL32_ABS\n",
      "\u001b[01;31m\u001b[K>\u001b[m\u001b[KAGL104\n",
      "\u001b[01;31m\u001b[K>\u001b[m\u001b[KAGL67\n",
      "\u001b[01;31m\u001b[K>\u001b[m\u001b[KAGL66\n",
      "\u001b[01;31m\u001b[K>\u001b[m\u001b[KAGL30\n",
      "\u001b[01;31m\u001b[K>\u001b[m\u001b[KAGL94\n",
      "\u001b[01;31m\u001b[K>\u001b[m\u001b[KAGL33\n",
      "\u001b[01;31m\u001b[K>\u001b[m\u001b[KAGL65\n",
      "\u001b[01;31m\u001b[K>\u001b[m\u001b[KOsMADS2\n",
      "\u001b[01;31m\u001b[K>\u001b[m\u001b[KOsMADS16\n",
      "\u001b[01;31m\u001b[K>\u001b[m\u001b[KOsMADS55\n",
      "\u001b[01;31m\u001b[K>\u001b[m\u001b[KOsMADS30\n",
      "\u001b[01;31m\u001b[K>\u001b[m\u001b[KOsMADS6\n",
      "\u001b[01;31m\u001b[K>\u001b[m\u001b[KOsMADS8\n",
      "\u001b[01;31m\u001b[K>\u001b[m\u001b[KOsMADS15\n",
      "\u001b[01;31m\u001b[K>\u001b[m\u001b[KOsMADS23\n",
      "\u001b[01;31m\u001b[K>\u001b[m\u001b[KOsMADS26\n",
      "\u001b[01;31m\u001b[K>\u001b[m\u001b[KOsMADS3\n",
      "\u001b[01;31m\u001b[K>\u001b[m\u001b[KOsMADS50\n",
      "\u001b[01;31m\u001b[K>\u001b[m\u001b[KOsMADS62\n",
      "\u001b[01;31m\u001b[K>\u001b[m\u001b[KOsMADS63\n",
      "\u001b[01;31m\u001b[K>\u001b[m\u001b[KOsMADS68\n",
      "\u001b[01;31m\u001b[K>\u001b[m\u001b[KAtSTK_Homeotic_D\n",
      "\u001b[01;31m\u001b[K>\u001b[m\u001b[KAtAP1_Homeotic_A\n",
      "\u001b[01;31m\u001b[K>\u001b[m\u001b[KOsMADS14_Homeotic_A\n",
      "\u001b[01;31m\u001b[K>\u001b[m\u001b[KMpMADS1\n",
      "\u001b[01;31m\u001b[K>\u001b[m\u001b[KMpMADS2\n",
      "\u001b[01;31m\u001b[K>\u001b[m\u001b[KAzfi_s0028.g024032_manually_reannotated\n",
      "\u001b[01;31m\u001b[K>\u001b[m\u001b[KAzfi_s0062.g035272 sequence match in blast db Azolla filiculoides protein v1.1\n",
      "\u001b[01;31m\u001b[K>\u001b[m\u001b[KAzfi_s0028.g024032 sequence match in blast db Azolla filiculoides protein v1.1\n",
      "\u001b[01;31m\u001b[K>\u001b[m\u001b[KAzfi_s0003.g007710 sequence match in blast db Azolla filiculoides protein v1.1\n",
      "\u001b[01;31m\u001b[K>\u001b[m\u001b[KAzfi_s0003.g007732 sequence match in blast db Azolla filiculoides protein v1.1\n",
      "\u001b[01;31m\u001b[K>\u001b[m\u001b[KAzfi_s0704.g082655 sequence match in blast db Azolla filiculoides protein v1.1\n",
      "\u001b[01;31m\u001b[K>\u001b[m\u001b[KAzfi_s0242.g059800 sequence match in blast db Azolla filiculoides protein v1.1\n",
      "\u001b[01;31m\u001b[K>\u001b[m\u001b[KAzfi_s0078.g038112 sequence match in blast db Azolla filiculoides protein v1.1\n",
      "\u001b[01;31m\u001b[K>\u001b[m\u001b[KAzfi_s0038.g026346 sequence match in blast db Azolla filiculoides protein v1.1\n",
      "\u001b[01;31m\u001b[K>\u001b[m\u001b[KAzfi_s0016.g014286 sequence match in blast db Azolla filiculoides protein v1.1\n",
      "\u001b[01;31m\u001b[K>\u001b[m\u001b[KAzfi_s0001.g000595 sequence match in blast db Azolla filiculoides protein v1.1\n",
      "\u001b[01;31m\u001b[K>\u001b[m\u001b[KAzfi_s0034.g025354 sequence match in blast db Azolla filiculoides protein v1.1\n",
      "\u001b[01;31m\u001b[K>\u001b[m\u001b[KAzfi_s0009.g011788 sequence match in blast db Azolla filiculoides protein v1.1\n",
      "\u001b[01;31m\u001b[K>\u001b[m\u001b[KAzfi_s0073.g037211 sequence match in blast db Azolla filiculoides protein v1.1\n",
      "\u001b[01;31m\u001b[K>\u001b[m\u001b[KAzfi_s0684.g082058 sequence match in blast db Azolla filiculoides protein v1.1\n",
      "\u001b[01;31m\u001b[K>\u001b[m\u001b[KAzfi_s0009.g011751 sequence match in blast db Azolla filiculoides protein v1.1\n",
      "\u001b[01;31m\u001b[K>\u001b[m\u001b[KAzfi_s0009.g011735 sequence match in blast db Azolla filiculoides protein v1.1\n",
      "\u001b[01;31m\u001b[K>\u001b[m\u001b[KAzfi_s0009.g011792 sequence match in blast db Azolla filiculoides protein v1.1\n",
      "\u001b[01;31m\u001b[K>\u001b[m\u001b[KAzfi_s0009.g011725 sequence match in blast db Azolla filiculoides protein v1.1\n",
      "\u001b[01;31m\u001b[K>\u001b[m\u001b[KAzfi_s0009.g011722 sequence match in blast db Azolla filiculoides protein v1.1\n",
      "\u001b[01;31m\u001b[K>\u001b[m\u001b[KAzfi_s0038.g026344 sequence match in blast db Azolla filiculoides protein v1.1\n",
      "\u001b[01;31m\u001b[K>\u001b[m\u001b[KAzfi_s0016.g014288 sequence match in blast db Azolla filiculoides protein v1.1\n",
      "\u001b[01;31m\u001b[K>\u001b[m\u001b[KMA_113509g0010\n",
      "\u001b[01;31m\u001b[K>\u001b[m\u001b[KMA_130755g0010\n",
      "\u001b[01;31m\u001b[K>\u001b[m\u001b[KMA_13933g0010\n",
      "\u001b[01;31m\u001b[K>\u001b[m\u001b[KMA_17919g0010\n",
      "\u001b[01;31m\u001b[K>\u001b[m\u001b[KMA_6805g0010\n",
      "\u001b[01;31m\u001b[K>\u001b[m\u001b[KSacu_v1.1_s0003.g001660 MADS-box transcription factor [0.179]\n",
      "\u001b[01;31m\u001b[K>\u001b[m\u001b[KSacu_v1.1_s0003.g001705 MADS-box transcription factor [0.179]\n",
      "\u001b[01;31m\u001b[K>\u001b[m\u001b[KSacu_v1.1_s0004.g002164 MADS-box transcription factor [0.179]\n",
      "\u001b[01;31m\u001b[K>\u001b[m\u001b[KSacu_v1.1_s0004.g002217 MADS-box transcription factor [0.179]\n",
      "\u001b[01;31m\u001b[K>\u001b[m\u001b[KSacu_v1.1_s0006.g003070 MADS-box transcription factor [0.179]\n",
      "\u001b[01;31m\u001b[K>\u001b[m\u001b[KSacu_v1.1_s0006.g003425 MADS-box transcription factor [0.179]\n",
      "\u001b[01;31m\u001b[K>\u001b[m\u001b[KSacu_v1.1_s0006.g003429 MADS-box transcription factor [0.179]\n",
      "\u001b[01;31m\u001b[K>\u001b[m\u001b[KSacu_v1.1_s0007.g003739 MADS-box transcription factor [0.179]\n",
      "\u001b[01;31m\u001b[K>\u001b[m\u001b[KSacu_v1.1_s0008.g004031 MADS-box transcription factor [0.179]\n",
      "\u001b[01;31m\u001b[K>\u001b[m\u001b[KSacu_v1.1_s0027.g009704 MADS-box transcription factor [0.179]\n",
      "\u001b[01;31m\u001b[K>\u001b[m\u001b[KSacu_v1.1_s0033.g011014 MADS-box transcription factor [0.179]\n",
      "\u001b[01;31m\u001b[K>\u001b[m\u001b[KSacu_v1.1_s0043.g012907 MADS-box transcription factor [0.179]\n",
      "\u001b[01;31m\u001b[K>\u001b[m\u001b[KSacu_v1.1_s0043.g012908 MADS-box transcription factor [0.179]\n",
      "\u001b[01;31m\u001b[K>\u001b[m\u001b[KSacu_v1.1_s0050.g013783 MADS-box transcription factor [0.179]\n",
      "\u001b[01;31m\u001b[K>\u001b[m\u001b[KSacu_v1.1_s0087.g018504 MADS-box transcription factor [0.179]\n",
      "\u001b[01;31m\u001b[K>\u001b[m\u001b[KSacu_v1.1_s0115.g020974 MADS-box transcription factor [0.179]\n",
      "\u001b[01;31m\u001b[K>\u001b[m\u001b[KSacu_v1.1_s0129.g021995 MADS-box transcription factor [0.179]\n",
      "\u001b[01;31m\u001b[K>\u001b[m\u001b[KSacu_v1.1_s0207.g025791 MADS-box transcription factor [0.179]\n",
      "\u001b[01;31m\u001b[K>\u001b[m\u001b[KSacu_v1.1_s0239.g026597 MADS-box transcription factor [0.179]\n",
      "\u001b[01;31m\u001b[K>\u001b[m\u001b[KSacu_v1.1_s0271.g027022 MADS-box transcription factor [0.179]\n",
      "\u001b[01;31m\u001b[K>\u001b[m\u001b[KSacu_v1.1_s0932.g027847 MADS-box transcription factor [0.179]\n",
      "\u001b[01;31m\u001b[K>\u001b[m\u001b[KMNNM-2042156-Cosmarium_granatum\n",
      "\u001b[01;31m\u001b[K>\u001b[m\u001b[KTPHT-2126301-Spirotaenia_sp.\n",
      "\u001b[01;31m\u001b[K>\u001b[m\u001b[KFQLP-2004170-Klebsormidium_subtile\n",
      "\u001b[01;31m\u001b[K>\u001b[m\u001b[KTPHT-2010795-Spirotaenia_sp.\n",
      "\u001b[01;31m\u001b[K>\u001b[m\u001b[KQPDY-2028842-Coleochaete_irregularis\n",
      "\u001b[01;31m\u001b[K>\u001b[m\u001b[KLLEN-2041277-Pavlova_lutheri-SAG_926_1\n",
      "\u001b[01;31m\u001b[K>\u001b[m\u001b[KPIVW-2001489-Ceratopteris_thalictroides\n",
      "\u001b[01;31m\u001b[K>\u001b[m\u001b[KIRBN-2000158-Scapania_nemorosa\n",
      "\u001b[01;31m\u001b[K>\u001b[m\u001b[KENQF-2084602-Lycopodium_annotinum\n",
      "\u001b[01;31m\u001b[K>\u001b[m\u001b[KPIVW-2016418-Ceratopteris_thalictroides\n",
      "\u001b[01;31m\u001b[K>\u001b[m\u001b[KFFPD-2013099-Ceratodon_purpureus\n",
      "\u001b[01;31m\u001b[K>\u001b[m\u001b[KJVSZ-2012388-Equisetum_hymale\n",
      "\u001b[01;31m\u001b[K>\u001b[m\u001b[KJVSZ-2127794-Equisetum_hymale\n",
      "\u001b[01;31m\u001b[K>\u001b[m\u001b[KAKXB-2066716-Phaeomegaceros_coriaceus\n",
      "\u001b[01;31m\u001b[K>\u001b[m\u001b[KJVSZ-2004872-Equisetum_hymale\n",
      "\u001b[01;31m\u001b[K>\u001b[m\u001b[KLGOW-2015978-Schistochila_sp.\n",
      "\u001b[01;31m\u001b[K>\u001b[m\u001b[KANON-2035464-Leiosporoceros_dussii-B\n",
      "\u001b[01;31m\u001b[K>\u001b[m\u001b[KZFRE-2001130-Phaeoceros_carolinianus-sporophyte_1575\n",
      "\u001b[01;31m\u001b[K>\u001b[m\u001b[KRDOO-2005177-Racomitrium_varium\n",
      "\u001b[01;31m\u001b[K>\u001b[m\u001b[KCVEG-2124355-Azolla_cf._caroliniana\n",
      "\u001b[01;31m\u001b[K>\u001b[m\u001b[KPIVW-2002304-Ceratopteris_thalictroides\n",
      "\u001b[01;31m\u001b[K>\u001b[m\u001b[KPIVW-2019843-Ceratopteris_thalictroides\n",
      "\u001b[01;31m\u001b[K>\u001b[m\u001b[KRDOO-2000123-Racomitrium_varium\n",
      "\u001b[01;31m\u001b[K>\u001b[m\u001b[KRDOO-2000812-Racomitrium_varium\n",
      "\u001b[01;31m\u001b[K>\u001b[m\u001b[KDXOU-2036490-Nothoceros_aenigmaticus\n",
      "\u001b[01;31m\u001b[K>\u001b[m\u001b[KPIVW-2004036-Ceratopteris_thalictroides\n",
      "\u001b[01;31m\u001b[K>\u001b[m\u001b[KENQF-2007944-Lycopodium_annotinum\n",
      "\u001b[01;31m\u001b[K>\u001b[m\u001b[KRDOO-2000122-Racomitrium_varium\n",
      "\u001b[01;31m\u001b[K>\u001b[m\u001b[KPIVW-2020998-Ceratopteris_thalictroides\n",
      "\u001b[01;31m\u001b[K>\u001b[m\u001b[KUPMJ-2005050-Pseudolycopodiella_caroliniana\n",
      "\u001b[01;31m\u001b[K>\u001b[m\u001b[KPIVW-2004304-Ceratopteris_thalictroides\n",
      "\u001b[01;31m\u001b[K>\u001b[m\u001b[KDXOU-2004607-Nothoceros_aenigmaticus\n"
     ]
    },
    {
     "name": "stdout",
     "output_type": "stream",
     "text": [
      "\u001b[01;31m\u001b[K>\u001b[m\u001b[KPIVW-2000174-Ceratopteris_thalictroides\n",
      "\u001b[01;31m\u001b[K>\u001b[m\u001b[KENQF-2004632-Lycopodium_annotinum\n",
      "\u001b[01;31m\u001b[K>\u001b[m\u001b[KJVSZ-2127811-Equisetum_hymale\n",
      "\u001b[01;31m\u001b[K>\u001b[m\u001b[KUPMJ-2018444-Pseudolycopodiella_caroliniana\n",
      "\u001b[01;31m\u001b[K>\u001b[m\u001b[KJVSZ-2014698-Equisetum_hymale\n",
      "\u001b[01;31m\u001b[K>\u001b[m\u001b[KJVSZ-2127731-Equisetum_hymale\n",
      "\u001b[01;31m\u001b[K>\u001b[m\u001b[KPIVW-2000450-Ceratopteris_thalictroides\n",
      "\u001b[01;31m\u001b[K>\u001b[m\u001b[KQMWB-2056566-Anomodon_attenuatus\n",
      "\u001b[01;31m\u001b[K>\u001b[m\u001b[KAKXB-2062983-Phaeomegaceros_coriaceus\n",
      "\u001b[01;31m\u001b[K>\u001b[m\u001b[KRDOO-2000811-Racomitrium_varium\n",
      "\u001b[01;31m\u001b[K>\u001b[m\u001b[KCBAE-2013716-Huperzia_myrisinites\n",
      "\u001b[01;31m\u001b[K>\u001b[m\u001b[KUPMJ-2005049-Pseudolycopodiella_caroliniana\n",
      "\u001b[01;31m\u001b[K>\u001b[m\u001b[KCBAE-2013582-Huperzia_myrisinites\n",
      "\u001b[01;31m\u001b[K>\u001b[m\u001b[KRDOO-2005175-Racomitrium_varium\n",
      "\u001b[01;31m\u001b[K>\u001b[m\u001b[KPIVW-2008000-Ceratopteris_thalictroides\n",
      "\u001b[01;31m\u001b[K>\u001b[m\u001b[KUPMJ-2014960-Pseudolycopodiella_caroliniana\n",
      "\u001b[01;31m\u001b[K>\u001b[m\u001b[KPIVW-2004305-Ceratopteris_thalictroides\n",
      "\u001b[01;31m\u001b[K>\u001b[m\u001b[KAKXB-2008754-Phaeomegaceros_coriaceus\n",
      "\u001b[01;31m\u001b[K>\u001b[m\u001b[KBNCU-2018766-Radula_lindenbergia\n",
      "\u001b[01;31m\u001b[K>\u001b[m\u001b[KHVBQ-2129775-Tetraphis_pellucida\n",
      "\u001b[01;31m\u001b[K>\u001b[m\u001b[KLGOW-2012213-Schistochila_sp.\n",
      "\u001b[01;31m\u001b[K>\u001b[m\u001b[KPIVW-2004303-Ceratopteris_thalictroides\n",
      "\u001b[01;31m\u001b[K>\u001b[m\u001b[KPIVW-2001491-Ceratopteris_thalictroides\n",
      "\u001b[01;31m\u001b[K>\u001b[m\u001b[KENQF-2004631-Lycopodium_annotinum\n",
      "\u001b[01;31m\u001b[K>\u001b[m\u001b[KPIVW-2001490-Ceratopteris_thalictroides\n",
      "\u001b[01;31m\u001b[K>\u001b[m\u001b[KJPYU-2008394-Marchantia_polymorpha\n",
      "\u001b[01;31m\u001b[K>\u001b[m\u001b[KFFPD-2013100-Ceratodon_purpureus\n",
      "\u001b[01;31m\u001b[K>\u001b[m\u001b[KUPMJ-2002417-Pseudolycopodiella_caroliniana\n",
      "\u001b[01;31m\u001b[K>\u001b[m\u001b[KPIVW-2002392-Ceratopteris_thalictroides\n",
      "\u001b[01;31m\u001b[K>\u001b[m\u001b[KCBAE-2009937-Huperzia_myrisinites\n",
      "\u001b[01;31m\u001b[K>\u001b[m\u001b[KJVSZ-2000820-Equisetum_hymale\n",
      "\u001b[01;31m\u001b[K>\u001b[m\u001b[KJVSZ-2008957-Equisetum_hymale\n",
      "\u001b[01;31m\u001b[K>\u001b[m\u001b[KJVSZ-2014398-Equisetum_hymale\n",
      "\u001b[01;31m\u001b[K>\u001b[m\u001b[KPIVW-2019502-Ceratopteris_thalictroides\n",
      "\u001b[01;31m\u001b[K>\u001b[m\u001b[KFFPD-2057947-Ceratodon_purpureus\n",
      "\u001b[01;31m\u001b[K>\u001b[m\u001b[KChlre_v5_5-Cre11_g467577_t1_1-Chlamydomonas_reinhardtii\n",
      "\u001b[01;31m\u001b[K>\u001b[m\u001b[KCVEG-2033633-Azolla_cf._caroliniana\n",
      "\u001b[01;31m\u001b[K>\u001b[m\u001b[KENQF-2015023-Lycopodium_annotinum\n",
      "\u001b[01;31m\u001b[K>\u001b[m\u001b[KNRWZ-2002384-Metzgeria_crassipilis\n",
      "\u001b[01;31m\u001b[K>\u001b[m\u001b[KBNCU-2085227-Radula_lindenbergia\n",
      "\u001b[01;31m\u001b[K>\u001b[m\u001b[KPIVW-2004035-Ceratopteris_thalictroides\n",
      "\u001b[01;31m\u001b[K>\u001b[m\u001b[KUPMJ-2008884-Pseudolycopodiella_caroliniana\n",
      "\u001b[01;31m\u001b[K>\u001b[m\u001b[KPIVW-2003993-Ceratopteris_thalictroides\n",
      "\u001b[01;31m\u001b[K>\u001b[m\u001b[KPIVW-2003992-Ceratopteris_thalictroides\n",
      "\u001b[01;31m\u001b[K>\u001b[m\u001b[KPIVW-2009413-Ceratopteris_thalictroides\n",
      "\u001b[01;31m\u001b[K>\u001b[m\u001b[KCBAE-2012867-Huperzia_myrisinites\n",
      "\u001b[01;31m\u001b[K>\u001b[m\u001b[KZFRE-2001131-Phaeoceros_carolinianus-sporophyte_1575\n",
      "\u001b[01;31m\u001b[K>\u001b[m\u001b[KPIVW-2000173-Ceratopteris_thalictroides\n",
      "\u001b[01;31m\u001b[K>\u001b[m\u001b[KJVSZ-2014659-Equisetum_hymale\n",
      "\u001b[01;31m\u001b[K>\u001b[m\u001b[KUPMJ-2017788-Pseudolycopodiella_caroliniana\n",
      "\u001b[01;31m\u001b[K>\u001b[m\u001b[KPIVW-2004302-Ceratopteris_thalictroides\n",
      "\u001b[01;31m\u001b[K>\u001b[m\u001b[KPIVW-2009414-Ceratopteris_thalictroides\n",
      "\u001b[01;31m\u001b[K>\u001b[m\u001b[KPIVW-2007999-Ceratopteris_thalictroides\n",
      "\u001b[01;31m\u001b[K>\u001b[m\u001b[KNRWZ-2014421-Metzgeria_crassipilis\n",
      "\u001b[01;31m\u001b[K>\u001b[m\u001b[KPIVW-2001493-Ceratopteris_thalictroides\n",
      "\u001b[01;31m\u001b[K>\u001b[m\u001b[KRDOO-2015055-Racomitrium_varium\n",
      "\u001b[01;31m\u001b[K>\u001b[m\u001b[KCVEG-2123825-Azolla_cf._caroliniana\n",
      "\u001b[01;31m\u001b[K>\u001b[m\u001b[KCVEG-2010487-Azolla_cf._caroliniana\n",
      "\u001b[01;31m\u001b[K>\u001b[m\u001b[KAfi_v2_s1G000300.1\n",
      "\u001b[01;31m\u001b[K>\u001b[m\u001b[KAfi_v2_s1G000320.1\n",
      "\u001b[01;31m\u001b[K>\u001b[m\u001b[KAfi_v2_s1G000340.1\n",
      "\u001b[01;31m\u001b[K>\u001b[m\u001b[KAfi_v2_s1G000630.1\n",
      "\u001b[01;31m\u001b[K>\u001b[m\u001b[KAfi_v2_s1G000640.1\n",
      "\u001b[01;31m\u001b[K>\u001b[m\u001b[KAfi_v2_s2G003330.1\n",
      "\u001b[01;31m\u001b[K>\u001b[m\u001b[KAfi_v2_s6G005990.1\n",
      "\u001b[01;31m\u001b[K>\u001b[m\u001b[KAfi_v2_s6G006070.6\n",
      "\u001b[01;31m\u001b[K>\u001b[m\u001b[KAfi_v2_s19G007500.1\n",
      "\u001b[01;31m\u001b[K>\u001b[m\u001b[KAfi_v2_s20G002360.1\n",
      "\u001b[01;31m\u001b[K>\u001b[m\u001b[KAfi_v2_s25G003350.1\n",
      "\u001b[01;31m\u001b[K>\u001b[m\u001b[KAfi_v2_s26G003990.1\n",
      "\u001b[01;31m\u001b[K>\u001b[m\u001b[KAfi_v2_s28G002220.1\n",
      "\u001b[01;31m\u001b[K>\u001b[m\u001b[KAfi_v2_s37G001110.1\n",
      "\u001b[01;31m\u001b[K>\u001b[m\u001b[KAfi_v2_s46G001100.2\n",
      "\u001b[01;31m\u001b[K>\u001b[m\u001b[KAfi_v2_s70G000030.1\n",
      "\u001b[01;31m\u001b[K>\u001b[m\u001b[KAfi_v2_s132G000050.1\n",
      "\u001b[01;31m\u001b[K>\u001b[m\u001b[KAfi_v2_s1737G000020.1\n",
      "\u001b[01;31m\u001b[K>\u001b[m\u001b[KAfi_v2_s3080G000010.1\n",
      "\u001b[01;31m\u001b[K>\u001b[m\u001b[KAfi_v2_s3081G000010.1\n",
      "\u001b[01;31m\u001b[K>\u001b[m\u001b[KXMGP-2014150-Juniperus_scopulorum\n",
      "\u001b[01;31m\u001b[K>\u001b[m\u001b[KJZVE-2034291-Parasitaxus_usta\n",
      "\u001b[01;31m\u001b[K>\u001b[m\u001b[KXMGP-2012223-Juniperus_scopulorum\n",
      "\u001b[01;31m\u001b[K>\u001b[m\u001b[KXMGP-2002769-Juniperus_scopulorum\n",
      "\u001b[01;31m\u001b[K>\u001b[m\u001b[KJZVE-2035359-Parasitaxus_usta\n",
      "\u001b[01;31m\u001b[K>\u001b[m\u001b[KJZVE-2036348-Parasitaxus_usta\n",
      "\u001b[01;31m\u001b[K>\u001b[m\u001b[KXMGP-2007460-Juniperus_scopulorum\n",
      "\u001b[01;31m\u001b[K>\u001b[m\u001b[KXMGP-2008586-Juniperus_scopulorum\n",
      "\u001b[01;31m\u001b[K>\u001b[m\u001b[KJZVE-2036124-Parasitaxus_usta\n",
      "\u001b[01;31m\u001b[K>\u001b[m\u001b[KJZVE-2032691-Parasitaxus_usta\n",
      "\u001b[01;31m\u001b[K>\u001b[m\u001b[KJZVE-2006929-Parasitaxus_usta\n",
      "\u001b[01;31m\u001b[K>\u001b[m\u001b[KXMGP-2005352-Juniperus_scopulorum\n",
      "\u001b[01;31m\u001b[K>\u001b[m\u001b[KJZVE-2007309-Parasitaxus_usta\n",
      "\u001b[01;31m\u001b[K>\u001b[m\u001b[KJZVE-2003013-Parasitaxus_usta\n",
      "\u001b[01;31m\u001b[K>\u001b[m\u001b[KXMGP-2009071-Juniperus_scopulorum\n",
      "\u001b[01;31m\u001b[K>\u001b[m\u001b[KXMGP-2003328-Juniperus_scopulorum\n",
      "\u001b[01;31m\u001b[K>\u001b[m\u001b[KJZVE-2003919-Parasitaxus_usta\n",
      "\u001b[01;31m\u001b[K>\u001b[m\u001b[KJZVE-2004736-Parasitaxus_usta\n",
      "\u001b[01;31m\u001b[K>\u001b[m\u001b[KXMGP-2007459-Juniperus_scopulorum\n",
      "\u001b[01;31m\u001b[K>\u001b[m\u001b[KXMGP-2058097-Juniperus_scopulorum\n",
      "\u001b[01;31m\u001b[K>\u001b[m\u001b[KJZVE-2004735-Parasitaxus_usta\n",
      "\u001b[01;31m\u001b[K>\u001b[m\u001b[KJZVE-2036946-Parasitaxus_usta\n",
      "\u001b[01;31m\u001b[K>\u001b[m\u001b[KJZVE-2007246-Parasitaxus_usta\n"
     ]
    }
   ],
   "source": [
    "grep '>' data/MIKC_orthogroup_selection-basal-v5_guide-v4.fasta"
   ]
  },
  {
   "cell_type": "code",
   "execution_count": 2,
   "metadata": {},
   "outputs": [
    {
     "name": "stdout",
     "output_type": "stream",
     "text": [
      "531 data/MIKC_orthogroup_selection-basal-v5_guide-v4.fasta\n"
     ]
    }
   ],
   "source": [
    "wc -l data/MIKC_orthogroup_selection-basal-v5_guide-v4.fasta"
   ]
  },
  {
   "cell_type": "code",
   "execution_count": 32,
   "metadata": {},
   "outputs": [
    {
     "name": "stdout",
     "output_type": "stream",
     "text": [
      "531 data/MIKC_orthogroup_selection-basal-v5_guide-v4.fasta\n",
      "(phylogenetics) 53 data/MIKC_orthogroup_selection-basal-v5-selection-MIKCstar.txt\n",
      "(phylogenetics) 106\n",
      "(phylogenetics) 106 removetheselines.temp\n",
      "(phylogenetics) 429\n",
      "(phylogenetics) (phylogenetics) "
     ]
    },
    {
     "ename": "",
     "evalue": "1",
     "output_type": "error",
     "traceback": []
    }
   ],
   "source": [
    "wc -l data/MIKC_orthogroup_selection-basal-v5_guide-v4.fasta\n",
    "wc -l data/MIKC_orthogroup_selection-basal-v5-selection-MIKCstar.txt  \n",
    "grep -A 1 --no-group-separator -F -f data/MIKC_orthogroup_selection-basal-v5-selection-MIKCstar.txt \\\n",
    "  data/MIKC_orthogroup_selection-basal-v5_guide-v4.fasta \\\n",
    "  | tee removetheselines.temp | wc -l\n",
    "wc -l removetheselines.temp\n",
    "grep -v -f removetheselines.temp data/MIKC_orthogroup_selection-basal-v5_guide-v4.fasta \\\n",
    "  | tee data/MIKC_orthogroup_selection-basal-v6_guide-v4.fasta | wc -l\n",
    "rm removetheselines.temp"
   ]
  },
  {
   "cell_type": "markdown",
   "metadata": {},
   "source": [
    "Now I'm manually removing Azfi v2 sequences."
   ]
  },
  {
   "cell_type": "code",
   "execution_count": 33,
   "metadata": {},
   "outputs": [
    {
     "name": "stdout",
     "output_type": "stream",
     "text": [
      "(phylogenetics) "
     ]
    },
    {
     "ename": "",
     "evalue": "1",
     "output_type": "error",
     "traceback": []
    }
   ],
   "source": [
    "inseq='MIKC_orthogroup_selection-basal-v6_guide-v4'"
   ]
  },
  {
   "cell_type": "markdown",
   "metadata": {},
   "source": [
    "Now let's add the Azfi annotationv2 genes in there:"
   ]
  },
  {
   "cell_type": "code",
   "execution_count": 34,
   "metadata": {},
   "outputs": [
    {
     "name": "stdout",
     "output_type": "stream",
     "text": [
      "188\n",
      "(phylogenetics) "
     ]
    },
    {
     "ename": "",
     "evalue": "1",
     "output_type": "error",
     "traceback": []
    }
   ],
   "source": [
    "grep '>' data/$inseq.fasta -c"
   ]
  },
  {
   "cell_type": "markdown",
   "metadata": {},
   "source": [
    "Ok, that should be sufficient. Now let's allign, trim, again make sure there's only sequences with M I and K domains, and make a tree!"
   ]
  },
  {
   "cell_type": "markdown",
   "metadata": {},
   "source": [
    "# aligning and trimming"
   ]
  },
  {
   "cell_type": "code",
   "execution_count": 25,
   "metadata": {
    "scrolled": true
   },
   "outputs": [
    {
     "name": "stdout",
     "output_type": "stream",
     "text": [
      "(phylogenetics) "
     ]
    },
    {
     "ename": "",
     "evalue": "1",
     "output_type": "error",
     "traceback": []
    }
   ],
   "source": [
    "conda activate phylogenetics"
   ]
  },
  {
   "cell_type": "code",
   "execution_count": 35,
   "metadata": {
    "scrolled": true
   },
   "outputs": [
    {
     "name": "stdout",
     "output_type": "stream",
     "text": [
      "(phylogenetics) outputhat23=16\n",
      "treein = 0\n",
      "compacttree = 0\n",
      "stacksize: 8192 kb\n",
      "All-to-all alignment.\n",
      "tbfast-pair (aa) Version 7.407\n",
      "alg=N, model=BLOSUM62, 2.00, -0.00, -0.00, noshift, amax=0.0\n",
      "4 thread(s)\n",
      "\n",
      "outputhat23=16\n",
      "Loading 'hat3.seed' ... \n",
      "done.\n",
      "Writing hat3 for iterative refinement\n",
      "Gap Penalty = -1.53, +0.00, +0.00\n",
      "tbutree = 1, compacttree = 0\n",
      "Constructing a UPGMA tree ... \n",
      "  180 / 188\n",
      "done.\n",
      "\n",
      "Progressive alignment ... \n",
      "STEP   173 /187 (thread    3) \n",
      "Reallocating (by thread 1) ..done. *alloclen = 3246\n",
      "STEP   187 /187 (thread    1) \n",
      "done.\n",
      "tbfast (aa) Version 7.407\n",
      "alg=A, model=BLOSUM62, 1.53, -0.00, -0.00, noshift, amax=0.0\n",
      "4 thread(s)\n",
      "\n",
      "minimumweight = 0.000010\n",
      "autosubalignment = 0.000000\n",
      "nthread = 4\n",
      "randomseed = 0\n",
      "blosum 62 / kimura 200\n",
      "poffset = 0\n",
      "niter = 16\n",
      "sueff_global = 0.100000\n",
      "nadd = 16\n",
      "Loading 'hat3' ... done.\n",
      "\n",
      "  180 / 188\n",
      "Segment   1/  1    1-1812\n",
      "007-0372-1 (thread    2) worse         \n",
      "Converged2.\n",
      "done\n",
      "dvtditr (aa) Version 7.407\n",
      "alg=A, model=BLOSUM62, 1.53, -0.00, -0.00, noshift, amax=0.0\n",
      "4 thread(s)\n",
      "\n",
      "\n",
      "Strategy:\n",
      " E-INS-i (Suitable for sequences with long unalignable regions, very slow)\n",
      " Iterative refinement method (<16) with LOCAL pairwise alignment with generalized affine gap costs (Altschul 1998)\n",
      "\n",
      "If unsure which option to use, try 'mafft --auto input > output'.\n",
      "For more information, see 'mafft --help', 'mafft --man' and the mafft page.\n",
      "\n",
      "The default gap scoring scheme has been changed in version 7.110 (2013 Oct).\n",
      "It tends to insert more gaps into gap-rich regions than previous versions.\n",
      "To disable this change, add the --leavegappyregion option.\n",
      "\n",
      "Parameters for the E-INS-i option have been changed in version 7.243 (2015 Jun).\n",
      "To switch to the old parameters, use --oldgenafpair, instead of --genafpair.\n",
      "\n",
      "(phylogenetics) "
     ]
    },
    {
     "ename": "",
     "evalue": "1",
     "output_type": "error",
     "traceback": []
    }
   ],
   "source": [
    "if    [ ! -d ./data/alignments_raw/ ]\n",
    "then  mkdir  ./data/alignments_raw\n",
    "fi\n",
    "if    [ ! -f \"./data/alignments_raw/$inseq\"_aligned-mafft-linsi.fasta ]\n",
    "then  einsi --thread $(nproc) data/$inseq.fasta > ./data/alignments_raw/\"$inseq\"_aligned-mafft-einsi.fasta\n",
    "fi"
   ]
  },
  {
   "cell_type": "code",
   "execution_count": null,
   "metadata": {},
   "outputs": [],
   "source": [
    "if    [ ! -d data/alignments_trimmed ]\n",
    "then  mkdir  data/alignments_trimmed \n",
    "fi\n",
    "\n",
    "# define appendix only once here:\n",
    "trimappendix='trim-gt1'\n",
    "\n",
    "\n",
    "for a in \"data/alignments_raw/$inseq\"_aligned*.fasta\n",
    "do  appendix=$(echo $a | cut -d '/' -f 3- | sed \"s/$inseq\\_//\" | sed \"s/.fasta//\")\n",
    "    if    [ ! -f data/alignments_trimmed/\"$inseq\"_\"$appendix\"_\"$trimappendix\".fasta ]\n",
    "    then  echo \"trimming alignment $a\"\n",
    "          sed -i 's/ /_/g' $a\n",
    "          trimal -in $a   \\\n",
    "                 -out data/alignments_trimmed/\"$inseq\"_\"$appendix\"_\"$trimappendix\".fasta \\\n",
    "                 -gt .1 \\\n",
    "                 -htmlout data/alignments_trimmed/\"$inseq\"_\"$appendix\"_\"$trimappendix\".html\n",
    "    fi\n",
    "done"
   ]
  },
  {
   "cell_type": "code",
   "execution_count": null,
   "metadata": {},
   "outputs": [],
   "source": [
    "sed -i 's,/[0-9]-[0-9]*,,' data/alignments_trimmed/MIKC_orthogroup_selection-basal-v5_guide-v4_aligned-mafft-einsi_trim-gt1-seqrmmanual.fasta"
   ]
  },
  {
   "cell_type": "markdown",
   "metadata": {},
   "source": [
    "\n",
    "# tree inference\n",
    "Now let's get to tree inference, choosing a fast bootstrapping method and reusing a model from a previous fit of a practically similar alignment."
   ]
  },
  {
   "cell_type": "code",
   "execution_count": null,
   "metadata": {
    "scrolled": false
   },
   "outputs": [],
   "source": [
    "inseq=MIKC_orthogroup_selection-basal-v5_guide-v4\n",
    "ls data/alignments_trimmed/\"$inseq\"_aligned*fasta"
   ]
  },
  {
   "cell_type": "code",
   "execution_count": null,
   "metadata": {},
   "outputs": [],
   "source": [
    "conda activate phylogenetics"
   ]
  },
  {
   "cell_type": "code",
   "execution_count": null,
   "metadata": {},
   "outputs": [],
   "source": [
    "a=data/alignments_trimmed/MIKC_orthogroup_selection-basal-v5_guide-v4_aligned-mafft-einsi_trim-gt1-seqrmmanual.fasta\n",
    "\n",
    "#iqpendix='iqtree-b100'\n",
    "iqpendix='iqtree-LGR6-bb2000-alrt2000'\n",
    "\n",
    "echo \"making a tree of file $a\"\n",
    "echo \"The first lines of alignment $a look like this\"\n",
    "head $a\n",
    "\n",
    "file_appendix=$(echo $a | cut -d '/' -f 3- | sed \"s/$inseq\\_//\" | sed \"s/.fasta//\")\n",
    "echo \"Making a directory $file_appendix to store trees (name based on alignment filename)\"\n",
    "\n",
    "if   [ ! -d    analyses/\"$inseq\"_trees/\"$file_appendix\" ]\n",
    "then mkdir -p  analyses/\"$inseq\"_trees/\"$file_appendix\" \n",
    "fi\n",
    "\n",
    "iqprefix=analyses/\"$inseq\"_trees/\"$file_appendix\"/\"$inseq\"_\"$file_appendix\"_\"$iqpendix\"\n",
    "if   [ ! -f analyses/\"$inseq\"_trees/\"$file_appendix\"/\"$inseq\"_\"$file_appendix\"_iqtree-bb1000.tree ]\n",
    "then nice iqtree -s $a \\\n",
    "                 -m 'LG+R6' \\\n",
    "                 -bb 2000 -alrt 2000 \\\n",
    "                 -nt AUTO \\\n",
    "                 -ntmax $(nproc)  \\\n",
    "                 -pre  \"$iqprefix\" \\\n",
    "                 2>   \"$iqprefix\".stderr \\\n",
    "                 >    \"$iqprefix\".stdout && cat \"$iqprefix\".log | mail -s IQtree_run laura &\n",
    "fi"
   ]
  },
  {
   "cell_type": "code",
   "execution_count": null,
   "metadata": {
    "scrolled": true
   },
   "outputs": [],
   "source": [
    "tail -n 30 $iqprefix.log"
   ]
  }
 ],
 "metadata": {
  "kernelspec": {
   "display_name": "Bash",
   "language": "bash",
   "name": "bash"
  },
  "language_info": {
   "codemirror_mode": "shell",
   "file_extension": ".sh",
   "mimetype": "text/x-sh",
   "name": "bash"
  }
 },
 "nbformat": 4,
 "nbformat_minor": 2
}
