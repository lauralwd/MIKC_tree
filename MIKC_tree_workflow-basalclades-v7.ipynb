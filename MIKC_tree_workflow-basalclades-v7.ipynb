{
 "cells": [
  {
   "cell_type": "markdown",
   "metadata": {},
   "source": [
    "Continue working on the tree after basalv6. \n",
    "The aim is to remove rogue taxa and thereby hopefully increase overal support for the tree.\n",
    "\n",
    "I'll remove:\n",
    "* all picea abies\n",
    "* Chlre_v5_5-Cre11_g467577_t1_1-Chlamydomonas_reinhardtii\n",
    "* Equisetum\n",
    "* tr_Q5KTX4_Q5KTX4_9VIRI_MADS-box_protein_CpMADS1__Fragment__OS_Closterium_peracerosum-strigosum-littorale_complex_OX_34146_GN_CpMADS1_PE_2_SV_1\n",
    "* Pp014G086100\n",
    "* XMGP-2008586-Juniperus_scopulorum\n",
    "\n",
    "Finally, I will also remove all but one of the algal outgroup sequences, the solidity of this outgroup has been very reproducible.\n",
    "\n",
    "\n",
    "I'm running trees initially with UFbootstrap and SH-alrt and later with a non-parametric tree inference."
   ]
  },
  {
   "cell_type": "markdown",
   "metadata": {},
   "source": [
    "I'm getting the basalv5 fasta and remove everything I don't want."
   ]
  },
  {
   "cell_type": "code",
   "execution_count": 11,
   "metadata": {},
   "outputs": [],
   "source": [
    "grep -v -f <(echo -e 'MA_\\nChlre\\nEquisetum\\nQ5KTX4\\nPp014G086100\\nXMGP-2008586') \\\n",
    "    data/MIKC_orthogroup_selection-basal-v6_guide-v4.fasta \\\n",
    "    > data/MIKC_orthogroup_selection-basal-v7_guide-v4_TEMP.fasta"
   ]
  },
  {
   "cell_type": "code",
   "execution_count": 12,
   "metadata": {},
   "outputs": [
    {
     "name": "stdout",
     "output_type": "stream",
     "text": [
      "188\n",
      "171\n"
     ]
    }
   ],
   "source": [
    "grep -c '>' data/MIKC_orthogroup_selection-basal-v6_guide-v4.fasta\n",
    "grep -c '>' data/MIKC_orthogroup_selection-basal-v7_guide-v4_TEMP.fasta"
   ]
  },
  {
   "cell_type": "markdown",
   "metadata": {},
   "source": [
    "And finally remove all but one of the algal outgroup sequences:"
   ]
  },
  {
   "cell_type": "code",
   "execution_count": 14,
   "metadata": {},
   "outputs": [],
   "source": [
    "grep -v -f <(echo -e 'Q5KU24\\nQ5KTX4\\nMNNM\\nQPDY\\nFQLP\\nTPHT\\nTPHT') \\\n",
    "    data/MIKC_orthogroup_selection-basal-v7_guide-v4_TEMP.fasta \\\n",
    "    > data/MIKC_orthogroup_selection-basal-v7_guide-v4.fasta\n",
    "rm data/MIKC_orthogroup_selection-basal-v7_guide-v4_TEMP.fasta"
   ]
  },
  {
   "cell_type": "code",
   "execution_count": 16,
   "metadata": {},
   "outputs": [
    {
     "name": "stdout",
     "output_type": "stream",
     "text": [
      "165\n"
     ]
    }
   ],
   "source": [
    "grep -c '>' data/MIKC_orthogroup_selection-basal-v7_guide-v4.fasta"
   ]
  },
  {
   "cell_type": "code",
   "execution_count": 17,
   "metadata": {},
   "outputs": [],
   "source": [
    "inseq='MIKC_orthogroup_selection-basal-v7_guide-v4'"
   ]
  },
  {
   "cell_type": "markdown",
   "metadata": {},
   "source": [
    "# aligning and trimming"
   ]
  },
  {
   "cell_type": "code",
   "execution_count": 18,
   "metadata": {
    "scrolled": true
   },
   "outputs": [
    {
     "name": "stdout",
     "output_type": "stream",
     "text": [
      "(phylogenetics) (phylogenetics) outputhat23=16\n",
      "treein = 0\n",
      "compacttree = 0\n",
      "stacksize: 8192 kb\n",
      "All-to-all alignment.\n",
      "tbfast-pair (aa) Version 7.407\n",
      "alg=N, model=BLOSUM62, 2.00, -0.00, -0.00, noshift, amax=0.0\n",
      "4 thread(s)\n",
      "\n",
      "outputhat23=16\n",
      "Loading 'hat3.seed' ... \n",
      "done.\n",
      "Writing hat3 for iterative refinement\n",
      "Gap Penalty = -1.53, +0.00, +0.00\n",
      "tbutree = 1, compacttree = 0\n",
      "Constructing a UPGMA tree ... \n",
      "  160 / 165\n",
      "done.\n",
      "\n",
      "Progressive alignment ... \n",
      "STEP    88 /164 (thread    0) \n",
      "STEP    90 /164 (thread    1) done. *alloclen = 3899\n",
      "STEP   164 /164 (thread    3) \n",
      "done.\n",
      "tbfast (aa) Version 7.407\n",
      "alg=A, model=BLOSUM62, 1.53, -0.00, -0.00, noshift, amax=0.0\n",
      "4 thread(s)\n",
      "\n",
      "minimumweight = 0.000010\n",
      "autosubalignment = 0.000000\n",
      "nthread = 4\n",
      "randomseed = 0\n",
      "blosum 62 / kimura 200\n",
      "poffset = 0\n",
      "niter = 16\n",
      "sueff_global = 0.100000\n",
      "nadd = 16\n",
      "Loading 'hat3' ... done.\n",
      "\n",
      "  160 / 165\n",
      "Segment   1/  1    1-3049\n",
      "005-0326-0 (thread    3) worse         \n",
      "Converged2.\n",
      "done\n",
      "dvtditr (aa) Version 7.407\n",
      "alg=A, model=BLOSUM62, 1.53, -0.00, -0.00, noshift, amax=0.0\n",
      "4 thread(s)\n",
      "\n",
      "\n",
      "Strategy:\n",
      " E-INS-i (Suitable for sequences with long unalignable regions, very slow)\n",
      " Iterative refinement method (<16) with LOCAL pairwise alignment with generalized affine gap costs (Altschul 1998)\n",
      "\n",
      "If unsure which option to use, try 'mafft --auto input > output'.\n",
      "For more information, see 'mafft --help', 'mafft --man' and the mafft page.\n",
      "\n",
      "The default gap scoring scheme has been changed in version 7.110 (2013 Oct).\n",
      "It tends to insert more gaps into gap-rich regions than previous versions.\n",
      "To disable this change, add the --leavegappyregion option.\n",
      "\n",
      "Parameters for the E-INS-i option have been changed in version 7.243 (2015 Jun).\n",
      "To switch to the old parameters, use --oldgenafpair, instead of --genafpair.\n",
      "\n",
      "(phylogenetics) "
     ]
    }
   ],
   "source": [
    "conda activate phylogenetics\n",
    "if    [ ! -d ./data/alignments_raw/ ]\n",
    "then  mkdir  ./data/alignments_raw\n",
    "fi\n",
    "if    [ ! -f \"./data/alignments_raw/$inseq\"_aligned-mafft-linsi.fasta ]\n",
    "then  einsi --thread $(nproc) data/$inseq.fasta > ./data/alignments_raw/\"$inseq\"_aligned-mafft-einsi.fasta\n",
    "fi\n",
    "conda deactivate"
   ]
  },
  {
   "cell_type": "code",
   "execution_count": 20,
   "metadata": {},
   "outputs": [
    {
     "name": "stdout",
     "output_type": "stream",
     "text": [
      "(phylogenetics) (phylogenetics) (phylogenetics) (phylogenetics) (phylogenetics) (phylogenetics) trimming alignment data/alignments_raw/MIKC_orthogroup_selection-basal-v7_guide-v4_aligned-mafft-einsi.fasta with gap threshold 1\n",
      "[1] 486823\n",
      "trimming alignment data/alignments_raw/MIKC_orthogroup_selection-basal-v7_guide-v4_aligned-mafft-einsi.fasta with gap threshold 2\n",
      "[2] 486831\n",
      "trimming alignment data/alignments_raw/MIKC_orthogroup_selection-basal-v7_guide-v4_aligned-mafft-einsi.fasta with gap threshold 3\n",
      "[3] 486838\n",
      "trimming alignment data/alignments_raw/MIKC_orthogroup_selection-basal-v7_guide-v4_aligned-mafft-einsi.fasta with gap threshold 4\n",
      "[4] 486845\n",
      "trimming alignment data/alignments_raw/MIKC_orthogroup_selection-basal-v7_guide-v4_aligned-mafft-einsi.fasta with gap threshold 5\n",
      "[5] 486852\n",
      "(phylogenetics) [1]   Done                    trimal -in $a -out data/alignments_trimmed/\"$inseq\"_\"$appendix\"_\"$trimappendix\".fasta -gt .\"$g\" -htmlout data/alignments_trimmed/\"$inseq\"_\"$appendix\"_\"$trimappendix\".html\n",
      "[2]   Done                    trimal -in $a -out data/alignments_trimmed/\"$inseq\"_\"$appendix\"_\"$trimappendix\".fasta -gt .\"$g\" -htmlout data/alignments_trimmed/\"$inseq\"_\"$appendix\"_\"$trimappendix\".html\n",
      "[3]   Done                    trimal -in $a -out data/alignments_trimmed/\"$inseq\"_\"$appendix\"_\"$trimappendix\".fasta -gt .\"$g\" -htmlout data/alignments_trimmed/\"$inseq\"_\"$appendix\"_\"$trimappendix\".html\n",
      "[4]-  Done                    trimal -in $a -out data/alignments_trimmed/\"$inseq\"_\"$appendix\"_\"$trimappendix\".fasta -gt .\"$g\" -htmlout data/alignments_trimmed/\"$inseq\"_\"$appendix\"_\"$trimappendix\".html\n",
      "[5]+  Done                    trimal -in $a -out data/alignments_trimmed/\"$inseq\"_\"$appendix\"_\"$trimappendix\".fasta -gt .\"$g\" -htmlout data/alignments_trimmed/\"$inseq\"_\"$appendix\"_\"$trimappendix\".html\n",
      "(phylogenetics) "
     ]
    }
   ],
   "source": [
    "conda activate phylogenetics\n",
    "if    [ ! -d data/alignments_trimmed ]\n",
    "then  mkdir  data/alignments_trimmed \n",
    "fi\n",
    "\n",
    "gt=( 1 2 3 4 5 )\n",
    "\n",
    "# define appendix only once here:\n",
    "for g in ${gt[@]}\n",
    "do  trimappendix=trim-gt\"$g\"\n",
    "    for a in \"data/alignments_raw/$inseq\"_aligned*.fasta\n",
    "    do  appendix=$(echo $a | cut -d '/' -f 3- | sed \"s/$inseq\\_//\" | sed \"s/.fasta//\")\n",
    "        if    [ ! -f \"$appendix\"_\"$trimappendix\".fasta ]\n",
    "        then  echo \"trimming alignment $a with gap threshold $g\"\n",
    "              sed -i 's/ /_/g' $a\n",
    "              trimal -in $a   \\\n",
    "                     -out data/alignments_trimmed/\"$inseq\"_\"$appendix\"_\"$trimappendix\".fasta \\\n",
    "                     -gt .\"$g\" \\\n",
    "                     -htmlout data/alignments_trimmed/\"$inseq\"_\"$appendix\"_\"$trimappendix\".html &\n",
    "        fi\n",
    "    done\n",
    "done\n",
    "wait\n",
    "conda deactivate"
   ]
  },
  {
   "cell_type": "code",
   "execution_count": 21,
   "metadata": {},
   "outputs": [
    {
     "name": "stdout",
     "output_type": "stream",
     "text": [
      "(jalview) [1] 487881\n",
      "[2] 487888\n",
      "[3] 487898\n",
      "[4] 487915\n",
      "[5] 487922\n",
      "[6] 487926\n",
      "[7] 487958\n",
      "[8] 487972\n",
      "[9] 487981\n",
      "[10] 487993\n",
      "[11] 488004\n",
      "[12] 488044\n",
      "[13] 488056\n",
      "[14] 488078\n",
      "[15] 488087\n",
      "[16] 488100\n",
      "[17] 488140\n",
      "[18] 488165\n",
      "[19] 488191\n",
      "[20] 488200\n",
      "[21] 488212\n",
      "[22] 488229\n",
      "[23] 488246\n",
      "[24] 488259\n",
      "[25] 488268\n",
      "[26] 488288\n",
      "[27] 488298\n",
      "[28] 488307\n",
      "[29] 488317\n",
      "(jalview) [1]   Done                    jalview -nodisplay -open $prefix.fasta -colour CLUSTAL -png $prefix.png > /dev/null 2> /dev/null\n",
      "[5]   Done                    jalview -nodisplay -open $prefix.fasta -colour CLUSTAL -png $prefix.png > /dev/null 2> /dev/null\n",
      "[8]   Done                    jalview -nodisplay -open $prefix.fasta -colour CLUSTAL -png $prefix.png > /dev/null 2> /dev/null\n",
      "[9]   Done                    jalview -nodisplay -open $prefix.fasta -colour CLUSTAL -png $prefix.png > /dev/null 2> /dev/null\n",
      "[11]   Done                    jalview -nodisplay -open $prefix.fasta -colour CLUSTAL -png $prefix.png > /dev/null 2> /dev/null\n",
      "[12]   Done                    jalview -nodisplay -open $prefix.fasta -colour CLUSTAL -png $prefix.png > /dev/null 2> /dev/null\n",
      "[13]   Done                    jalview -nodisplay -open $prefix.fasta -colour CLUSTAL -png $prefix.png > /dev/null 2> /dev/null\n",
      "[18]   Done                    jalview -nodisplay -open $prefix.fasta -colour CLUSTAL -png $prefix.png > /dev/null 2> /dev/null\n",
      "[19]   Done                    jalview -nodisplay -open $prefix.fasta -colour CLUSTAL -png $prefix.png > /dev/null 2> /dev/null\n",
      "[20]   Done                    jalview -nodisplay -open $prefix.fasta -colour CLUSTAL -png $prefix.png > /dev/null 2> /dev/null\n",
      "[21]   Done                    jalview -nodisplay -open $prefix.fasta -colour CLUSTAL -png $prefix.png > /dev/null 2> /dev/null\n",
      "[22]   Done                    jalview -nodisplay -open $prefix.fasta -colour CLUSTAL -png $prefix.png > /dev/null 2> /dev/null\n",
      "[23]   Done                    jalview -nodisplay -open $prefix.fasta -colour CLUSTAL -png $prefix.png > /dev/null 2> /dev/null\n",
      "[2]   Done                    jalview -nodisplay -open $prefix.fasta -colour CLUSTAL -png $prefix.png > /dev/null 2> /dev/null\n",
      "[3]   Done                    jalview -nodisplay -open $prefix.fasta -colour CLUSTAL -png $prefix.png > /dev/null 2> /dev/null\n",
      "[4]   Done                    jalview -nodisplay -open $prefix.fasta -colour CLUSTAL -png $prefix.png > /dev/null 2> /dev/null\n",
      "[16]   Done                    jalview -nodisplay -open $prefix.fasta -colour CLUSTAL -png $prefix.png > /dev/null 2> /dev/null\n",
      "[6]   Done                    jalview -nodisplay -open $prefix.fasta -colour CLUSTAL -png $prefix.png > /dev/null 2> /dev/null\n",
      "[7]   Done                    jalview -nodisplay -open $prefix.fasta -colour CLUSTAL -png $prefix.png > /dev/null 2> /dev/null\n",
      "[17]   Done                    jalview -nodisplay -open $prefix.fasta -colour CLUSTAL -png $prefix.png > /dev/null 2> /dev/null\n",
      "[10]   Done                    jalview -nodisplay -open $prefix.fasta -colour CLUSTAL -png $prefix.png > /dev/null 2> /dev/null\n",
      "[14]   Done                    jalview -nodisplay -open $prefix.fasta -colour CLUSTAL -png $prefix.png > /dev/null 2> /dev/null\n",
      "[15]   Done                    jalview -nodisplay -open $prefix.fasta -colour CLUSTAL -png $prefix.png > /dev/null 2> /dev/null\n",
      "[24]   Done                    jalview -nodisplay -open $prefix.fasta -colour CLUSTAL -png $prefix.png > /dev/null 2> /dev/null\n",
      "[25]   Done                    jalview -nodisplay -open $prefix.fasta -colour CLUSTAL -png $prefix.png > /dev/null 2> /dev/null\n",
      "[26]   Done                    jalview -nodisplay -open $prefix.fasta -colour CLUSTAL -png $prefix.png > /dev/null 2> /dev/null\n",
      "[27]   Done                    jalview -nodisplay -open $prefix.fasta -colour CLUSTAL -png $prefix.png > /dev/null 2> /dev/null\n",
      "[28]-  Done                    jalview -nodisplay -open $prefix.fasta -colour CLUSTAL -png $prefix.png > /dev/null 2> /dev/null\n",
      "[29]+  Done                    jalview -nodisplay -open $prefix.fasta -colour CLUSTAL -png $prefix.png > /dev/null 2> /dev/null\n",
      "(jalview) "
     ]
    }
   ],
   "source": [
    "conda activate jalview\n",
    "for   i in data/alignments_trimmed/*.fasta\n",
    "do    prefix=$(echo $i | sed 's/\\.fasta//')\n",
    "      if    [ ! -f $prefix.png ]\n",
    "      then  jalview -nodisplay \\\n",
    "                    -open $prefix.fasta \\\n",
    "                    -colour CLUSTAL \\\n",
    "                    -png  $prefix.png > /dev/null 2> /dev/null &\n",
    "      fi\n",
    "done\n",
    "wait\n",
    "conda deactivate"
   ]
  },
  {
   "cell_type": "markdown",
   "metadata": {},
   "source": [
    "The Final alignment looks like this, quite happy with it. \n",
    "### gt 1\n",
    "![image.png](data/alignments_trimmed/MIKC_orthogroup_selection-basal-v7_guide-v4_aligned-mafft-einsi_trim-gt1.png)\n",
    "\n",
    "### gt 2\n",
    "![image.png](data/alignments_trimmed/MIKC_orthogroup_selection-basal-v7_guide-v4_aligned-mafft-einsi_trim-gt2.png)\n",
    "\n",
    "### gt 3\n",
    "![image.png](data/alignments_trimmed/MIKC_orthogroup_selection-basal-v7_guide-v4_aligned-mafft-einsi_trim-gt3.png)\n",
    "\n",
    "### gt 4\n",
    "![image.png](data/alignments_trimmed/MIKC_orthogroup_selection-basal-v7_guide-v4_aligned-mafft-einsi_trim-gt4.png)\n",
    "\n",
    "### gt 5\n",
    "![image.png](data/alignments_trimmed/MIKC_orthogroup_selection-basal-v7_guide-v4_aligned-mafft-einsi_trim-gt5.png)"
   ]
  },
  {
   "cell_type": "markdown",
   "metadata": {},
   "source": [
    "# tree inference\n",
    "Now let's get to tree inference, choosing a fast bootstrapping method"
   ]
  },
  {
   "cell_type": "code",
   "execution_count": 2,
   "metadata": {
    "scrolled": true
   },
   "outputs": [
    {
     "name": "stdout",
     "output_type": "stream",
     "text": [
      "data/alignments_trimmed/MIKC_orthogroup_selection-basal-v7_guide-v4_aligned-mafft-einsi_trim-gt1.fasta\n",
      "data/alignments_trimmed/MIKC_orthogroup_selection-basal-v7_guide-v4_aligned-mafft-einsi_trim-gt2.fasta\n",
      "data/alignments_trimmed/MIKC_orthogroup_selection-basal-v7_guide-v4_aligned-mafft-einsi_trim-gt3.fasta\n",
      "data/alignments_trimmed/MIKC_orthogroup_selection-basal-v7_guide-v4_aligned-mafft-einsi_trim-gt4.fasta\n",
      "data/alignments_trimmed/MIKC_orthogroup_selection-basal-v7_guide-v4_aligned-mafft-einsi_trim-gt5.fasta\n"
     ]
    }
   ],
   "source": [
    "inseq=MIKC_orthogroup_selection-basal-v7_guide-v4\n",
    "ls data/alignments_trimmed/\"$inseq\"_aligned*fasta"
   ]
  },
  {
   "cell_type": "code",
   "execution_count": 23,
   "metadata": {},
   "outputs": [
    {
     "name": "stdout",
     "output_type": "stream",
     "text": [
      "(phylogenetics) Making a directory aligned-mafft-einsi_trim-gt1 to store trees (name based on alignment filename)\n",
      "making a tree of file data/alignments_trimmed/MIKC_orthogroup_selection-basal-v7_guide-v4_aligned-mafft-einsi_trim-gt1.fasta\n",
      "Making a directory aligned-mafft-einsi_trim-gt2 to store trees (name based on alignment filename)\n",
      "making a tree of file data/alignments_trimmed/MIKC_orthogroup_selection-basal-v7_guide-v4_aligned-mafft-einsi_trim-gt2.fasta\n",
      "Making a directory aligned-mafft-einsi_trim-gt3 to store trees (name based on alignment filename)\n",
      "making a tree of file data/alignments_trimmed/MIKC_orthogroup_selection-basal-v7_guide-v4_aligned-mafft-einsi_trim-gt3.fasta\n",
      "Making a directory aligned-mafft-einsi_trim-gt4 to store trees (name based on alignment filename)\n",
      "making a tree of file data/alignments_trimmed/MIKC_orthogroup_selection-basal-v7_guide-v4_aligned-mafft-einsi_trim-gt4.fasta\n",
      "Making a directory aligned-mafft-einsi_trim-gt5 to store trees (name based on alignment filename)\n",
      "making a tree of file data/alignments_trimmed/MIKC_orthogroup_selection-basal-v7_guide-v4_aligned-mafft-einsi_trim-gt5.fasta\n",
      "(phylogenetics) "
     ]
    }
   ],
   "source": [
    "conda activate phylogenetics\n",
    "for a in data/alignments_trimmed/\"$inseq\"_aligned*gt*.fasta\n",
    "do  #iqpendix='iqtree-b100'\n",
    "    iqpendix='iqtree-bb2000-alrt2000'\n",
    "\n",
    "    file_appendix=$(echo $a | cut -d '/' -f 3- | sed \"s/$inseq\\_//\" | sed \"s/.fasta//\")\n",
    "    \n",
    "    if   [ ! -d    analyses/\"$inseq\"_trees/\"$file_appendix\" ]\n",
    "    then echo \"Making a directory $file_appendix to store trees (name based on alignment filename)\"\n",
    "         mkdir -p  analyses/\"$inseq\"_trees/\"$file_appendix\" \n",
    "    fi\n",
    "\n",
    "    iqprefix=analyses/\"$inseq\"_trees/\"$file_appendix\"/\"$inseq\"_\"$file_appendix\"_\"$iqpendix\"\n",
    "    if   [ ! -f \"$iqprefix\".treefile ]\n",
    "    then echo \"making a tree of file $a\"\n",
    "         nice iqtree -s $a \\\n",
    "                     -m 'MFP' \\\n",
    "                     -bb 2000 -alrt 2000 \\\n",
    "                     -nt AUTO \\\n",
    "                     -ntmax $(nproc)  \\\n",
    "                     -pre  \"$iqprefix\" \\\n",
    "                     2>   \"$iqprefix\".stderr \\\n",
    "                      >    \"$iqprefix\".stdout\n",
    "    #cat \"$iqprefix\".log | mail -s \"IQtree_run $a\" laura\n",
    "    fi\n",
    "done\n",
    "conda deactivate"
   ]
  },
  {
   "cell_type": "code",
   "execution_count": 27,
   "metadata": {},
   "outputs": [
    {
     "name": "stdout",
     "output_type": "stream",
     "text": [
      "analyses/MIKC_orthogroup_selection-basal-v7_guide-v4_trees/aligned-mafft-einsi_trim-gt1/MIKC_orthogroup_selection-basal-v7_guide-v4_aligned-mafft-einsi_trim-gt1_iqtree-bb2000-alrt2000.log\n",
      "analyses/MIKC_orthogroup_selection-basal-v7_guide-v4_trees/aligned-mafft-einsi_trim-gt2/MIKC_orthogroup_selection-basal-v7_guide-v4_aligned-mafft-einsi_trim-gt2_iqtree-bb2000-alrt2000.log\n",
      "analyses/MIKC_orthogroup_selection-basal-v7_guide-v4_trees/aligned-mafft-einsi_trim-gt3/MIKC_orthogroup_selection-basal-v7_guide-v4_aligned-mafft-einsi_trim-gt3_iqtree-bb2000-alrt2000.log\n",
      "analyses/MIKC_orthogroup_selection-basal-v7_guide-v4_trees/aligned-mafft-einsi_trim-gt4/MIKC_orthogroup_selection-basal-v7_guide-v4_aligned-mafft-einsi_trim-gt4_iqtree-bb2000-alrt2000.log\n",
      "analyses/MIKC_orthogroup_selection-basal-v7_guide-v4_trees/aligned-mafft-einsi_trim-gt5/MIKC_orthogroup_selection-basal-v7_guide-v4_aligned-mafft-einsi_trim-gt5_iqtree-bb2000-alrt2000.log\n"
     ]
    }
   ],
   "source": [
    "ls analyses/\"$inseq\"_trees/*/*.log"
   ]
  },
  {
   "cell_type": "code",
   "execution_count": 28,
   "metadata": {},
   "outputs": [
    {
     "name": "stdout",
     "output_type": "stream",
     "text": [
      "\u001b[35m\u001b[Kanalyses/MIKC_orthogroup_selection-basal-v7_guide-v4_trees/aligned-mafft-einsi_trim-gt1/MIKC_orthogroup_selection-basal-v7_guide-v4_aligned-mafft-einsi_trim-gt1_iqtree-bb2000-alrt2000.log\u001b[m\u001b[K\u001b[36m\u001b[K:\u001b[m\u001b[K\u001b[01;31m\u001b[KBest-fit model\u001b[m\u001b[K: JTT+R6 chosen according to BIC\n",
      "\u001b[35m\u001b[Kanalyses/MIKC_orthogroup_selection-basal-v7_guide-v4_trees/aligned-mafft-einsi_trim-gt2/MIKC_orthogroup_selection-basal-v7_guide-v4_aligned-mafft-einsi_trim-gt2_iqtree-bb2000-alrt2000.log\u001b[m\u001b[K\u001b[36m\u001b[K:\u001b[m\u001b[K\u001b[01;31m\u001b[KBest-fit model\u001b[m\u001b[K: JTT+R8 chosen according to BIC\n",
      "\u001b[35m\u001b[Kanalyses/MIKC_orthogroup_selection-basal-v7_guide-v4_trees/aligned-mafft-einsi_trim-gt3/MIKC_orthogroup_selection-basal-v7_guide-v4_aligned-mafft-einsi_trim-gt3_iqtree-bb2000-alrt2000.log\u001b[m\u001b[K\u001b[36m\u001b[K:\u001b[m\u001b[K\u001b[01;31m\u001b[KBest-fit model\u001b[m\u001b[K: JTT+R7 chosen according to BIC\n",
      "\u001b[35m\u001b[Kanalyses/MIKC_orthogroup_selection-basal-v7_guide-v4_trees/aligned-mafft-einsi_trim-gt4/MIKC_orthogroup_selection-basal-v7_guide-v4_aligned-mafft-einsi_trim-gt4_iqtree-bb2000-alrt2000.log\u001b[m\u001b[K\u001b[36m\u001b[K:\u001b[m\u001b[K\u001b[01;31m\u001b[KBest-fit model\u001b[m\u001b[K: JTT+R6 chosen according to BIC\n",
      "\u001b[35m\u001b[Kanalyses/MIKC_orthogroup_selection-basal-v7_guide-v4_trees/aligned-mafft-einsi_trim-gt5/MIKC_orthogroup_selection-basal-v7_guide-v4_aligned-mafft-einsi_trim-gt5_iqtree-bb2000-alrt2000.log\u001b[m\u001b[K\u001b[36m\u001b[K:\u001b[m\u001b[K\u001b[01;31m\u001b[KBest-fit model\u001b[m\u001b[K: LG+R7 chosen according to BIC\n"
     ]
    }
   ],
   "source": [
    "grep 'Best-fit model' analyses/\"$inseq\"_trees/*/*.log"
   ]
  },
  {
   "cell_type": "code",
   "execution_count": null,
   "metadata": {
    "scrolled": false
   },
   "outputs": [],
   "source": [
    "tail -n 30 $iqprefix.log"
   ]
  },
  {
   "cell_type": "code",
   "execution_count": null,
   "metadata": {
    "scrolled": true
   },
   "outputs": [],
   "source": [
    "grep 'Best-fit model' $iqprefix.log"
   ]
  },
  {
   "cell_type": "markdown",
   "metadata": {},
   "source": [
    "## Conclusions\n",
    "\n",
    "Walking through these trees quickly, I like the first and the latter the most. (-gt .1 and -gt .5).\n",
    "\n",
    "Here is a snapshot of both:\n",
    "\n",
    "### 1\n",
    "![gt .1](analyses/MIKC_orthogroup_selection-basal-v7_guide-v4_trees/aligned-mafft-einsi_trim-gt1/MIKC_orthogroup_selection-basal-v7_guide-v4_aligned-mafft-einsi_trim-gt1_iqtree-bb2000-alrt2000.png)\n",
    "\n",
    "### 5\n",
    "![gt .5](analyses/MIKC_orthogroup_selection-basal-v7_guide-v4_trees/aligned-mafft-einsi_trim-gt5/MIKC_orthogroup_selection-basal-v7_guide-v4_aligned-mafft-einsi_trim-gt5_iqtree-bb2000-alrt2000.png)"
   ]
  },
  {
   "cell_type": "markdown",
   "metadata": {},
   "source": [
    "Regardless which one you pick, branch lenghts separating the major clades are still very short but those nodes tend to be better supported in the `-gt .5` tree.\n",
    "\n",
    "Also the homeotic B genes end up where they should, and the algae, bryophyte, lycophyte, monilophyte speciation patter surelly makes that I trust this tree better.\n",
    "\n",
    "Visually, I miss the algal outgroup, it communicated the strength of this root much better.\n",
    "\n",
    "I wonder wether it is justified and desireable to remove more reduculously long branches and to reduce the amount of input species. \n",
    "Looking at the list of species, I don't want to remove any, but looking at the tree, I think it would do well with a couple less. \n",
    "\n",
    "Let's make a normal bootstrap version of the `-gt .5 tree` and see if it is consistent with the UFbootstrap one. \n",
    "I'll resuse the model fitted before, since the alignment is unchanged."
   ]
  },
  {
   "cell_type": "code",
   "execution_count": null,
   "metadata": {},
   "outputs": [
    {
     "name": "stdout",
     "output_type": "stream",
     "text": [
      "making a tree of file data/alignments_trimmed/MIKC_orthogroup_selection-basal-v7_guide-v4_aligned-mafft-einsi_trim-gt5.fasta\n",
      "Making a directory aligned-mafft-einsi_trim-gt5 to store trees (name based on alignment filename)\n",
      "Making analyses/MIKC_orthogroup_selection-basal-v7_guide-v4_trees/aligned-mafft-einsi_trim-gt5/MIKC_orthogroup_selection-basal-v7_guide-v4_aligned-mafft-einsi_trim-gt5_iqtree-LGR7-b1000.treefile\n"
     ]
    }
   ],
   "source": [
    "a=data/alignments_trimmed/MIKC_orthogroup_selection-basal-v7_guide-v4_aligned-mafft-einsi_trim-gt5.fasta\n",
    "\n",
    "iqpendix='iqtree-LGR7-b1000'\n",
    "#iqpendix='iqtree-MFP-bb2000-alrt2000'\n",
    "\n",
    "echo \"making a tree of file $a\"\n",
    "\n",
    "file_appendix=$(echo $a | cut -d '/' -f 3- | sed \"s/$inseq\\_//\" | sed \"s/.fasta//\")\n",
    "echo \"Making a directory $file_appendix to store trees (name based on alignment filename)\"\n",
    "\n",
    "if   [ ! -d    analyses/\"$inseq\"_trees/\"$file_appendix\" ]\n",
    "then mkdir -p  analyses/\"$inseq\"_trees/\"$file_appendix\" \n",
    "fi\n",
    "\n",
    "iqprefix=analyses/\"$inseq\"_trees/\"$file_appendix\"/\"$inseq\"_\"$file_appendix\"_\"$iqpendix\"\n",
    "\n",
    "if   [ ! -f \"$iqprefix\".treefile ]\n",
    "then echo \"Making $iqprefix.treefile\"\n",
    "     nice iqtree -s $a    \\\n",
    "                 -m LG+R7  \\\n",
    "                 -b 1000  \\\n",
    "                 -nt AUTO -ntmax $(nproc) \\\n",
    "                 -pre  \"$iqprefix\" \\\n",
    "                 2>   \"$iqprefix\".stderr \\\n",
    "                 >    \"$iqprefix\".stdout && cat \"$iqprefix\".log | mail -s IQtree_run laura\n",
    "else echo \"NOT OVERWRITING $iqprefix.treefile\"\n",
    "fi"
   ]
  },
  {
   "cell_type": "markdown",
   "metadata": {},
   "source": [
    "## observations\n",
    "\n",
    "My suspisions were correct, in the UFbootstrap tree there is barely support for the important clades, let alone their relative position to each other. \n",
    "In the nonparametric tree, it turns out those fast methods were a substantial over-estimation.\n",
    "Also the support at the base of several important clades is practically absent. \n",
    "[itol](https://itol.embl.de/tree/1312115999190001598359608#)\n",
    "\n",
    "Most of the topoply is reproducible in the many trees made, but the signal is still weak. \n",
    "![](analyses/MIKC_orthogroup_selection-basal-v7_guide-v4_trees/aligned-mafft-einsi_trim-gt5/MIKC_orthogroup_selection-basal-v7_guide-v4_aligned-mafft-einsi_trim-gt5_iqtree-LGR7-b1000.png)"
   ]
  }
 ],
 "metadata": {
  "kernelspec": {
   "display_name": "Bash",
   "language": "bash",
   "name": "bash"
  },
  "language_info": {
   "codemirror_mode": "shell",
   "file_extension": ".sh",
   "mimetype": "text/x-sh",
   "name": "bash"
  }
 },
 "nbformat": 4,
 "nbformat_minor": 2
}
