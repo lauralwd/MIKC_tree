{
 "cells": [
  {
   "cell_type": "markdown",
   "metadata": {},
   "source": [
    "# Aim\n",
    "\n",
    "In this itteration of the analysis, I want to:\n",
    " 1. Remove partial sequences even if they are azolla/salivinia or guide sequence\n",
    " 2. add stronger outgroup\n",
    " \n",
    "Then, re-allign, trim and infer tree as done before.\n",
    "\n",
    "Point 1. has been taken care of in a file `data/MIKC_orthogroup_selection-basal-v8_guide-v4.list`. \n",
    "This file was made by opening `MIKC_orthogroup_selection-basal-v7_guide-v4_aligned-mafft-einsi_trim-gt5.fasta` in seaview, then deleting all sequences that have too big portions of sequence missing.\n",
    "When this was done before, exceptions were made for sequences of _Azolla_ and _Salvinia_ and _Arabidopsis_. \n",
    "This time, no exceptions.\n",
    "I wonder whether this will improve the signal for the major clades.\n",
    "\n",
    "Second, I will add a couple of algal sequences that toghether constitute an outgroup.\n",
    "I wonder if this might help the signal for those nodes closest to the outgroup.\n",
    "\n",
    "I'll add the algeal sequences listed below back into the alignment as well.\n",
    " - tr_Q5KU24_Q5KU24_COLSC_MADS-box_transcription_factor_CsMADS1_OS_Coleochaete_scutata_OX_3125_GN_csmads1_PE_2_SV_1\n",
    " - MNNM-2042156-Cosmarium_granatum\n",
    " - TPHT-2126301-Spirotaenia_sp.\n",
    " \n",
    "Add LAMB MADSbox genes for annotation purposes.\n"
   ]
  },
  {
   "cell_type": "code",
   "execution_count": 25,
   "metadata": {},
   "outputs": [
    {
     "name": "stdout",
     "output_type": "stream",
     "text": [
      "(phylogenetics) "
     ]
    },
    {
     "ename": "",
     "evalue": "1",
     "output_type": "error",
     "traceback": []
    }
   ],
   "source": [
    "grep -A 1 -f <(echo -e \"Q5KU24\\nMNNM-2042156-Cosmarium_granatum\\nTPHT-2126301-Spirotaenia_sp.\") \\\n",
    "        ./data/MIKC_orthogroup_selection-basal-v6_guide-v4.fasta \\\n",
    "      > ./data/MIKC_orthogroup_selection-basal-v8_guide-v4.fasta"
   ]
  },
  {
   "cell_type": "code",
   "execution_count": 26,
   "metadata": {},
   "outputs": [
    {
     "name": "stdout",
     "output_type": "stream",
     "text": [
      "(phylogenetics) "
     ]
    },
    {
     "ename": "",
     "evalue": "1",
     "output_type": "error",
     "traceback": []
    }
   ],
   "source": [
    "grep -A1 -f ./data/MIKC_orthogroup_selection-basal-v8_guide-v4.list \\\n",
    "            ./data/MIKC_orthogroup_selection-basal-v6_guide-v4.fasta \\\n",
    "         >> ./data/MIKC_orthogroup_selection-basal-v8_guide-v4.fasta"
   ]
  },
  {
   "cell_type": "code",
   "execution_count": 27,
   "metadata": {},
   "outputs": [
    {
     "name": "stdout",
     "output_type": "stream",
     "text": [
      "(phylogenetics) "
     ]
    },
    {
     "ename": "",
     "evalue": "1",
     "output_type": "error",
     "traceback": []
    }
   ],
   "source": [
    "cat data/LAMB_X.fasta >> ./data/MIKC_orthogroup_selection-basal-v8_guide-v4.fasta"
   ]
  },
  {
   "cell_type": "code",
   "execution_count": 28,
   "metadata": {
    "scrolled": true
   },
   "outputs": [
    {
     "name": "stdout",
     "output_type": "stream",
     "text": [
      "\u001b[35m\u001b[K./data/MIKC_orthogroup_selection-basal-v3_guide-v4.fasta\u001b[m\u001b[K\u001b[36m\u001b[K:\u001b[m\u001b[K425\n",
      "\u001b[35m\u001b[K./data/MIKC_orthogroup_selection-basal-v4_guide-v4.fasta\u001b[m\u001b[K\u001b[36m\u001b[K:\u001b[m\u001b[K235\n",
      "\u001b[35m\u001b[K./data/MIKC_orthogroup_selection-basal-v5_guide-v4.fasta\u001b[m\u001b[K\u001b[36m\u001b[K:\u001b[m\u001b[K259\n",
      "\u001b[35m\u001b[K./data/MIKC_orthogroup_selection-basal-v6_guide-v4.fasta\u001b[m\u001b[K\u001b[36m\u001b[K:\u001b[m\u001b[K188\n",
      "\u001b[35m\u001b[K./data/MIKC_orthogroup_selection-basal-v7_guide-v4.fasta\u001b[m\u001b[K\u001b[36m\u001b[K:\u001b[m\u001b[K165\n",
      "\u001b[35m\u001b[K./data/MIKC_orthogroup_selection-basal-v8_guide-v4.fasta\u001b[m\u001b[K\u001b[36m\u001b[K:\u001b[m\u001b[K135\n",
      "(phylogenetics) "
     ]
    },
    {
     "ename": "",
     "evalue": "1",
     "output_type": "error",
     "traceback": []
    }
   ],
   "source": [
    "grep '>' -c ./data/MIKC_orthogroup_selection-basal-v*_guide-v4.fasta"
   ]
  },
  {
   "cell_type": "code",
   "execution_count": 29,
   "metadata": {
    "scrolled": true
   },
   "outputs": [
    {
     "name": "stdout",
     "output_type": "stream",
     "text": [
      ">tr|Q5KU24|Q5KU24_COLSC MADS-box transcription factor CsMADS1 OS=Coleochaete scutata OX=3125 GN=csmads1 PE=2 SV=1\n",
      ">MNNM-2042156-Cosmarium_granatum\n",
      ">TPHT-2126301-Spirotaenia_sp.\n",
      ">cgMADS1_BAD88436\n",
      ">CRM1_CAA69276\n",
      ">CRM2_CAA69277\n",
      ">CRM3_CAA69407\n",
      ">CRM4_CAA69408\n",
      ">CRM5_CAA69409\n",
      ">CRM6_CAA69410\n",
      "(phylogenetics) "
     ]
    },
    {
     "ename": "",
     "evalue": "1",
     "output_type": "error",
     "traceback": []
    }
   ],
   "source": [
    "grep '>' ./data/MIKC_orthogroup_selection-basal-v8_guide-v4.fasta | head"
   ]
  },
  {
   "cell_type": "markdown",
   "metadata": {},
   "source": [
    "# align & trim"
   ]
  },
  {
   "cell_type": "code",
   "execution_count": 1,
   "metadata": {},
   "outputs": [],
   "source": [
    "inseq='MIKC_orthogroup_selection-basal-v8_guide-v4'"
   ]
  },
  {
   "cell_type": "code",
   "execution_count": 31,
   "metadata": {
    "scrolled": true
   },
   "outputs": [
    {
     "name": "stdout",
     "output_type": "stream",
     "text": [
      "(phylogenetics) (phylogenetics) (phylogenetics) outputhat23=16\n",
      "treein = 0\n",
      "compacttree = 0\n",
      "stacksize: 8192 kb\n",
      "All-to-all alignment.\n",
      "tbfast-pair (aa) Version 7.407\n",
      "alg=N, model=BLOSUM62, 2.00, -0.00, -0.00, noshift, amax=0.0\n",
      "4 thread(s)\n",
      "\n",
      "outputhat23=16\n",
      "Loading 'hat3.seed' ... \n",
      "done.\n",
      "Writing hat3 for iterative refinement\n",
      "Gap Penalty = -1.53, +0.00, +0.00\n",
      "tbutree = 1, compacttree = 0\n",
      "Constructing a UPGMA tree ... \n",
      "  130 / 135\n",
      "done.\n",
      "\n",
      "Progressive alignment ... \n",
      "STEP   114 /134 (thread    3) \n",
      "Reallocating (by thread 0) ..done. *alloclen = 1948\n",
      "STEP   134 /134 (thread    1) \n",
      "done.\n",
      "tbfast (aa) Version 7.407\n",
      "alg=A, model=BLOSUM62, 1.53, -0.00, -0.00, noshift, amax=0.0\n",
      "4 thread(s)\n",
      "\n",
      "minimumweight = 0.000010\n",
      "autosubalignment = 0.000000\n",
      "nthread = 4\n",
      "randomseed = 0\n",
      "blosum 62 / kimura 200\n",
      "poffset = 0\n",
      "niter = 16\n",
      "sueff_global = 0.100000\n",
      "nadd = 16\n",
      "Loading 'hat3' ... done.\n",
      "\n",
      "  130 / 135\n",
      "Segment   1/  1    1- 831\n",
      "005-0266-1 (thread    3) worse         \n",
      "Converged2.\n",
      "done\n",
      "dvtditr (aa) Version 7.407\n",
      "alg=A, model=BLOSUM62, 1.53, -0.00, -0.00, noshift, amax=0.0\n",
      "4 thread(s)\n",
      "\n",
      "\n",
      "Strategy:\n",
      " E-INS-i (Suitable for sequences with long unalignable regions, very slow)\n",
      " Iterative refinement method (<16) with LOCAL pairwise alignment with generalized affine gap costs (Altschul 1998)\n",
      "\n",
      "If unsure which option to use, try 'mafft --auto input > output'.\n",
      "For more information, see 'mafft --help', 'mafft --man' and the mafft page.\n",
      "\n",
      "The default gap scoring scheme has been changed in version 7.110 (2013 Oct).\n",
      "It tends to insert more gaps into gap-rich regions than previous versions.\n",
      "To disable this change, add the --leavegappyregion option.\n",
      "\n",
      "Parameters for the E-INS-i option have been changed in version 7.243 (2015 Jun).\n",
      "To switch to the old parameters, use --oldgenafpair, instead of --genafpair.\n",
      "\n",
      "(phylogenetics) "
     ]
    }
   ],
   "source": [
    "rm \"./data/alignments_raw/$inseq\"_aligned-mafft-einsi.fasta\n",
    "conda activate phylogenetics\n",
    "if    [ ! -d ./data/alignments_raw/ ]\n",
    "then  mkdir  ./data/alignments_raw\n",
    "fi\n",
    "if    [ ! -f \"./data/alignments_raw/$inseq\"_aligned-mafft-einsi.fasta ]\n",
    "then  einsi --thread $(nproc) data/$inseq.fasta > ./data/alignments_raw/\"$inseq\"_aligned-mafft-einsi.fasta\n",
    "fi\n",
    "conda deactivate"
   ]
  },
  {
   "cell_type": "code",
   "execution_count": 33,
   "metadata": {},
   "outputs": [],
   "source": [
    "rm ./data/alignments_trimmed/$inseq*"
   ]
  },
  {
   "cell_type": "code",
   "execution_count": 4,
   "metadata": {
    "scrolled": true
   },
   "outputs": [
    {
     "name": "stdout",
     "output_type": "stream",
     "text": [
      "(phylogenetics) (phylogenetics) (phylogenetics) (phylogenetics) (phylogenetics) (phylogenetics) trimming alignment data/alignments_raw/MIKC_orthogroup_selection-basal-v8_guide-v4_aligned-mafft-einsi.fasta with gap threshold 1\n",
      "[1] 32268\n",
      "(phylogenetics) [1]+  Done                    trimal -in $a -out data/alignments_trimmed/\"$inseq\"_\"$appendix\"_\"$trimappendix\".fasta -automated1 -htmlout data/alignments_trimmed/\"$inseq\"_\"$appendix\"_\"$trimappendix\".html\n",
      "(phylogenetics) "
     ]
    }
   ],
   "source": [
    "conda activate phylogenetics\n",
    "if    [ ! -d data/alignments_trimmed ]\n",
    "then  mkdir  data/alignments_trimmed \n",
    "fi\n",
    "\n",
    "#gt=( 1 2 3 4 5 6 7 8 )\n",
    "gt=1\n",
    "# define appendix only once here:\n",
    "for g in ${gt[@]}\n",
    "do  trimappendix=trim-auto\n",
    "    for a in \"data/alignments_raw/$inseq\"_aligned*.fasta\n",
    "    do  appendix=$(echo $a | cut -d '/' -f 3- | sed \"s/$inseq\\_//\" | sed \"s/.fasta//\")\n",
    "        if    [ ! -f \"$appendix\"_\"$trimappendix\".fasta ]\n",
    "        then  echo \"trimming alignment $a with gap threshold $g\"\n",
    "              sed -i 's/ /_/g' $a\n",
    "              trimal -in $a   \\\n",
    "                     -out data/alignments_trimmed/\"$inseq\"_\"$appendix\"_\"$trimappendix\".fasta \\\n",
    "                     -automated1 \\\n",
    "                     -htmlout data/alignments_trimmed/\"$inseq\"_\"$appendix\"_\"$trimappendix\".html &\n",
    "        fi\n",
    "    done\n",
    "done\n",
    "wait\n",
    "conda deactivate"
   ]
  },
  {
   "cell_type": "code",
   "execution_count": 35,
   "metadata": {},
   "outputs": [
    {
     "name": "stdout",
     "output_type": "stream",
     "text": [
      "(phylogenetics) (phylogenetics) "
     ]
    }
   ],
   "source": [
    "rm data/alignments_trimmed/MIKC_orthogroup_selection-basal-v8_guide-v4_aligned-mafft-einsi_trim-gt2-Mdomain.*\n",
    "conda activate phylogenetics\n",
    "trimal -in  data/alignments_trimmed/MIKC_orthogroup_selection-basal-v8_guide-v4_aligned-mafft-einsi_trim-gt2.fasta \\\n",
    "       -selectcols { 61-240 } \\\n",
    "       -out data/alignments_trimmed/MIKC_orthogroup_selection-basal-v8_guide-v4_aligned-mafft-einsi_trim-gt2-Mdomain.fasta\n",
    "conda deactivate"
   ]
  },
  {
   "cell_type": "code",
   "execution_count": 36,
   "metadata": {
    "scrolled": true
   },
   "outputs": [
    {
     "name": "stdout",
     "output_type": "stream",
     "text": [
      "(jalview) [1] 4394\n",
      "(jalview) [1]+  Done                    jalview -nodisplay -open $prefix.fasta -colour CLUSTAL -png $prefix.png > /dev/null 2> /dev/null\n",
      "(jalview) "
     ]
    }
   ],
   "source": [
    "conda activate jalview\n",
    "for   i in data/alignments_trimmed/*.fasta\n",
    "do    prefix=$(echo $i | sed 's/\\.fasta//')\n",
    "      if    [ ! -f $prefix.png ]\n",
    "      then  jalview -nodisplay \\\n",
    "                    -open $prefix.fasta \\\n",
    "                    -colour CLUSTAL \\\n",
    "                    -png  $prefix.png > /dev/null 2> /dev/null &\n",
    "      fi\n",
    "done\n",
    "wait\n",
    "conda deactivate"
   ]
  },
  {
   "cell_type": "markdown",
   "metadata": {},
   "source": [
    "The Final alignment looks like this, quite happy with it. \n",
    "### gt 1\n",
    "![image.png](data/alignments_trimmed/MIKC_orthogroup_selection-basal-v8_guide-v4_aligned-mafft-einsi_trim-gt1.png)\n",
    "\n",
    "### gt 2\n",
    "![image.png](data/alignments_trimmed/MIKC_orthogroup_selection-basal-v8_guide-v4_aligned-mafft-einsi_trim-gt2.png)\n",
    "\n",
    "### gt 3\n",
    "![image.png](data/alignments_trimmed/MIKC_orthogroup_selection-basal-v8_guide-v4_aligned-mafft-einsi_trim-gt3.png)\n",
    "\n",
    "### gt 4\n",
    "![image.png](data/alignments_trimmed/MIKC_orthogroup_selection-basal-v8_guide-v4_aligned-mafft-einsi_trim-gt4.png)\n",
    "\n",
    "### gt 5\n",
    "![image.png](data/alignments_trimmed/MIKC_orthogroup_selection-basal-v8_guide-v4_aligned-mafft-einsi_trim-gt5.png)\n",
    "\n",
    "### gt 6\n",
    "![image.png](data/alignments_trimmed/MIKC_orthogroup_selection-basal-v8_guide-v4_aligned-mafft-einsi_trim-gt6.png)\n",
    "\n",
    "### gt 7\n",
    "![image.png](data/alignments_trimmed/MIKC_orthogroup_selection-basal-v8_guide-v4_aligned-mafft-einsi_trim-gt7.png)\n",
    "\n",
    "### gt 8\n",
    "![image.png](data/alignments_trimmed/MIKC_orthogroup_selection-basal-v8_guide-v4_aligned-mafft-einsi_trim-gt8.png)\n",
    "\n",
    "### auto\n",
    "![image.png](data/alignments_trimmed/MIKC_orthogroup_selection-basal-v8_guide-v4_aligned-mafft-einsi_trim-auto.png)\n",
    "\n",
    "### Mdomain\n",
    "![image.png](data/alignments_trimmed/MIKC_orthogroup_selection-basal-v8_guide-v4_aligned-mafft-einsi_trim-gt2-Mdomain.png)\n"
   ]
  },
  {
   "cell_type": "code",
   "execution_count": null,
   "metadata": {},
   "outputs": [],
   "source": []
  },
  {
   "cell_type": "markdown",
   "metadata": {},
   "source": [
    "Now there is new sequences that look too gappy, but that's how things go. Let's move on"
   ]
  },
  {
   "cell_type": "markdown",
   "metadata": {},
   "source": [
    "# Tree inference"
   ]
  },
  {
   "cell_type": "code",
   "execution_count": 5,
   "metadata": {},
   "outputs": [
    {
     "name": "stdout",
     "output_type": "stream",
     "text": [
      "Jackknife proportion must be between 0.0 and 1.0\n"
     ]
    }
   ],
   "source": [
    "tail $iqprefix.stderr"
   ]
  },
  {
   "cell_type": "code",
   "execution_count": 6,
   "metadata": {},
   "outputs": [
    {
     "name": "stdout",
     "output_type": "stream",
     "text": [
      "(phylogenetics) Making a directory aligned-mafft-einsi_trim-auto to store trees (name based on alignment filename)\n",
      "making a tree of file data/alignments_trimmed/MIKC_orthogroup_selection-basal-v8_guide-v4_aligned-mafft-einsi_trim-auto.fasta\n",
      "(phylogenetics) "
     ]
    }
   ],
   "source": [
    "conda activate phylogenetics\n",
    "for a in data/alignments_trimmed/\"$inseq\"_aligned*auto.fasta\n",
    "do  iqpendix='iqtree-j30'\n",
    "    #iqpendix='iqtree-bb2000-alrt2000'\n",
    "\n",
    "    file_appendix=$(echo $a | cut -d '/' -f 3- | sed \"s/$inseq\\_//\" | sed \"s/.fasta//\")\n",
    "    \n",
    "    if   [ ! -d    analyses/\"$inseq\"_trees/\"$file_appendix\" ]\n",
    "    then echo \"Making a directory $file_appendix to store trees (name based on alignment filename)\"\n",
    "         mkdir -p  analyses/\"$inseq\"_trees/\"$file_appendix\" \n",
    "    fi\n",
    "\n",
    "    iqprefix=analyses/\"$inseq\"_trees/\"$file_appendix\"/\"$inseq\"_\"$file_appendix\"_\"$iqpendix\"\n",
    "    if   [ ! -f \"$iqprefix\".treefile ]\n",
    "    then echo \"making a tree of file $a\"\n",
    "         nice iqtree -s $a \\\n",
    "                     -m 'JTT+R7' \\\n",
    "                     -j 0.3  \\\n",
    "                     -nt AUTO \\\n",
    "                     -ntmax $(nproc)  \\\n",
    "                     -pre  \"$iqprefix\" \\\n",
    "                     2>   \"$iqprefix\".stderr \\\n",
    "                      >    \"$iqprefix\".stdout\n",
    "    cat \"$iqprefix\".log | mail -s \"IQtree_run jackknife $a\" laura\n",
    "    fi\n",
    "done\n",
    "conda deactivate"
   ]
  },
  {
   "cell_type": "code",
   "execution_count": 7,
   "metadata": {},
   "outputs": [
    {
     "name": "stdout",
     "output_type": "stream",
     "text": [
      "(phylogenetics) Making a directory aligned-mafft-einsi_trim-gt2-Mdomain to store trees (name based on alignment filename)\n",
      "making a tree of file data/alignments_trimmed/MIKC_orthogroup_selection-basal-v8_guide-v4_aligned-mafft-einsi_trim-gt2-Mdomain.fasta\n",
      "(phylogenetics) "
     ]
    }
   ],
   "source": [
    "conda activate phylogenetics\n",
    "    for a in data/alignments_trimmed/\"$inseq\"_aligned*Mdomain.fasta\n",
    "do  iqpendix='iqtree-j30'\n",
    "    #iqpendix='iqtree-bb2000-alrt2000'\n",
    "\n",
    "    file_appendix=$(echo $a | cut -d '/' -f 3- | sed \"s/$inseq\\_//\" | sed \"s/.fasta//\")\n",
    "    \n",
    "    if   [ ! -d    analyses/\"$inseq\"_trees/\"$file_appendix\" ]\n",
    "    then echo \"Making a directory $file_appendix to store trees (name based on alignment filename)\"\n",
    "         mkdir -p  analyses/\"$inseq\"_trees/\"$file_appendix\" \n",
    "    fi\n",
    "\n",
    "    iqprefix=analyses/\"$inseq\"_trees/\"$file_appendix\"/\"$inseq\"_\"$file_appendix\"_\"$iqpendix\"\n",
    "    if   [ ! -f \"$iqprefix\".treefile ]\n",
    "    then echo \"making a tree of file $a\"\n",
    "         nice iqtree -s $a \\\n",
    "                     -m 'JTT+R7' \\\n",
    "                     -j 0.3  \\\n",
    "                     -nt AUTO \\\n",
    "                     -ntmax $(nproc)  \\\n",
    "                     -pre  \"$iqprefix\" \\\n",
    "                     2>   \"$iqprefix\".stderr \\\n",
    "                      >    \"$iqprefix\".stdout\n",
    "    cat \"$iqprefix\".log | mail -s \"IQtree_run jackknife $a\" laura\n",
    "    fi\n",
    "done\n",
    "conda deactivate"
   ]
  },
  {
   "cell_type": "markdown",
   "metadata": {},
   "source": [
    "# observations\n",
    "\n",
    "Looking at just the alignments, I like -gt `.5` the most. \n",
    "However looking at the trees, I'm continously surprised by how much some clades jump around. \n",
    "That is for different trims of this version, but also in between versoins.\n",
    "The algal outgroup does not cluster with lycophytes and bryophytes as I have observed before, but instead with a fern clade or in the middle of a seed-plant clade. \n",
    "Then it does cluster close to lycophytes and bryophtes again in `-gt .3`\n",
    "The homeotic B genes are well separated from their ACDE counter parts, which is an improvement over tree basalv6 for example.\n",
    "I should draw this tree unrooted, that is sure. (Except for the `-gt .3`, that looks ok)\n",
    "\n",
    "Prioritising a propper speciation pattern over if I like the alignment or not, I'm inclined to go for tree `-gt .3`.\n",
    "Our main observation, that our fern clade of interest is a sister clade of homeotic ACDE genes, stands in practically all trees I made and also in this particular trim of version basal8.\n",
    "Homeotic B genes seem to be older, which also makes sense with literature.\n",
    "Finally, lycophytes and bryophtes are drawn close to algae which corresponds to trees published before and the expected speciation pattern.\n",
    "Ideally, I would make a normal bootstrap version of this tree but I doubt very much I get the time to wait a couple of days for that tree to finish.\n",
    "\n",
    "Actually, I can draw a root in this particular trim, which I think is required for adding extra layers of data. \n",
    "\n",
    "\n"
   ]
  },
  {
   "cell_type": "markdown",
   "metadata": {},
   "source": [
    "On second thought, I can make the 'normal bootstrap' with just ~~100~~200 bootstraps in stead of 1000 to save some time."
   ]
  },
  {
   "cell_type": "code",
   "execution_count": 1,
   "metadata": {
    "scrolled": true
   },
   "outputs": [
    {
     "name": "stdout",
     "output_type": "stream",
     "text": [
      "\u001b[35m\u001b[K./analyses/MIKC_orthogroup_selection-basal-v8_guide-v4_trees/aligned-mafft-einsi_trim-gt1/MIKC_orthogroup_selection-basal-v8_guide-v4_aligned-mafft-einsi_trim-gt1_iqtree-bb2000-alrt2000.log\u001b[m\u001b[K\u001b[36m\u001b[K:\u001b[m\u001b[K\u001b[01;31m\u001b[KBest-fit\u001b[m\u001b[K model: JTT+R7 chosen according to BIC\n",
      "\u001b[35m\u001b[K./analyses/MIKC_orthogroup_selection-basal-v8_guide-v4_trees/aligned-mafft-einsi_trim-gt2/MIKC_orthogroup_selection-basal-v8_guide-v4_aligned-mafft-einsi_trim-gt2_iqtree-bb2000-alrt2000.log\u001b[m\u001b[K\u001b[36m\u001b[K:\u001b[m\u001b[K\u001b[01;31m\u001b[KBest-fit\u001b[m\u001b[K model: JTT+R7 chosen according to BIC\n",
      "\u001b[35m\u001b[K./analyses/MIKC_orthogroup_selection-basal-v8_guide-v4_trees/aligned-mafft-einsi_trim-gt3/MIKC_orthogroup_selection-basal-v8_guide-v4_aligned-mafft-einsi_trim-gt3_iqtree-bb2000-alrt2000.log\u001b[m\u001b[K\u001b[36m\u001b[K:\u001b[m\u001b[K\u001b[01;31m\u001b[KBest-fit\u001b[m\u001b[K model: JTT+R7 chosen according to BIC\n",
      "\u001b[35m\u001b[K./analyses/MIKC_orthogroup_selection-basal-v8_guide-v4_trees/aligned-mafft-einsi_trim-gt4/MIKC_orthogroup_selection-basal-v8_guide-v4_aligned-mafft-einsi_trim-gt4_iqtree-bb2000-alrt2000.log\u001b[m\u001b[K\u001b[36m\u001b[K:\u001b[m\u001b[K\u001b[01;31m\u001b[KBest-fit\u001b[m\u001b[K model: JTT+R6 chosen according to BIC\n",
      "\u001b[35m\u001b[K./analyses/MIKC_orthogroup_selection-basal-v8_guide-v4_trees/aligned-mafft-einsi_trim-gt5/MIKC_orthogroup_selection-basal-v8_guide-v4_aligned-mafft-einsi_trim-gt5_iqtree-bb2000-alrt2000.log\u001b[m\u001b[K\u001b[36m\u001b[K:\u001b[m\u001b[K\u001b[01;31m\u001b[KBest-fit\u001b[m\u001b[K model: JTT+R7 chosen according to BIC\n",
      "\u001b[35m\u001b[K./analyses/MIKC_orthogroup_selection-basal-v8_guide-v4_trees/aligned-mafft-einsi_trim-gt6/MIKC_orthogroup_selection-basal-v8_guide-v4_aligned-mafft-einsi_trim-gt6_iqtree-bb2000-alrt2000.log\u001b[m\u001b[K\u001b[36m\u001b[K:\u001b[m\u001b[K\u001b[01;31m\u001b[KBest-fit\u001b[m\u001b[K model: LG+R5 chosen according to BIC\n",
      "\u001b[35m\u001b[K./analyses/MIKC_orthogroup_selection-basal-v8_guide-v4_trees/aligned-mafft-einsi_trim-gt7/MIKC_orthogroup_selection-basal-v8_guide-v4_aligned-mafft-einsi_trim-gt7_iqtree-bb2000-alrt2000.log\u001b[m\u001b[K\u001b[36m\u001b[K:\u001b[m\u001b[K\u001b[01;31m\u001b[KBest-fit\u001b[m\u001b[K model: LG+R5 chosen according to BIC\n",
      "\u001b[35m\u001b[K./analyses/MIKC_orthogroup_selection-basal-v8_guide-v4_trees/aligned-mafft-einsi_trim-gt8/MIKC_orthogroup_selection-basal-v8_guide-v4_aligned-mafft-einsi_trim-gt8_iqtree-bb2000-alrt2000.log\u001b[m\u001b[K\u001b[36m\u001b[K:\u001b[m\u001b[K\u001b[01;31m\u001b[KBest-fit\u001b[m\u001b[K model: LG+R5 chosen according to BIC\n"
     ]
    }
   ],
   "source": [
    "grep Best-fit ./analyses/MIKC_orthogroup_selection-basal-v8_guide-v4_trees/*/*log"
   ]
  },
  {
   "cell_type": "markdown",
   "metadata": {},
   "source": [
    "The 200 non parametric bootstrap tree confirms my suspisions that support for the upper, more interesting nodes is crap. \n",
    "I'm running out of ideas, and definetely out of time to improve upon this, if that is even possible.\n",
    "Perhaps the information is simply not in the amino acid alignment.\n",
    "\n",
    "PI want's to submit paper today, but I'll continue improving version8 of the tree after wards, just to be sure.\n",
    "One thing I messed up is that too much Azolla sequences are missing, this I will fix later. \n",
    "First version7 must be pretefied and annotated into publication figure format.\n",
    "\n",
    "The nonparametric tree, missing some Azfi sequences of interest looks like this:\n",
    "![nonparametric tree missing azfi seqs](analyses/MIKC_orthogroup_selection-basal-v8_guide-v4_trees/aligned-mafft-einsi_trim-gt5/MIKC_orthogroup_selection-basal-v8_guide-v4_aligned-mafft-einsi_trim-gt5_iqtree-b200_missingAzfiseqs.png)"
   ]
  },
  {
   "cell_type": "markdown",
   "metadata": {},
   "source": [
    "Second, I realised I shouldn't compare trees as much by their bootstrap values on nodes I find important, but also on overal likelyhood and the BIC AIC, etcetera.\n",
    "So let's do that for the shape of it."
   ]
  },
  {
   "cell_type": "code",
   "execution_count": 12,
   "metadata": {},
   "outputs": [
    {
     "name": "stdout",
     "output_type": "stream",
     "text": [
      "aligned-mafft-einsi_trim-gt1/MIKC_orthogroup_selection-basal-v8_guide-v4_aligned-mafft-einsi_trim-gt1_iqtree-bb2000-alrt2000.iqtree\n",
      "\u001b[01;31m\u001b[KLog-likelihood of the tree\u001b[m\u001b[K: -32950.7081 (s.e. 1183.3016)\n",
      "Unconstrained log-likelihood (without tree): -1704.4326\n",
      "Number of free parameters (#branches + #model parameters): 279\n",
      "Akaike information criterion (AIC) score: 66459.4162\n",
      "Corrected Akaike information criterion (AICc) score: 74682.5741\n",
      "Bayesian information criterion (BIC) score: 67491.8399\n",
      "\n",
      "\n",
      "aligned-mafft-einsi_trim-gt2/MIKC_orthogroup_selection-basal-v8_guide-v4_aligned-mafft-einsi_trim-gt2_iqtree-bb2000-alrt2000.iqtree\n",
      "\u001b[01;31m\u001b[KLog-likelihood of the tree\u001b[m\u001b[K: -30663.8011 (s.e. 1015.1381)\n",
      "Unconstrained log-likelihood (without tree): -1321.8361\n",
      "Number of free parameters (#branches + #model parameters): 279\n",
      "Akaike information criterion (AIC) score: 61885.6021\n",
      "Corrected Akaike information criterion (AICc) score: 218125.6021\n",
      "Bayesian information criterion (BIC) score: 62857.8604\n",
      "\n",
      "\n",
      "aligned-mafft-einsi_trim-gt3/MIKC_orthogroup_selection-basal-v8_guide-v4_aligned-mafft-einsi_trim-gt3_iqtree-bb2000-alrt2000.iqtree\n",
      "\u001b[01;31m\u001b[KLog-likelihood of the tree\u001b[m\u001b[K: -29700.8648 (s.e. 974.5684)\n",
      "Unconstrained log-likelihood (without tree): -1218.6226\n",
      "Number of free parameters (#branches + #model parameters): 279\n",
      "Akaike information criterion (AIC) score: 59959.7296\n",
      "Corrected Akaike information criterion (AICc) score: 216199.7296\n",
      "Bayesian information criterion (BIC) score: 60912.8217\n",
      "\n",
      "\n",
      "aligned-mafft-einsi_trim-gt4/MIKC_orthogroup_selection-basal-v8_guide-v4_aligned-mafft-einsi_trim-gt4_iqtree-bb2000-alrt2000.iqtree\n",
      "\u001b[01;31m\u001b[KLog-likelihood of the tree\u001b[m\u001b[K: -27156.4437 (s.e. 954.1347)\n",
      "Unconstrained log-likelihood (without tree): -1053.3677\n",
      "Number of free parameters (#branches + #model parameters): 277\n",
      "Akaike information criterion (AIC) score: 54866.8874\n",
      "Corrected Akaike information criterion (AICc) score: 208878.8874\n",
      "Bayesian information criterion (BIC) score: 55779.1328\n",
      "\n",
      "\n",
      "aligned-mafft-einsi_trim-gt5/MIKC_orthogroup_selection-basal-v8_guide-v4_aligned-mafft-einsi_trim-gt5_iqtree-b200.iqtree\n",
      "\u001b[01;31m\u001b[KLog-likelihood of the tree\u001b[m\u001b[K: -25366.3789 (s.e. 939.9915)\n",
      "Unconstrained log-likelihood (without tree): -947.1292\n",
      "Number of free parameters (#branches + #model parameters): 279\n",
      "Akaike information criterion (AIC) score: 51290.7578\n",
      "Corrected Akaike information criterion (AICc) score: 207530.7578\n",
      "Bayesian information criterion (BIC) score: 52184.6757\n",
      "\n",
      "\n",
      "aligned-mafft-einsi_trim-gt5/MIKC_orthogroup_selection-basal-v8_guide-v4_aligned-mafft-einsi_trim-gt5_iqtree-bb2000-alrt2000.iqtree\n",
      "\u001b[01;31m\u001b[KLog-likelihood of the tree\u001b[m\u001b[K: -25367.6868 (s.e. 939.9221)\n",
      "Unconstrained log-likelihood (without tree): -947.1292\n",
      "Number of free parameters (#branches + #model parameters): 279\n",
      "Akaike information criterion (AIC) score: 51293.3736\n",
      "Corrected Akaike information criterion (AICc) score: 207533.3736\n",
      "Bayesian information criterion (BIC) score: 52187.2915\n",
      "\n",
      "\n",
      "aligned-mafft-einsi_trim-gt6/MIKC_orthogroup_selection-basal-v8_guide-v4_aligned-mafft-einsi_trim-gt6_iqtree-bb2000-alrt2000.iqtree\n",
      "\u001b[01;31m\u001b[KLog-likelihood of the tree\u001b[m\u001b[K: -23961.7328 (s.e. 938.0061)\n",
      "Unconstrained log-likelihood (without tree): -897.6756\n",
      "Number of free parameters (#branches + #model parameters): 275\n",
      "Akaike information criterion (AIC) score: 48473.4657\n",
      "Corrected Akaike information criterion (AICc) score: 200273.4657\n",
      "Bayesian information criterion (BIC) score: 49342.2059\n",
      "\n",
      "\n",
      "aligned-mafft-einsi_trim-gt7/MIKC_orthogroup_selection-basal-v8_guide-v4_aligned-mafft-einsi_trim-gt7_iqtree-bb2000-alrt2000.iqtree\n",
      "\u001b[01;31m\u001b[KLog-likelihood of the tree\u001b[m\u001b[K: -23272.1158 (s.e. 936.9547)\n",
      "Unconstrained log-likelihood (without tree): -873.0857\n",
      "Number of free parameters (#branches + #model parameters): 275\n",
      "Akaike information criterion (AIC) score: 47094.2317\n",
      "Corrected Akaike information criterion (AICc) score: 198894.2317\n",
      "Bayesian information criterion (BIC) score: 47956.5763\n",
      "\n",
      "\n",
      "aligned-mafft-einsi_trim-gt8/MIKC_orthogroup_selection-basal-v8_guide-v4_aligned-mafft-einsi_trim-gt8_iqtree-bb2000-alrt2000.iqtree\n",
      "\u001b[01;31m\u001b[KLog-likelihood of the tree\u001b[m\u001b[K: -20520.9948 (s.e. 898.5484)\n",
      "Unconstrained log-likelihood (without tree): -763.6298\n",
      "Number of free parameters (#branches + #model parameters): 275\n",
      "Akaike information criterion (AIC) score: 41591.9896\n",
      "Corrected Akaike information criterion (AICc) score: 193391.9896\n",
      "Bayesian information criterion (BIC) score: 42423.5568\n",
      "\n",
      "\n"
     ]
    }
   ],
   "source": [
    "for a in ./analyses/MIKC_orthogroup_selection-basal-v8_guide-v4_trees/*/*.iqtree\n",
    "do  echo $a | cut -d '/' -f 4-\n",
    "    grep 'Log-likelihood of the tree' -A 5 $a\n",
    "    echo -e '\\n'\n",
    "done"
   ]
  },
  {
   "cell_type": "markdown",
   "metadata": {},
   "source": [
    "So less information put in, is a higher likelyhood because less noise... \n",
    "Perhaps this is only usefull when comparing trees made with different models."
   ]
  },
  {
   "cell_type": "code",
   "execution_count": 13,
   "metadata": {},
   "outputs": [
    {
     "name": "stdout",
     "output_type": "stream",
     "text": [
      "aligned-mafft-einsi_trim-gt1/MIKC_orthogroup_selection-basal-v7_guide-v4_aligned-mafft-einsi_trim-gt1_iqtree-bb2000-alrt2000.iqtree\n",
      "\u001b[01;31m\u001b[KLog-likelihood of the tree\u001b[m\u001b[K: -43245.2804 (s.e. 1494.8994)\n",
      "Unconstrained log-likelihood (without tree): -2187.9961\n",
      "Number of free parameters (#branches + #model parameters): 337\n",
      "Akaike information criterion (AIC) score: 87164.5607\n",
      "Corrected Akaike information criterion (AICc) score: 94283.6857\n",
      "Bayesian information criterion (BIC) score: 88483.4112\n",
      "\n",
      "\n",
      "aligned-mafft-einsi_trim-gt2/MIKC_orthogroup_selection-basal-v7_guide-v4_aligned-mafft-einsi_trim-gt2_iqtree-bb2000-alrt2000.iqtree\n",
      "\u001b[01;31m\u001b[KLog-likelihood of the tree\u001b[m\u001b[K: -37337.3596 (s.e. 1196.7915)\n",
      "Unconstrained log-likelihood (without tree): -1393.4161\n",
      "Number of free parameters (#branches + #model parameters): 341\n",
      "Akaike information criterion (AIC) score: 75356.7191\n",
      "Corrected Akaike information criterion (AICc) score: 308600.7191\n",
      "Bayesian information criterion (BIC) score: 76560.2544\n",
      "\n",
      "\n",
      "aligned-mafft-einsi_trim-gt3/MIKC_orthogroup_selection-basal-v7_guide-v4_aligned-mafft-einsi_trim-gt3_iqtree-bb2000-alrt2000.iqtree\n",
      "\u001b[01;31m\u001b[KLog-likelihood of the tree\u001b[m\u001b[K: -33401.1613 (s.e. 1110.2429)\n",
      "Unconstrained log-likelihood (without tree): -1110.2079\n",
      "Number of free parameters (#branches + #model parameters): 339\n",
      "Akaike information criterion (AIC) score: 67480.3226\n",
      "Corrected Akaike information criterion (AICc) score: 298000.3226\n",
      "Bayesian information criterion (BIC) score: 68611.7480\n",
      "\n",
      "\n",
      "aligned-mafft-einsi_trim-gt4/MIKC_orthogroup_selection-basal-v7_guide-v4_aligned-mafft-einsi_trim-gt4_iqtree-bb2000-alrt2000.iqtree\n",
      "\u001b[01;31m\u001b[KLog-likelihood of the tree\u001b[m\u001b[K: -30961.6816 (s.e. 1094.5590)\n",
      "Unconstrained log-likelihood (without tree): -990.6902\n",
      "Number of free parameters (#branches + #model parameters): 337\n",
      "Akaike information criterion (AIC) score: 62597.3633\n",
      "Corrected Akaike information criterion (AICc) score: 290409.3633\n",
      "Bayesian information criterion (BIC) score: 63689.8320\n",
      "\n",
      "\n",
      "aligned-mafft-einsi_trim-gt5/MIKC_orthogroup_selection-basal-v7_guide-v4_aligned-mafft-einsi_trim-gt5_iqtree-bb2000-alrt2000.iqtree\n",
      "\u001b[01;31m\u001b[KLog-likelihood of the tree\u001b[m\u001b[K: -29001.0875 (s.e. 1095.5173)\n",
      "Unconstrained log-likelihood (without tree): -916.1785\n",
      "Number of free parameters (#branches + #model parameters): 339\n",
      "Akaike information criterion (AIC) score: 58680.1750\n",
      "Corrected Akaike information criterion (AICc) score: 289200.1750\n",
      "Bayesian information criterion (BIC) score: 59756.8897\n",
      "\n",
      "\n"
     ]
    }
   ],
   "source": [
    "for a in ./analyses/MIKC_orthogroup_selection-basal-v7_guide-v4_trees/*/*.iqtree\n",
    "do  echo $a | cut -d '/' -f 4-\n",
    "    grep 'Log-likelihood of the tree' -A 5 $a\n",
    "    echo -e '\\n'\n",
    "done"
   ]
  },
  {
   "cell_type": "markdown",
   "metadata": {},
   "source": [
    "So that basalv8 trees have heigher likelyhood, but can I really compare these vallues in between different trees based on different alignments. \n",
    "Let's dive into literature again."
   ]
  },
  {
   "cell_type": "markdown",
   "metadata": {},
   "source": [
    "# obersvations\n",
    "Now the v7 nonparametric tree finsihed, I find that boostrap support is very low even at the base of the important clades.\n",
    "I doubt whether the minimal changes I made in v8 will substantially improve that support.\n",
    "Instead I'm now doing a quick test with partitionfinder 2 on the basalv8 gt5 alignment, feeding it the blocks for the M I K and C domains separatelly. \n",
    "\n",
    "Partitionfinder found it's best fitting to have the MIKC domains as one partition with model LG+I+G."
   ]
  },
  {
   "cell_type": "markdown",
   "metadata": {},
   "source": [
    "## Alternatives for support assemessment\n",
    "Going over my phylogeny notes, I read that traditional bootstrap can perform quite bad with sequences that are very similar too each other.\n",
    "It seems that's my case here.\n",
    "\n",
    "Bayesian prosterior probabilities should perform better for data with such low divergence. \n",
    "I did one tree with BEAST before, but I really should make multiple and gain some experience.\n",
    "Addtionally, I don't quite know how to choose my priors in an informed way.\n",
    "\n",
    "Alternativelly, jackkniffing should be more robust.\n",
    "Although that's hardly done anymore, I did notice it's implemented in IQtree. \n",
    "I might give it a try since it's just a simple parameter change in the code I already have.\n",
    "\n",
    "Finally, I had this paper about transfer bootstraps (opposed to the normal Felsensteins bootstrap). \n",
    "This might also deal better with lowly divergent data as is the case for me. https://www.ncbi.nlm.nih.gov/pmc/articles/PMC6030568/pdf/nihms947517.pdf\n",
    "I'll try to install this and have a go at the bootstrap trees I already created before."
   ]
  },
  {
   "cell_type": "markdown",
   "metadata": {},
   "source": [
    "# Shorter alignments.\n",
    "Perhaps there is too much ambiguity in the alignment, hence I'm making a stricter trim of the alignment.\n",
    "One using the auto setting in trimAL, which I have found to be very strict before and is said to be optimised for ML trees.\n",
    "A second containing only the M domain. \n",
    "Of both I'll make phylogenies again and then conclude."
   ]
  },
  {
   "cell_type": "markdown",
   "metadata": {},
   "source": [
    "The auto alignment is trimmed with the trimal loop above, the M domain in a separate code cell. Now let's make both trees."
   ]
  }
 ],
 "metadata": {
  "kernelspec": {
   "display_name": "Bash",
   "language": "bash",
   "name": "bash"
  },
  "language_info": {
   "codemirror_mode": "shell",
   "file_extension": ".sh",
   "mimetype": "text/x-sh",
   "name": "bash"
  }
 },
 "nbformat": 4,
 "nbformat_minor": 2
}
