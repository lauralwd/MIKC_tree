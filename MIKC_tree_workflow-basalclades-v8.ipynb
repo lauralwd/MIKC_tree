{
 "cells": [
  {
   "cell_type": "markdown",
   "metadata": {},
   "source": [
    "# Aim\n",
    "\n",
    "In this itteration of the analysis, I want to:\n",
    " 1. Remove partial sequences even if they are azolla/salivinia or guide sequence\n",
    " 2. add stronger outgroup\n",
    " \n",
    "Then, re-allign, trim and infer tree as done before.\n",
    "\n",
    "Point 1. has been taken care of in a file `data/MIKC_orthogroup_selection-basal-v8_guide-v4.list`. \n",
    "This file was made by opening `MIKC_orthogroup_selection-basal-v7_guide-v4_aligned-mafft-einsi_trim-gt5.fasta` in seaview, then deleting all sequences that have too big portions of sequence missing.\n",
    "When this was done before, exceptions were made for sequences of _Azolla_ and _Salvinia_ and _Arabidopsis_. \n",
    "This time, no exceptions.\n",
    "I wonder whether this will improve the signal for the major clades.\n",
    "\n",
    "Second, I will add a couple of algal sequences that toghether constitute an outgroup.\n",
    "I wonder if this might help the signal for those nodes closest to the outgroup.\n",
    "\n",
    "I'll add the algeal sequences listed below back into the alignment as well.\n",
    " - tr_Q5KU24_Q5KU24_COLSC_MADS-box_transcription_factor_CsMADS1_OS_Coleochaete_scutata_OX_3125_GN_csmads1_PE_2_SV_1\n",
    " - MNNM-2042156-Cosmarium_granatum\n",
    " - TPHT-2126301-Spirotaenia_sp.\n"
   ]
  },
  {
   "cell_type": "code",
   "execution_count": 10,
   "metadata": {},
   "outputs": [],
   "source": [
    "grep -f <(echo -e \"Q5KU24\\nMNNM-2042156-Cosmarium_granatum\\nTPHT-2126301-Spirotaenia_sp.\") \\\n",
    "        ./data/MIKC_orthogroup_selection-basal-v6_guide-v4.fasta \\\n",
    "      > ./data/MIKC_orthogroup_selection-basal-v8_guide-v4.fasta"
   ]
  },
  {
   "cell_type": "code",
   "execution_count": 11,
   "metadata": {},
   "outputs": [],
   "source": [
    "grep -A1 -f ./data/MIKC_orthogroup_selection-basal-v8_guide-v4.list \\\n",
    "            ./data/MIKC_orthogroup_selection-basal-v6_guide-v4.fasta \\\n",
    "         >> ./data/MIKC_orthogroup_selection-basal-v8_guide-v4.fasta"
   ]
  },
  {
   "cell_type": "code",
   "execution_count": 13,
   "metadata": {},
   "outputs": [
    {
     "name": "stdout",
     "output_type": "stream",
     "text": [
      "./data/MIKC_orthogroup_selection-basal-v3_guide-v4.fasta:425\n",
      "./data/MIKC_orthogroup_selection-basal-v4_guide-v4.fasta:235\n",
      "./data/MIKC_orthogroup_selection-basal-v5_guide-v4.fasta:259\n",
      "./data/MIKC_orthogroup_selection-basal-v6_guide-v4.fasta:188\n",
      "./data/MIKC_orthogroup_selection-basal-v7_guide-v4.fasta:165\n",
      "./data/MIKC_orthogroup_selection-basal-v8_guide-v4.fasta:129\n"
     ]
    }
   ],
   "source": [
    "grep '>' -c ./data/MIKC_orthogroup_selection-basal-v*_guide-v4.fasta"
   ]
  }
 ],
 "metadata": {
  "kernelspec": {
   "display_name": "Bash",
   "language": "bash",
   "name": "bash"
  },
  "language_info": {
   "codemirror_mode": "shell",
   "file_extension": ".sh",
   "mimetype": "text/x-sh",
   "name": "bash"
  }
 },
 "nbformat": 4,
 "nbformat_minor": 2
}
