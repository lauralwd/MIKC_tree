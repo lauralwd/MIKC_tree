{
 "cells": [
  {
   "cell_type": "markdown",
   "metadata": {},
   "source": [
    "# Aim\n",
    "\n",
    "In this itteration of the analysis, I want to:\n",
    " 1. Remove partial sequences even if they are azolla/salivinia or guide sequence\n",
    " 2. add stronger outgroup\n",
    " \n",
    "Then, re-allign, trim and infer tree as done before.\n",
    "\n",
    "Point 1. has been taken care of in a file `data/MIKC_orthogroup_selection-basal-v8_guide-v4.list`. \n",
    "This file was made by opening `MIKC_orthogroup_selection-basal-v7_guide-v4_aligned-mafft-einsi_trim-gt5.fasta` in seaview, then deleting all sequences that have too big portions of sequence missing.\n",
    "When this was done before, exceptions were made for sequences of _Azolla_ and _Salvinia_ and _Arabidopsis_. \n",
    "This time, no exceptions.\n",
    "I wonder whether this will improve the signal for the major clades.\n",
    "\n",
    "Second, I will add a couple of algal sequences that toghether constitute an outgroup.\n",
    "I wonder if this might help the signal for those nodes closest to the outgroup.\n",
    "\n",
    "I'll add the algeal sequences listed below back into the alignment as well.\n",
    " - tr_Q5KU24_Q5KU24_COLSC_MADS-box_transcription_factor_CsMADS1_OS_Coleochaete_scutata_OX_3125_GN_csmads1_PE_2_SV_1\n",
    " - MNNM-2042156-Cosmarium_granatum\n",
    " - TPHT-2126301-Spirotaenia_sp.\n"
   ]
  },
  {
   "cell_type": "code",
   "execution_count": 10,
   "metadata": {},
   "outputs": [],
   "source": [
    "grep -f <(echo -e \"Q5KU24\\nMNNM-2042156-Cosmarium_granatum\\nTPHT-2126301-Spirotaenia_sp.\") \\\n",
    "        ./data/MIKC_orthogroup_selection-basal-v6_guide-v4.fasta \\\n",
    "      > ./data/MIKC_orthogroup_selection-basal-v8_guide-v4.fasta"
   ]
  },
  {
   "cell_type": "code",
   "execution_count": 11,
   "metadata": {},
   "outputs": [],
   "source": [
    "grep -A1 -f ./data/MIKC_orthogroup_selection-basal-v8_guide-v4.list \\\n",
    "            ./data/MIKC_orthogroup_selection-basal-v6_guide-v4.fasta \\\n",
    "         >> ./data/MIKC_orthogroup_selection-basal-v8_guide-v4.fasta"
   ]
  },
  {
   "cell_type": "code",
   "execution_count": 13,
   "metadata": {
    "scrolled": true
   },
   "outputs": [
    {
     "name": "stdout",
     "output_type": "stream",
     "text": [
      "./data/MIKC_orthogroup_selection-basal-v3_guide-v4.fasta:425\n",
      "./data/MIKC_orthogroup_selection-basal-v4_guide-v4.fasta:235\n",
      "./data/MIKC_orthogroup_selection-basal-v5_guide-v4.fasta:259\n",
      "./data/MIKC_orthogroup_selection-basal-v6_guide-v4.fasta:188\n",
      "./data/MIKC_orthogroup_selection-basal-v7_guide-v4.fasta:165\n",
      "./data/MIKC_orthogroup_selection-basal-v8_guide-v4.fasta:129\n"
     ]
    }
   ],
   "source": [
    "grep '>' -c ./data/MIKC_orthogroup_selection-basal-v*_guide-v4.fasta"
   ]
  },
  {
   "cell_type": "markdown",
   "metadata": {},
   "source": [
    "# align & trim"
   ]
  },
  {
   "cell_type": "code",
   "execution_count": 2,
   "metadata": {},
   "outputs": [],
   "source": [
    "inseq='MIKC_orthogroup_selection-basal-v8_guide-v4'"
   ]
  },
  {
   "cell_type": "code",
   "execution_count": 3,
   "metadata": {
    "scrolled": true
   },
   "outputs": [
    {
     "name": "stdout",
     "output_type": "stream",
     "text": [
      "(phylogenetics) (phylogenetics) outputhat23=16\n",
      "treein = 0\n",
      "compacttree = 0\n",
      "stacksize: 8192 kb\n",
      "All-to-all alignment.\n",
      "tbfast-pair (aa) Version 7.407\n",
      "alg=N, model=BLOSUM62, 2.00, -0.00, -0.00, noshift, amax=0.0\n",
      "4 thread(s)\n",
      "\n",
      "outputhat23=16\n",
      "Loading 'hat3.seed' ... \n",
      "done.\n",
      "Writing hat3 for iterative refinement\n",
      "Gap Penalty = -1.53, +0.00, +0.00\n",
      "tbutree = 1, compacttree = 0\n",
      "Constructing a UPGMA tree ... \n",
      "  120 / 129\n",
      "done.\n",
      "\n",
      "Progressive alignment ... \n",
      "STEP    92 /128 (thread    2) \n",
      "Reallocating (by thread 0) ..done. *alloclen = 1774\n",
      "STEP   128 /128 (thread    1) \n",
      "done.\n",
      "tbfast (aa) Version 7.407\n",
      "alg=A, model=BLOSUM62, 1.53, -0.00, -0.00, noshift, amax=0.0\n",
      "4 thread(s)\n",
      "\n",
      "minimumweight = 0.000010\n",
      "autosubalignment = 0.000000\n",
      "nthread = 4\n",
      "randomseed = 0\n",
      "blosum 62 / kimura 200\n",
      "poffset = 0\n",
      "niter = 16\n",
      "sueff_global = 0.100000\n",
      "nadd = 16\n",
      "Loading 'hat3' ... done.\n",
      "\n",
      "  120 / 129\n",
      "Segment   1/  1    1- 700\n",
      "003-0254-1 (thread    2) worse         \n",
      "Converged2.\n",
      "done\n",
      "dvtditr (aa) Version 7.407\n",
      "alg=A, model=BLOSUM62, 1.53, -0.00, -0.00, noshift, amax=0.0\n",
      "4 thread(s)\n",
      "\n",
      "\n",
      "Strategy:\n",
      " E-INS-i (Suitable for sequences with long unalignable regions, very slow)\n",
      " Iterative refinement method (<16) with LOCAL pairwise alignment with generalized affine gap costs (Altschul 1998)\n",
      "\n",
      "If unsure which option to use, try 'mafft --auto input > output'.\n",
      "For more information, see 'mafft --help', 'mafft --man' and the mafft page.\n",
      "\n",
      "The default gap scoring scheme has been changed in version 7.110 (2013 Oct).\n",
      "It tends to insert more gaps into gap-rich regions than previous versions.\n",
      "To disable this change, add the --leavegappyregion option.\n",
      "\n",
      "Parameters for the E-INS-i option have been changed in version 7.243 (2015 Jun).\n",
      "To switch to the old parameters, use --oldgenafpair, instead of --genafpair.\n",
      "\n",
      "(phylogenetics) "
     ]
    }
   ],
   "source": [
    "conda activate phylogenetics\n",
    "if    [ ! -d ./data/alignments_raw/ ]\n",
    "then  mkdir  ./data/alignments_raw\n",
    "fi\n",
    "if    [ ! -f \"./data/alignments_raw/$inseq\"_aligned-mafft-linsi.fasta ]\n",
    "then  einsi --thread $(nproc) data/$inseq.fasta > ./data/alignments_raw/\"$inseq\"_aligned-mafft-einsi.fasta\n",
    "fi\n",
    "conda deactivate"
   ]
  },
  {
   "cell_type": "code",
   "execution_count": 4,
   "metadata": {
    "scrolled": true
   },
   "outputs": [
    {
     "name": "stdout",
     "output_type": "stream",
     "text": [
      "(phylogenetics) (phylogenetics) (phylogenetics) (phylogenetics) (phylogenetics) (phylogenetics) trimming alignment data/alignments_raw/MIKC_orthogroup_selection-basal-v8_guide-v4_aligned-mafft-einsi.fasta with gap threshold 1\n",
      "[1] 505318\n",
      "trimming alignment data/alignments_raw/MIKC_orthogroup_selection-basal-v8_guide-v4_aligned-mafft-einsi.fasta with gap threshold 2\n",
      "[2] 505325\n",
      "\n",
      "WARNING: Removing sequence 'tr|Q5KU24|Q5KU24_COLSC_MADS-box_transcription_factor_CsMADS1_OS=Coleochaete_scutata_OX=3125_GN=csmads1_PE=2_SV=1' composed only by gaps\n",
      "WARNING: Removing sequence 'MNNM-2042156-Cosmarium_granatum' composed only by gaps\n",
      "WARNING: Removing sequence 'TPHT-2126301-Spirotaenia_sp.' composed only by gaps\n",
      "\n",
      "\n",
      "WARNING: Removing sequence 'tr|Q5KU24|Q5KU24_COLSC_MADS-box_transcription_factor_CsMADS1_OS=Coleochaete_scutata_OX=3125_GN=csmads1_PE=2_SV=1' composed only by gaps\n",
      "WARNING: Removing sequence 'MNNM-2042156-Cosmarium_granatum' composed only by gaps\n",
      "WARNING: Removing sequence 'TPHT-2126301-Spirotaenia_sp.' composed only by gaps\n",
      "\n",
      "trimming alignment data/alignments_raw/MIKC_orthogroup_selection-basal-v8_guide-v4_aligned-mafft-einsi.fasta with gap threshold 3\n",
      "[3] 505332\n",
      "trimming alignment data/alignments_raw/MIKC_orthogroup_selection-basal-v8_guide-v4_aligned-mafft-einsi.fasta with gap threshold 4\n",
      "\n",
      "WARNING: Removing sequence 'tr|Q5KU24|Q5KU24_COLSC_MADS-box_transcription_factor_CsMADS1_OS=Coleochaete_scutata_OX=3125_GN=csmads1_PE=2_SV=1' composed only by gaps\n",
      "WARNING: Removing sequence 'MNNM-2042156-Cosmarium_granatum' composed only by gaps\n",
      "WARNING: Removing sequence 'TPHT-2126301-Spirotaenia_sp.' composed only by gaps\n",
      "\n",
      "[4] 505339\n",
      "\n",
      "WARNING: Removing sequence 'tr|Q5KU24|Q5KU24_COLSC_MADS-box_transcription_factor_CsMADS1_OS=Coleochaete_scutata_OX=3125_GN=csmads1_PE=2_SV=1' composed only by gaps\n",
      "WARNING: Removing sequence 'MNNM-2042156-Cosmarium_granatum' composed only by gaps\n",
      "WARNING: Removing sequence 'TPHT-2126301-Spirotaenia_sp.' composed only by gaps\n",
      "trimming alignment data/alignments_raw/MIKC_orthogroup_selection-basal-v8_guide-v4_aligned-mafft-einsi.fasta with gap threshold 5\n",
      "\n",
      "[5] 505346\n",
      "(phylogenetics) \n",
      "WARNING: Removing sequence 'tr|Q5KU24|Q5KU24_COLSC_MADS-box_transcription_factor_CsMADS1_OS=Coleochaete_scutata_OX=3125_GN=csmads1_PE=2_SV=1' composed only by gaps\n",
      "WARNING: Removing sequence 'MNNM-2042156-Cosmarium_granatum' composed only by gaps\n",
      "WARNING: Removing sequence 'TPHT-2126301-Spirotaenia_sp.' composed only by gaps\n",
      "\n",
      "[1]   Done                    trimal -in $a -out data/alignments_trimmed/\"$inseq\"_\"$appendix\"_\"$trimappendix\".fasta -gt .\"$g\" -htmlout data/alignments_trimmed/\"$inseq\"_\"$appendix\"_\"$trimappendix\".html\n",
      "[2]   Done                    trimal -in $a -out data/alignments_trimmed/\"$inseq\"_\"$appendix\"_\"$trimappendix\".fasta -gt .\"$g\" -htmlout data/alignments_trimmed/\"$inseq\"_\"$appendix\"_\"$trimappendix\".html\n",
      "[3]   Done                    trimal -in $a -out data/alignments_trimmed/\"$inseq\"_\"$appendix\"_\"$trimappendix\".fasta -gt .\"$g\" -htmlout data/alignments_trimmed/\"$inseq\"_\"$appendix\"_\"$trimappendix\".html\n",
      "[4]-  Done                    trimal -in $a -out data/alignments_trimmed/\"$inseq\"_\"$appendix\"_\"$trimappendix\".fasta -gt .\"$g\" -htmlout data/alignments_trimmed/\"$inseq\"_\"$appendix\"_\"$trimappendix\".html\n",
      "[5]+  Done                    trimal -in $a -out data/alignments_trimmed/\"$inseq\"_\"$appendix\"_\"$trimappendix\".fasta -gt .\"$g\" -htmlout data/alignments_trimmed/\"$inseq\"_\"$appendix\"_\"$trimappendix\".html\n",
      "(phylogenetics) "
     ]
    }
   ],
   "source": [
    "conda activate phylogenetics\n",
    "if    [ ! -d data/alignments_trimmed ]\n",
    "then  mkdir  data/alignments_trimmed \n",
    "fi\n",
    "\n",
    "gt=( 1 2 3 4 5 )\n",
    "\n",
    "# define appendix only once here:\n",
    "for g in ${gt[@]}\n",
    "do  trimappendix=trim-gt\"$g\"\n",
    "    for a in \"data/alignments_raw/$inseq\"_aligned*.fasta\n",
    "    do  appendix=$(echo $a | cut -d '/' -f 3- | sed \"s/$inseq\\_//\" | sed \"s/.fasta//\")\n",
    "        if    [ ! -f \"$appendix\"_\"$trimappendix\".fasta ]\n",
    "        then  echo \"trimming alignment $a with gap threshold $g\"\n",
    "              sed -i 's/ /_/g' $a\n",
    "              trimal -in $a   \\\n",
    "                     -out data/alignments_trimmed/\"$inseq\"_\"$appendix\"_\"$trimappendix\".fasta \\\n",
    "                     -gt .\"$g\" \\\n",
    "                     -htmlout data/alignments_trimmed/\"$inseq\"_\"$appendix\"_\"$trimappendix\".html &\n",
    "        fi\n",
    "    done\n",
    "done\n",
    "wait\n",
    "conda deactivate"
   ]
  },
  {
   "cell_type": "code",
   "execution_count": 5,
   "metadata": {
    "scrolled": true
   },
   "outputs": [
    {
     "name": "stdout",
     "output_type": "stream",
     "text": [
      "(jalview) [1] 505669\n",
      "[2] 505675\n",
      "[3] 505682\n",
      "[4] 505698\n",
      "[5] 505712\n",
      "(jalview) [1]   Done                    jalview -nodisplay -open $prefix.fasta -colour CLUSTAL -png $prefix.png > /dev/null 2> /dev/null\n",
      "[5]+  Done                    jalview -nodisplay -open $prefix.fasta -colour CLUSTAL -png $prefix.png > /dev/null 2> /dev/null\n",
      "[2]   Done                    jalview -nodisplay -open $prefix.fasta -colour CLUSTAL -png $prefix.png > /dev/null 2> /dev/null\n",
      "[3]-  Done                    jalview -nodisplay -open $prefix.fasta -colour CLUSTAL -png $prefix.png > /dev/null 2> /dev/null\n",
      "[4]+  Done                    jalview -nodisplay -open $prefix.fasta -colour CLUSTAL -png $prefix.png > /dev/null 2> /dev/null\n",
      "(jalview) "
     ]
    }
   ],
   "source": [
    "conda activate jalview\n",
    "for   i in data/alignments_trimmed/*.fasta\n",
    "do    prefix=$(echo $i | sed 's/\\.fasta//')\n",
    "      if    [ ! -f $prefix.png ]\n",
    "      then  jalview -nodisplay \\\n",
    "                    -open $prefix.fasta \\\n",
    "                    -colour CLUSTAL \\\n",
    "                    -png  $prefix.png > /dev/null 2> /dev/null &\n",
    "      fi\n",
    "done\n",
    "wait\n",
    "conda deactivate"
   ]
  },
  {
   "cell_type": "markdown",
   "metadata": {},
   "source": [
    "The Final alignment looks like this, quite happy with it. \n",
    "### gt 1\n",
    "![image.png](data/alignments_trimmed/MIKC_orthogroup_selection-basal-v8_guide-v4_aligned-mafft-einsi_trim-gt1.png)\n",
    "\n",
    "### gt 2\n",
    "![image.png](data/alignments_trimmed/MIKC_orthogroup_selection-basal-v8_guide-v4_aligned-mafft-einsi_trim-gt2.png)\n",
    "\n",
    "### gt 3\n",
    "![image.png](data/alignments_trimmed/MIKC_orthogroup_selection-basal-v8_guide-v4_aligned-mafft-einsi_trim-gt3.png)\n",
    "\n",
    "### gt 4\n",
    "![image.png](data/alignments_trimmed/MIKC_orthogroup_selection-basal-v8_guide-v4_aligned-mafft-einsi_trim-gt4.png)\n",
    "\n",
    "### gt 5\n",
    "![image.png](data/alignments_trimmed/MIKC_orthogroup_selection-basal-v8_guide-v4_aligned-mafft-einsi_trim-gt5.png)\n"
   ]
  },
  {
   "cell_type": "markdown",
   "metadata": {},
   "source": [
    "Now there is new sequences that look too gappy, but that's how things go. Let's move on"
   ]
  },
  {
   "cell_type": "markdown",
   "metadata": {},
   "source": [
    "# Tree inference"
   ]
  },
  {
   "cell_type": "code",
   "execution_count": 7,
   "metadata": {},
   "outputs": [
    {
     "name": "stdout",
     "output_type": "stream",
     "text": [
      "(phylogenetics) Making a directory aligned-mafft-einsi_trim-gt1 to store trees (name based on alignment filename)\n",
      "making a tree of file data/alignments_trimmed/MIKC_orthogroup_selection-basal-v8_guide-v4_aligned-mafft-einsi_trim-gt1.fasta\n",
      "Making a directory aligned-mafft-einsi_trim-gt2 to store trees (name based on alignment filename)\n",
      "making a tree of file data/alignments_trimmed/MIKC_orthogroup_selection-basal-v8_guide-v4_aligned-mafft-einsi_trim-gt2.fasta\n",
      "Making a directory aligned-mafft-einsi_trim-gt3 to store trees (name based on alignment filename)\n",
      "making a tree of file data/alignments_trimmed/MIKC_orthogroup_selection-basal-v8_guide-v4_aligned-mafft-einsi_trim-gt3.fasta\n",
      "Making a directory aligned-mafft-einsi_trim-gt4 to store trees (name based on alignment filename)\n",
      "making a tree of file data/alignments_trimmed/MIKC_orthogroup_selection-basal-v8_guide-v4_aligned-mafft-einsi_trim-gt4.fasta\n",
      "Making a directory aligned-mafft-einsi_trim-gt5 to store trees (name based on alignment filename)\n",
      "making a tree of file data/alignments_trimmed/MIKC_orthogroup_selection-basal-v8_guide-v4_aligned-mafft-einsi_trim-gt5.fasta\n",
      "(phylogenetics) "
     ]
    }
   ],
   "source": [
    "conda activate phylogenetics\n",
    "for a in data/alignments_trimmed/\"$inseq\"_aligned*gt*.fasta\n",
    "do  #iqpendix='iqtree-b100'\n",
    "    iqpendix='iqtree-bb2000-alrt2000'\n",
    "\n",
    "    file_appendix=$(echo $a | cut -d '/' -f 3- | sed \"s/$inseq\\_//\" | sed \"s/.fasta//\")\n",
    "    \n",
    "    if   [ ! -d    analyses/\"$inseq\"_trees/\"$file_appendix\" ]\n",
    "    then echo \"Making a directory $file_appendix to store trees (name based on alignment filename)\"\n",
    "         mkdir -p  analyses/\"$inseq\"_trees/\"$file_appendix\" \n",
    "    fi\n",
    "\n",
    "    iqprefix=analyses/\"$inseq\"_trees/\"$file_appendix\"/\"$inseq\"_\"$file_appendix\"_\"$iqpendix\"\n",
    "    if   [ ! -f \"$iqprefix\".treefile ]\n",
    "    then echo \"making a tree of file $a\"\n",
    "         nice iqtree -s $a \\\n",
    "                     -m 'MFP' \\\n",
    "                     -bb 2000 -alrt 2000 \\\n",
    "                     -nt AUTO \\\n",
    "                     -ntmax $(nproc)  \\\n",
    "                     -pre  \"$iqprefix\" \\\n",
    "                     2>   \"$iqprefix\".stderr \\\n",
    "                      >    \"$iqprefix\".stdout\n",
    "    #cat \"$iqprefix\".log | mail -s \"IQtree_run $a\" laura\n",
    "    fi\n",
    "done\n",
    "conda deactivate"
   ]
  }
 ],
 "metadata": {
  "kernelspec": {
   "display_name": "Bash",
   "language": "bash",
   "name": "bash"
  },
  "language_info": {
   "codemirror_mode": "shell",
   "file_extension": ".sh",
   "mimetype": "text/x-sh",
   "name": "bash"
  }
 },
 "nbformat": 4,
 "nbformat_minor": 2
}
