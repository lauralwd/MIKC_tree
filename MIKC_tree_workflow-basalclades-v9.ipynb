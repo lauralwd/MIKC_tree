{
 "cells": [
  {
   "cell_type": "markdown",
   "metadata": {},
   "source": [
    "# Aim\n",
    "\n",
    "Make the final tree of this project, based on my conclusions in the basalclades-v8 file."
   ]
  },
  {
   "cell_type": "markdown",
   "metadata": {},
   "source": [
    "## data prep"
   ]
  },
  {
   "cell_type": "markdown",
   "metadata": {},
   "source": [
    "First remove some sequences with very long branches, as dicussed in v8 conclusion. \n",
    "The LAMB1 sequence stays for this is one of the few lycophyte sequences with some background in the tree."
   ]
  },
  {
   "cell_type": "code",
   "execution_count": 114,
   "metadata": {},
   "outputs": [],
   "source": [
    "grep -v -f <(grep -f <(echo -e \"AGL33\\nENQF-2004631\\nENQF-2004632\") \\\n",
    "                     -A 1  --no-group-separator  \\\n",
    "                     data/MIKC_orthogroup_selection-basal-v8_guide-v4.fasta \\\n",
    "            ) data/MIKC_orthogroup_selection-basal-v7_guide-v4.fasta \\\n",
    "            > data/MIKC_orthogroup_selection-basal-v9_guide-v4.fasta"
   ]
  },
  {
   "cell_type": "code",
   "execution_count": 115,
   "metadata": {},
   "outputs": [
    {
     "name": "stdout",
     "output_type": "stream",
     "text": [
      "\u001b[35m\u001b[Kdata/MIKC_orthogroup_selection-basal-v6_guide-v4.fasta\u001b[m\u001b[K\u001b[36m\u001b[K:\u001b[m\u001b[K188\n",
      "\u001b[35m\u001b[Kdata/MIKC_orthogroup_selection-basal-v7_guide-v4.fasta\u001b[m\u001b[K\u001b[36m\u001b[K:\u001b[m\u001b[K165\n",
      "\u001b[35m\u001b[Kdata/MIKC_orthogroup_selection-basal-v8_guide-v4.fasta\u001b[m\u001b[K\u001b[36m\u001b[K:\u001b[m\u001b[K135\n",
      "\u001b[35m\u001b[Kdata/MIKC_orthogroup_selection-basal-v9_guide-v4.fasta\u001b[m\u001b[K\u001b[36m\u001b[K:\u001b[m\u001b[K162\n"
     ]
    }
   ],
   "source": [
    "grep '>' -c data/MIKC_orthogroup_selection-basal-v[6-9]*fasta"
   ]
  },
  {
   "cell_type": "markdown",
   "metadata": {},
   "source": [
    "Now let's add the basal-v6 outgroup sequences:"
   ]
  },
  {
   "cell_type": "code",
   "execution_count": 116,
   "metadata": {
    "scrolled": true
   },
   "outputs": [],
   "source": [
    "grep -f <(echo -e \"Spirotaenia\\nKlebsormidium\\nColeochaete\\nCosmarium\\nQ5KTX4\") \\\n",
    "                     -A 1  --no-group-separator  \\\n",
    "                     data/MIKC_orthogroup_selection-basal-v6_guide-v4.fasta >> \\\n",
    "        data/MIKC_orthogroup_selection-basal-v9_guide-v4.fasta\n",
    "                     "
   ]
  },
  {
   "cell_type": "code",
   "execution_count": 117,
   "metadata": {},
   "outputs": [
    {
     "name": "stdout",
     "output_type": "stream",
     "text": [
      "\u001b[35m\u001b[Kdata/MIKC_orthogroup_selection-basal-v6_guide-v4.fasta\u001b[m\u001b[K\u001b[36m\u001b[K:\u001b[m\u001b[K188\n",
      "\u001b[35m\u001b[Kdata/MIKC_orthogroup_selection-basal-v7_guide-v4.fasta\u001b[m\u001b[K\u001b[36m\u001b[K:\u001b[m\u001b[K165\n",
      "\u001b[35m\u001b[Kdata/MIKC_orthogroup_selection-basal-v8_guide-v4.fasta\u001b[m\u001b[K\u001b[36m\u001b[K:\u001b[m\u001b[K135\n",
      "\u001b[35m\u001b[Kdata/MIKC_orthogroup_selection-basal-v9_guide-v4.fasta\u001b[m\u001b[K\u001b[36m\u001b[K:\u001b[m\u001b[K169\n"
     ]
    }
   ],
   "source": [
    "grep '>' -c data/MIKC_orthogroup_selection-basal-v[6-9]*fasta"
   ]
  },
  {
   "cell_type": "code",
   "execution_count": 118,
   "metadata": {},
   "outputs": [],
   "source": [
    "inseq='MIKC_orthogroup_selection-basal-v9_guide-v4'"
   ]
  },
  {
   "cell_type": "markdown",
   "metadata": {},
   "source": [
    "## Sequence alignment\n",
    "Now let's align with mafft einsi as determined before, and align a second 'pass' with prank if it works this time."
   ]
  },
  {
   "cell_type": "code",
   "execution_count": 123,
   "metadata": {},
   "outputs": [
    {
     "name": "stdout",
     "output_type": "stream",
     "text": [
      "(phylogenetics) (phylogenetics) outputhat23=16\n",
      "treein = 0\n",
      "compacttree = 0\n",
      "stacksize: 8192 kb\n",
      "All-to-all alignment.\n",
      "tbfast-pair (aa) Version 7.407\n",
      "alg=N, model=BLOSUM62, 2.00, -0.00, -0.00, noshift, amax=0.0\n",
      "4 thread(s)\n",
      "\n",
      "outputhat23=16\n",
      "Loading 'hat3.seed' ... \n",
      "done.\n",
      "Writing hat3 for iterative refinement\n",
      "Gap Penalty = -1.53, +0.00, +0.00\n",
      "tbutree = 1, compacttree = 0\n",
      "Constructing a UPGMA tree ... \n",
      "  160 / 169\n",
      "done.\n",
      "\n",
      "Progressive alignment ... \n",
      "STEP    89 /168 (thread    0) \n",
      "STEP    91 /168 (thread    3) done. *alloclen = 3547\n",
      "STEP   112 /168 (thread    3) \n",
      "Reallocating (by thread 2) ..done. *alloclen = 4576\n",
      "STEP   168 /168 (thread    1) \n",
      "done.\n",
      "tbfast (aa) Version 7.407\n",
      "alg=A, model=BLOSUM62, 1.53, -0.00, -0.00, noshift, amax=0.0\n",
      "4 thread(s)\n",
      "\n",
      "minimumweight = 0.000010\n",
      "autosubalignment = 0.000000\n",
      "nthread = 4\n",
      "randomseed = 0\n",
      "blosum 62 / kimura 200\n",
      "poffset = 0\n",
      "niter = 16\n",
      "sueff_global = 0.100000\n",
      "nadd = 16\n",
      "Loading 'hat3' ... done.\n",
      "\n",
      "  160 / 169\n",
      "Segment   1/  1    1-3541\n",
      "006-0334-0 (thread    4) worse         \n",
      "Converged2.\n",
      "done\n",
      "dvtditr (aa) Version 7.407\n",
      "alg=A, model=BLOSUM62, 1.53, -0.00, -0.00, noshift, amax=0.0\n",
      "4 thread(s)\n",
      "\n",
      "\n",
      "Strategy:\n",
      " E-INS-i (Suitable for sequences with long unalignable regions, very slow)\n",
      " Iterative refinement method (<16) with LOCAL pairwise alignment with generalized affine gap costs (Altschul 1998)\n",
      "\n",
      "If unsure which option to use, try 'mafft --auto input > output'.\n",
      "For more information, see 'mafft --help', 'mafft --man' and the mafft page.\n",
      "\n",
      "The default gap scoring scheme has been changed in version 7.110 (2013 Oct).\n",
      "It tends to insert more gaps into gap-rich regions than previous versions.\n",
      "To disable this change, add the --leavegappyregion option.\n",
      "\n",
      "Parameters for the E-INS-i option have been changed in version 7.243 (2015 Jun).\n",
      "To switch to the old parameters, use --oldgenafpair, instead of --genafpair.\n",
      "\n",
      "(phylogenetics) "
     ]
    }
   ],
   "source": [
    "rm \"./data/alignments_raw/$inseq\"_aligned-mafft-einsi.fasta\n",
    "conda activate phylogenetics\n",
    "if    [ ! -d ./data/alignments_raw/ ]\n",
    "then  mkdir  ./data/alignments_raw\n",
    "fi\n",
    "if    [ ! -f \"./data/alignments_raw/$inseq\"_aligned-mafft-einsi.fasta ]\n",
    "then  einsi --thread $(nproc) data/$inseq.fasta > ./data/alignments_raw/\"$inseq\"_aligned-mafft-einsi.fasta\n",
    "fi\n",
    "conda deactivate"
   ]
  },
  {
   "cell_type": "markdown",
   "metadata": {},
   "source": [
    "And let's do a second run with prank. Despite complaints, this is the most recent version in bioconda so I'm going with this for now."
   ]
  },
  {
   "cell_type": "code",
   "execution_count": 124,
   "metadata": {},
   "outputs": [
    {
     "name": "stdout",
     "output_type": "stream",
     "text": [
      "\n",
      "This is PRANK v.170427.\n",
      "Checking if updates are available at http://http://code.google.com/p/prank-msa.\n",
      "\n",
      "Found updates. Changes in the more recent versions:\n",
      "\n",
      "<!DOCTYPE html>\n",
      "<html lang=en>\n",
      "  <meta charset=utf-8>\n",
      "  <meta name=viewport content=\"initial-scale=1, minimum-scale=1, width=device-width\">\n",
      "  <title>Error 404 (Not Found)!!1</title>\n",
      "  <style>\n",
      "    *{margin:0;padding:0}html,code{font:15px/22px arial,sans-serif}html{background:#fff;color:#222;padding:15px}body{margin:7% auto 0;max-width:390px;min-height:180px;padding:30px 0 15px}* > body{background:url(//www.google.com/images/errors/robot.png) 100% 5px no-repeat;padding-right:205px}p{margin:11px 0 22px;overflow:hidden}ins{color:#777;text-decoration:none}a img{border:0}@media screen and (max-width:772px){body{background:none;margin-top:0;max-width:none;padding-right:0}}#logo{background:url(//www.google.com/images/branding/googlelogo/1x/googlelogo_color_150x54dp.png) no-repeat;margin-left:-5px}@media only screen and (min-resolution:192dpi){#logo{background:url(//www.google.com/images/branding/googlelogo/2x/googlelogo_color_150x54dp.png) no-repeat 0% 0%/100% 100%;-moz-border-image:url(//www.google.com/images/branding/googlelogo/2x/googlelogo_color_150x54dp.png) 0}}@media only screen and (-webkit-min-device-pixel-ratio:2){#logo{background:url(//www.google.com/images/branding/googlelogo/2x/googlelogo_color_150x54dp.png) no-repeat;-webkit-background-size:100% 100%}}#logo{display:inline-block;height:54px;width:150px}\n",
      "  </style>\n",
      "  <a href=//www.google.com/><span id=logo aria-label=Google></span></a>\n",
      "  <p><b>404.</b> <ins>That’s an error.</ins>\n",
      "  <p>The requested URL <code>/git/VERSION_HISTORY</code> was not found on this server.  <ins>That’s all we know.</ins>\n"
     ]
    }
   ],
   "source": [
    "prank -version"
   ]
  },
  {
   "cell_type": "markdown",
   "metadata": {},
   "source": [
    "Somewhere on the road to the guide tree, special characters were removed from the sequence names so I have to do that here as well:"
   ]
  },
  {
   "cell_type": "code",
   "execution_count": 142,
   "metadata": {},
   "outputs": [],
   "source": [
    "sed -i 's/\\[/_/g' ./data/alignments_raw/\"$inseq\"_aligned-mafft-einsi.fasta\n",
    "sed -i 's/\\]/_/g' ./data/alignments_raw/\"$inseq\"_aligned-mafft-einsi.fasta\n",
    "sed -i 's/|/_/g' ./data/alignments_raw/\"$inseq\"_aligned-mafft-einsi.fasta\n",
    "sed -i 's/=/_/g' ./data/alignments_raw/\"$inseq\"_aligned-mafft-einsi.fasta\n",
    "sed -i 's/(/_/g' ./data/alignments_raw/\"$inseq\"_aligned-mafft-einsi.fasta\n",
    "sed -i 's/)/_/g' ./data/alignments_raw/\"$inseq\"_aligned-mafft-einsi.fasta\n"
   ]
  },
  {
   "cell_type": "code",
   "execution_count": null,
   "metadata": {},
   "outputs": [
    {
     "name": "stdout",
     "output_type": "stream",
     "text": [
      "\n",
      "-----------------\n",
      " PRANK v.170427:\n",
      "-----------------\n",
      "\n",
      "Input for the analysis\n",
      " - aligning sequences in './data/alignments_raw/MIKC_orthogroup_selection-basal-v9_guide-v4_aligned-mafft-einsi.fasta'\n",
      " - using alignment guide tree 'analyses/MIKC_orthogroup_selection-basal-v9_guide-v4_trees/aligned-mafft-einsi_trim-gt1/MIKC_orthogroup_selection-basal-v9_guide-v4_aligned-mafft-einsi_trim-gt1_iqtree-bare.treefile'\n",
      " - option '+F' is not used; it can be enabled with '+F'\n",
      " - external tools available:\n",
      "    MAFFT for initial alignment\n",
      "    Exonerate for alignment anchoring\n",
      "\n",
      "Warning: iterative search may change the guide tree. If you want to keep\n",
      " the phylogeny provided in 'analyses/MIKC_orthogroup_selection-basal-v9_guide-v4_trees/aligned-mafft-einsi_trim-gt1/MIKC_orthogroup_selection-basal-v9_guide-v4_aligned-mafft-einsi_trim-gt1_iqtree-bare.treefile', please add option '-once'.\n",
      "\n",
      "Warning autodetection suggests DNA but protein model forced.\n",
      "Warning: sequence names changed.\n",
      "\n",
      "Correcting (arbitrarily) for multifurcating nodes.\n",
      "Correcting (arbitrarily) for multifurcating nodes.\n",
      "\n",
      "Generating multiple alignment: iteration 1.\n",
      "\n",
      "Alignment score: 45775\n",
      "Correcting (arbitrarily) for multifurcating nodes.\n",
      "\n",
      "Generating multiple alignment: iteration 2.\n",
      "\n",
      "Alignment score: 39809\n",
      "Correcting (arbitrarily) for multifurcating nodes.\n",
      "\n",
      "Generating multiple alignment: iteration 3.\n",
      "\n",
      "Alignment score: 37576\n",
      "Correcting (arbitrarily) for multifurcating nodes.\n",
      "\n",
      "Generating multiple alignment: iteration 4.\n"
     ]
    }
   ],
   "source": [
    "prank -d=./data/alignments_raw/\"$inseq\"_aligned-mafft-einsi.fasta \\\n",
    "      -o=./data/alignments_raw/\"$inseq\"_aligned-mafft-einsi_prank.fasta \\\n",
    "      -t=analyses/MIKC_orthogroup_selection-basal-v9_guide-v4_trees/aligned-mafft-einsi_trim-gt1/MIKC_orthogroup_selection-basal-v9_guide-v4_aligned-mafft-einsi_trim-gt1_iqtree-bare.treefile \\\n",
    "      -protein"
   ]
  },
  {
   "cell_type": "markdown",
   "metadata": {},
   "source": [
    "### trim"
   ]
  },
  {
   "cell_type": "code",
   "execution_count": 95,
   "metadata": {},
   "outputs": [
    {
     "name": "stdout",
     "output_type": "stream",
     "text": [
      "(phylogenetics) (phylogenetics) (phylogenetics) (phylogenetics) (phylogenetics) (phylogenetics) trimming alignment data/alignments_raw/MIKC_orthogroup_selection-basal-v9_guide-v4_aligned-mafft-einsi.fasta with gap threshold 1\n",
      "[1] 91194\n",
      "(phylogenetics) [1]+  Done                    trimal -in $a -out data/alignments_trimmed/\"$inseq\"_\"$appendix\"_\"$trimappendix\".fasta -gt .1 -htmlout data/alignments_trimmed/\"$inseq\"_\"$appendix\"_\"$trimappendix\".html\n",
      "(phylogenetics) "
     ]
    }
   ],
   "source": [
    "conda activate phylogenetics\n",
    "if    [ ! -d data/alignments_trimmed ]\n",
    "then  mkdir  data/alignments_trimmed \n",
    "fi\n",
    "\n",
    "#gt=( 1 2 3 4 5 6 7 8 )\n",
    "gt=1\n",
    "# define appendix only once here:\n",
    "for g in ${gt[@]}\n",
    "do  trimappendix=trim-gt1\n",
    "    for a in \"data/alignments_raw/$inseq\"_aligned*.fasta\n",
    "    do  appendix=$(echo $a | cut -d '/' -f 3- | sed \"s/$inseq\\_//\" | sed \"s/.fasta//\")\n",
    "        if    [ ! -f \"$appendix\"_\"$trimappendix\".fasta ]\n",
    "        then  echo \"trimming alignment $a with gap threshold $g\"\n",
    "              sed -i 's/ /_/g' $a\n",
    "              trimal -in $a   \\\n",
    "                     -out data/alignments_trimmed/\"$inseq\"_\"$appendix\"_\"$trimappendix\".fasta \\\n",
    "                     -gt .1 \\\n",
    "                     -htmlout data/alignments_trimmed/\"$inseq\"_\"$appendix\"_\"$trimappendix\".html &\n",
    "        fi\n",
    "    done\n",
    "done\n",
    "wait\n",
    "conda deactivate\n"
   ]
  },
  {
   "cell_type": "markdown",
   "metadata": {},
   "source": [
    "### visualise"
   ]
  },
  {
   "cell_type": "code",
   "execution_count": 96,
   "metadata": {},
   "outputs": [
    {
     "name": "stdout",
     "output_type": "stream",
     "text": [
      "(jalview) (jalview) (jalview) "
     ]
    }
   ],
   "source": [
    "conda activate jalview\n",
    "for   i in data/alignments_trimmed/*.fasta\n",
    "do    prefix=$(echo $i | sed 's/\\.fasta//')\n",
    "      if    [ ! -f $prefix.png ]\n",
    "      then  jalview -nodisplay \\\n",
    "                    -open $prefix.fasta \\\n",
    "                    -colour CLUSTAL \\\n",
    "                    -png  $prefix.png > /dev/null 2> /dev/null &\n",
    "      fi\n",
    "done\n",
    "wait\n",
    "conda deactivate"
   ]
  },
  {
   "cell_type": "code",
   "execution_count": 97,
   "metadata": {},
   "outputs": [
    {
     "name": "stdout",
     "output_type": "stream",
     "text": [
      "\u001b[0m\u001b[01;35mdata/alignments_trimmed/MIKC_orthogroup_selection-basal-v9_guide-v4_aligned-mafft-einsi_trim-gt1.png\u001b[0m\u001b[K\n"
     ]
    }
   ],
   "source": [
    "ls data/alignments_trimmed/$inseq*.png"
   ]
  },
  {
   "cell_type": "markdown",
   "metadata": {},
   "source": [
    "## Tree inference\n",
    "\n",
    "First a quick no-bootstrap tree as a prank quide tree"
   ]
  },
  {
   "cell_type": "code",
   "execution_count": 98,
   "metadata": {},
   "outputs": [
    {
     "name": "stdout",
     "output_type": "stream",
     "text": [
      "(phylogenetics) making a tree of file data/alignments_trimmed/MIKC_orthogroup_selection-basal-v9_guide-v4_aligned-mafft-einsi_trim-gt1.fasta\n",
      "(phylogenetics) "
     ]
    }
   ],
   "source": [
    "conda activate phylogenetics\n",
    "for a in data/alignments_trimmed/\"$inseq\"_aligned*.fasta\n",
    "do  iqpendix='iqtree-bare'\n",
    "    #iqpendix='iqtree-bb2000-alrt2000'\n",
    "\n",
    "    file_appendix=$(echo $a | cut -d '/' -f 3- | sed \"s/$inseq\\_//\" | sed \"s/.fasta//\")\n",
    "    \n",
    "    if   [ ! -d    analyses/\"$inseq\"_trees/\"$file_appendix\" ]\n",
    "    then echo \"Making a directory $file_appendix to store trees (name based on alignment filename)\"\n",
    "         mkdir -p  analyses/\"$inseq\"_trees/\"$file_appendix\" \n",
    "    fi\n",
    "\n",
    "    iqprefix=analyses/\"$inseq\"_trees/\"$file_appendix\"/\"$inseq\"_\"$file_appendix\"_\"$iqpendix\"\n",
    "    if   [ ! -f \"$iqprefix\".treefile ]\n",
    "    then echo \"making a tree of file $a\"\n",
    "         nice iqtree -s $a \\\n",
    "                     -m 'MFP' \\\n",
    "                     -nt AUTO \\\n",
    "                     -ntmax $(nproc)  \\\n",
    "                     -pre  \"$iqprefix\" \\\n",
    "                     2>   \"$iqprefix\".stderr \\\n",
    "                      >    \"$iqprefix\".stdout\n",
    "    cat \"$iqprefix\".log | mail -s \"$iqpendix $a\" laura\n",
    "    fi\n",
    "done\n",
    "conda deactivate"
   ]
  },
  {
   "cell_type": "code",
   "execution_count": 100,
   "metadata": {},
   "outputs": [
    {
     "name": "stdout",
     "output_type": "stream",
     "text": [
      "MIKC_orthogroup_selection-basal-v9_guide-v4_aligned-mafft-einsi_trim-gt1_iqtree-bare.bionj\n",
      "\u001b[0m\u001b[01;31mMIKC_orthogroup_selection-basal-v9_guide-v4_aligned-mafft-einsi_trim-gt1_iqtree-bare.ckp.gz\u001b[0m\u001b[K\n",
      "MIKC_orthogroup_selection-basal-v9_guide-v4_aligned-mafft-einsi_trim-gt1_iqtree-bare.iqtree\n",
      "MIKC_orthogroup_selection-basal-v9_guide-v4_aligned-mafft-einsi_trim-gt1_iqtree-bare.log\n",
      "MIKC_orthogroup_selection-basal-v9_guide-v4_aligned-mafft-einsi_trim-gt1_iqtree-bare.mldist\n",
      "\u001b[01;31mMIKC_orthogroup_selection-basal-v9_guide-v4_aligned-mafft-einsi_trim-gt1_iqtree-bare.model.gz\u001b[0m\u001b[K\n",
      "MIKC_orthogroup_selection-basal-v9_guide-v4_aligned-mafft-einsi_trim-gt1_iqtree-bare.stderr\n",
      "MIKC_orthogroup_selection-basal-v9_guide-v4_aligned-mafft-einsi_trim-gt1_iqtree-bare.stdout\n",
      "MIKC_orthogroup_selection-basal-v9_guide-v4_aligned-mafft-einsi_trim-gt1_iqtree-bare.treefile\n"
     ]
    }
   ],
   "source": [
    "ls analyses/MIKC_orthogroup_selection-basal-v9_guide-v4_trees/aligned-mafft-einsi_trim-gt1"
   ]
  }
 ],
 "metadata": {
  "kernelspec": {
   "display_name": "Bash",
   "language": "bash",
   "name": "bash"
  },
  "language_info": {
   "codemirror_mode": "shell",
   "file_extension": ".sh",
   "mimetype": "text/x-sh",
   "name": "bash"
  }
 },
 "nbformat": 4,
 "nbformat_minor": 4
}
