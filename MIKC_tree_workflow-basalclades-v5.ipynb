{
 "cells": [
  {
   "cell_type": "markdown",
   "metadata": {},
   "source": [
    "Continue working on the tree basal v4.\n",
    "PI would like to see unpublished v2 annotation back into the tree, so I'm putting that in. Second I'm not very content with the Picea abies annotation and how they behave in the tree. Hence I'm adding another gymnosperm into the mix. \n",
    "\n",
    "To keep some power in the analysis, I'm removing a couple of algae again, since the root is very clear and I don't need that many algae sequences. It is clear as it is.\n",
    "\n",
    "I'm running trees initially with UFbootstrap and SH-alrt. A quick venture into non-parametric bootstrapping revealed that these two methods are likely overestimating support... Hence that's a worry I have and this should be reflected in the final figure. It may take a day or two or even a week, but a non parametric tree should be the final figure."
   ]
  },
  {
   "cell_type": "markdown",
   "metadata": {},
   "source": [
    "I'm getting the basalv4 fasta, sinse this has everything I want anyway."
   ]
  },
  {
   "cell_type": "code",
   "execution_count": 2,
   "metadata": {},
   "outputs": [
    {
     "name": "stdout",
     "output_type": "stream",
     "text": [
      "\u001b[01;31m\u001b[K>\u001b[m\u001b[Ktr|Q5KU24|Q5KU24_COLSC MADS-box transcription factor CsMADS1 OS=Coleochaete scutata OX=3125 GN=csmads1 PE=2 SV=1\n",
      "\u001b[01;31m\u001b[K>\u001b[m\u001b[Ktr|Q5KTX4|Q5KTX4_9VIRI MADS-box protein CpMADS1 (Fragment) OS=Closterium peracerosum-strigosum-littorale complex OX=34146 GN=CpMADS1 PE=2 SV=1\n",
      "\u001b[01;31m\u001b[K>\u001b[m\u001b[KcgMADS1_BAD88436\n",
      "\u001b[01;31m\u001b[K>\u001b[m\u001b[KCRM1_CAA69276\n",
      "\u001b[01;31m\u001b[K>\u001b[m\u001b[KCRM2_CAA69277\n",
      "\u001b[01;31m\u001b[K>\u001b[m\u001b[KCRM3_CAA69407\n",
      "\u001b[01;31m\u001b[K>\u001b[m\u001b[KCRM4_CAA69408\n",
      "\u001b[01;31m\u001b[K>\u001b[m\u001b[KCRM5_CAA69409\n",
      "\u001b[01;31m\u001b[K>\u001b[m\u001b[KCRM6_CAA69410\n",
      "\u001b[01;31m\u001b[K>\u001b[m\u001b[KCRM7_CAA69411\n",
      "\u001b[01;31m\u001b[K>\u001b[m\u001b[KOPM1_CAA69412\n",
      "\u001b[01;31m\u001b[K>\u001b[m\u001b[KCMADS1_AAC24492\n",
      "\u001b[01;31m\u001b[K>\u001b[m\u001b[KCMADS2_AAC24493\n",
      "\u001b[01;31m\u001b[K>\u001b[m\u001b[KCMADS3_AAC24319\n",
      "\u001b[01;31m\u001b[K>\u001b[m\u001b[KCMADS4_AAC24320\n",
      "\u001b[01;31m\u001b[K>\u001b[m\u001b[KCMADS6_AAC24325\n",
      "\u001b[01;31m\u001b[K>\u001b[m\u001b[KSmMADS6\n",
      "\u001b[01;31m\u001b[K>\u001b[m\u001b[KSmMADS4\n",
      "\u001b[01;31m\u001b[K>\u001b[m\u001b[KSmMADS3\n",
      "\u001b[01;31m\u001b[K>\u001b[m\u001b[KSmMADS2\n",
      "\u001b[01;31m\u001b[K>\u001b[m\u001b[KSmMADS10\n",
      "\u001b[01;31m\u001b[K>\u001b[m\u001b[KSmMADS1\n",
      "\u001b[01;31m\u001b[K>\u001b[m\u001b[KPPM1_Pp012G078200\n",
      "\u001b[01;31m\u001b[K>\u001b[m\u001b[KPPM2_Pp003G125000\n",
      "\u001b[01;31m\u001b[K>\u001b[m\u001b[KPpMADS1_Pp004G002000\n",
      "\u001b[01;31m\u001b[K>\u001b[m\u001b[KPpMADS_S\n",
      "\u001b[01;31m\u001b[K>\u001b[m\u001b[KPPMC5_Pp017G019900\n",
      "\u001b[01;31m\u001b[K>\u001b[m\u001b[KPPMC6_Pp014G056100\n",
      "\u001b[01;31m\u001b[K>\u001b[m\u001b[KPpMADS2_Pp012G080000\n",
      "\u001b[01;31m\u001b[K>\u001b[m\u001b[KPpMADS3_Pp003G124300\n",
      "\u001b[01;31m\u001b[K>\u001b[m\u001b[KPPM3_Pp014G086000\n",
      "\u001b[01;31m\u001b[K>\u001b[m\u001b[KPPM4_Pp001G158500\n",
      "\u001b[01;31m\u001b[K>\u001b[m\u001b[KPPM6_Pp008G025800\n",
      "\u001b[01;31m\u001b[K>\u001b[m\u001b[KPPM7_Pp017G043700\n",
      "\u001b[01;31m\u001b[K>\u001b[m\u001b[KPPMA8_Pp008G025900\n",
      "\u001b[01;31m\u001b[K>\u001b[m\u001b[KPPMA9_Pp003G124400\n",
      "\u001b[01;31m\u001b[K>\u001b[m\u001b[KPPMA11_Pp001G158400\n",
      "\u001b[01;31m\u001b[K>\u001b[m\u001b[KPPMA12_Pp004G013900\n",
      "\u001b[01;31m\u001b[K>\u001b[m\u001b[KPp014G086100\n",
      "\u001b[01;31m\u001b[K>\u001b[m\u001b[KPI\n",
      "\u001b[01;31m\u001b[K>\u001b[m\u001b[KAP3\n",
      "\u001b[01;31m\u001b[K>\u001b[m\u001b[KAGL2_SEP1\n",
      "\u001b[01;31m\u001b[K>\u001b[m\u001b[KAGL6\n",
      "\u001b[01;31m\u001b[K>\u001b[m\u001b[KAGL8_FUL\n",
      "\u001b[01;31m\u001b[K>\u001b[m\u001b[KAGL25_FLC\n",
      "\u001b[01;31m\u001b[K>\u001b[m\u001b[KAG\n",
      "\u001b[01;31m\u001b[K>\u001b[m\u001b[KAGL12\n",
      "\u001b[01;31m\u001b[K>\u001b[m\u001b[KAGL15\n",
      "\u001b[01;31m\u001b[K>\u001b[m\u001b[KAGL17\n",
      "\u001b[01;31m\u001b[K>\u001b[m\u001b[KAGL20_SOC1\n",
      "\u001b[01;31m\u001b[K>\u001b[m\u001b[KAGL22_SVP\n",
      "\u001b[01;31m\u001b[K>\u001b[m\u001b[KAGL32_ABS\n",
      "\u001b[01;31m\u001b[K>\u001b[m\u001b[KAGL104\n",
      "\u001b[01;31m\u001b[K>\u001b[m\u001b[KAGL67\n",
      "\u001b[01;31m\u001b[K>\u001b[m\u001b[KAGL66\n",
      "\u001b[01;31m\u001b[K>\u001b[m\u001b[KAGL30\n",
      "\u001b[01;31m\u001b[K>\u001b[m\u001b[KAGL94\n",
      "\u001b[01;31m\u001b[K>\u001b[m\u001b[KAGL33\n",
      "\u001b[01;31m\u001b[K>\u001b[m\u001b[KAGL65\n",
      "\u001b[01;31m\u001b[K>\u001b[m\u001b[KOsMADS2\n",
      "\u001b[01;31m\u001b[K>\u001b[m\u001b[KOsMADS16\n",
      "\u001b[01;31m\u001b[K>\u001b[m\u001b[KOsMADS55\n",
      "\u001b[01;31m\u001b[K>\u001b[m\u001b[KOsMADS30\n",
      "\u001b[01;31m\u001b[K>\u001b[m\u001b[KOsMADS6\n",
      "\u001b[01;31m\u001b[K>\u001b[m\u001b[KOsMADS8\n",
      "\u001b[01;31m\u001b[K>\u001b[m\u001b[KOsMADS15\n",
      "\u001b[01;31m\u001b[K>\u001b[m\u001b[KOsMADS23\n",
      "\u001b[01;31m\u001b[K>\u001b[m\u001b[KOsMADS26\n",
      "\u001b[01;31m\u001b[K>\u001b[m\u001b[KOsMADS3\n",
      "\u001b[01;31m\u001b[K>\u001b[m\u001b[KOsMADS50\n",
      "\u001b[01;31m\u001b[K>\u001b[m\u001b[KOsMADS62\n",
      "\u001b[01;31m\u001b[K>\u001b[m\u001b[KOsMADS63\n",
      "\u001b[01;31m\u001b[K>\u001b[m\u001b[KOsMADS68\n",
      "\u001b[01;31m\u001b[K>\u001b[m\u001b[KAtSTK_Homeotic_D\n",
      "\u001b[01;31m\u001b[K>\u001b[m\u001b[KAtAP1_Homeotic_A\n",
      "\u001b[01;31m\u001b[K>\u001b[m\u001b[KOsMADS14_Homeotic_A\n",
      "\u001b[01;31m\u001b[K>\u001b[m\u001b[KMpMADS1\n",
      "\u001b[01;31m\u001b[K>\u001b[m\u001b[KMpMADS2\n",
      "\u001b[01;31m\u001b[K>\u001b[m\u001b[KAzfi_s0028.g024032_manually_reannotated\n",
      "\u001b[01;31m\u001b[K>\u001b[m\u001b[KAzfi_s0062.g035272 sequence match in blast db Azolla filiculoides protein v1.1\n",
      "\u001b[01;31m\u001b[K>\u001b[m\u001b[KAzfi_s0028.g024032 sequence match in blast db Azolla filiculoides protein v1.1\n",
      "\u001b[01;31m\u001b[K>\u001b[m\u001b[KAzfi_s0003.g007710 sequence match in blast db Azolla filiculoides protein v1.1\n",
      "\u001b[01;31m\u001b[K>\u001b[m\u001b[KAzfi_s0003.g007732 sequence match in blast db Azolla filiculoides protein v1.1\n",
      "\u001b[01;31m\u001b[K>\u001b[m\u001b[KAzfi_s0704.g082655 sequence match in blast db Azolla filiculoides protein v1.1\n",
      "\u001b[01;31m\u001b[K>\u001b[m\u001b[KAzfi_s0242.g059800 sequence match in blast db Azolla filiculoides protein v1.1\n",
      "\u001b[01;31m\u001b[K>\u001b[m\u001b[KAzfi_s0078.g038112 sequence match in blast db Azolla filiculoides protein v1.1\n",
      "\u001b[01;31m\u001b[K>\u001b[m\u001b[KAzfi_s0038.g026346 sequence match in blast db Azolla filiculoides protein v1.1\n",
      "\u001b[01;31m\u001b[K>\u001b[m\u001b[KAzfi_s0016.g014286 sequence match in blast db Azolla filiculoides protein v1.1\n",
      "\u001b[01;31m\u001b[K>\u001b[m\u001b[KAzfi_s0001.g000595 sequence match in blast db Azolla filiculoides protein v1.1\n",
      "\u001b[01;31m\u001b[K>\u001b[m\u001b[KAzfi_s0034.g025354 sequence match in blast db Azolla filiculoides protein v1.1\n",
      "\u001b[01;31m\u001b[K>\u001b[m\u001b[KAzfi_s0009.g011788 sequence match in blast db Azolla filiculoides protein v1.1\n",
      "\u001b[01;31m\u001b[K>\u001b[m\u001b[KAzfi_s0073.g037211 sequence match in blast db Azolla filiculoides protein v1.1\n",
      "\u001b[01;31m\u001b[K>\u001b[m\u001b[KAzfi_s0684.g082058 sequence match in blast db Azolla filiculoides protein v1.1\n",
      "\u001b[01;31m\u001b[K>\u001b[m\u001b[KAzfi_s0009.g011751 sequence match in blast db Azolla filiculoides protein v1.1\n",
      "\u001b[01;31m\u001b[K>\u001b[m\u001b[KAzfi_s0009.g011735 sequence match in blast db Azolla filiculoides protein v1.1\n",
      "\u001b[01;31m\u001b[K>\u001b[m\u001b[KAzfi_s0009.g011792 sequence match in blast db Azolla filiculoides protein v1.1\n",
      "\u001b[01;31m\u001b[K>\u001b[m\u001b[KAzfi_s0009.g011725 sequence match in blast db Azolla filiculoides protein v1.1\n",
      "\u001b[01;31m\u001b[K>\u001b[m\u001b[KAzfi_s0009.g011722 sequence match in blast db Azolla filiculoides protein v1.1\n",
      "\u001b[01;31m\u001b[K>\u001b[m\u001b[KAzfi_s0038.g026344 sequence match in blast db Azolla filiculoides protein v1.1\n",
      "\u001b[01;31m\u001b[K>\u001b[m\u001b[KAzfi_s0016.g014288 sequence match in blast db Azolla filiculoides protein v1.1\n",
      "\u001b[01;31m\u001b[K>\u001b[m\u001b[KMA_113509g0010\n",
      "\u001b[01;31m\u001b[K>\u001b[m\u001b[KMA_130755g0010\n",
      "\u001b[01;31m\u001b[K>\u001b[m\u001b[KMA_13933g0010\n",
      "\u001b[01;31m\u001b[K>\u001b[m\u001b[KMA_17919g0010\n",
      "\u001b[01;31m\u001b[K>\u001b[m\u001b[KMA_6805g0010\n",
      "\u001b[01;31m\u001b[K>\u001b[m\u001b[KSacu_v1.1_s0003.g001660 MADS-box transcription factor [0.179]\n",
      "\u001b[01;31m\u001b[K>\u001b[m\u001b[KSacu_v1.1_s0003.g001705 MADS-box transcription factor [0.179]\n",
      "\u001b[01;31m\u001b[K>\u001b[m\u001b[KSacu_v1.1_s0004.g002164 MADS-box transcription factor [0.179]\n",
      "\u001b[01;31m\u001b[K>\u001b[m\u001b[KSacu_v1.1_s0004.g002217 MADS-box transcription factor [0.179]\n",
      "\u001b[01;31m\u001b[K>\u001b[m\u001b[KSacu_v1.1_s0006.g003070 MADS-box transcription factor [0.179]\n",
      "\u001b[01;31m\u001b[K>\u001b[m\u001b[KSacu_v1.1_s0006.g003425 MADS-box transcription factor [0.179]\n",
      "\u001b[01;31m\u001b[K>\u001b[m\u001b[KSacu_v1.1_s0006.g003429 MADS-box transcription factor [0.179]\n",
      "\u001b[01;31m\u001b[K>\u001b[m\u001b[KSacu_v1.1_s0007.g003739 MADS-box transcription factor [0.179]\n",
      "\u001b[01;31m\u001b[K>\u001b[m\u001b[KSacu_v1.1_s0008.g004031 MADS-box transcription factor [0.179]\n",
      "\u001b[01;31m\u001b[K>\u001b[m\u001b[KSacu_v1.1_s0027.g009704 MADS-box transcription factor [0.179]\n",
      "\u001b[01;31m\u001b[K>\u001b[m\u001b[KSacu_v1.1_s0033.g011014 MADS-box transcription factor [0.179]\n",
      "\u001b[01;31m\u001b[K>\u001b[m\u001b[KSacu_v1.1_s0043.g012907 MADS-box transcription factor [0.179]\n",
      "\u001b[01;31m\u001b[K>\u001b[m\u001b[KSacu_v1.1_s0043.g012908 MADS-box transcription factor [0.179]\n",
      "\u001b[01;31m\u001b[K>\u001b[m\u001b[KSacu_v1.1_s0050.g013783 MADS-box transcription factor [0.179]\n",
      "\u001b[01;31m\u001b[K>\u001b[m\u001b[KSacu_v1.1_s0087.g018504 MADS-box transcription factor [0.179]\n",
      "\u001b[01;31m\u001b[K>\u001b[m\u001b[KSacu_v1.1_s0115.g020974 MADS-box transcription factor [0.179]\n",
      "\u001b[01;31m\u001b[K>\u001b[m\u001b[KSacu_v1.1_s0129.g021995 MADS-box transcription factor [0.179]\n",
      "\u001b[01;31m\u001b[K>\u001b[m\u001b[KSacu_v1.1_s0207.g025791 MADS-box transcription factor [0.179]\n",
      "\u001b[01;31m\u001b[K>\u001b[m\u001b[KSacu_v1.1_s0239.g026597 MADS-box transcription factor [0.179]\n",
      "\u001b[01;31m\u001b[K>\u001b[m\u001b[KSacu_v1.1_s0271.g027022 MADS-box transcription factor [0.179]\n",
      "\u001b[01;31m\u001b[K>\u001b[m\u001b[KSacu_v1.1_s0932.g027847 MADS-box transcription factor [0.179]\n",
      "\u001b[01;31m\u001b[K>\u001b[m\u001b[KAZZW-2004234-Chlorokybus_atmophyticus\n",
      "\u001b[01;31m\u001b[K>\u001b[m\u001b[KDRGY-2036441-Chaetosphaeridium_globosum\n",
      "\u001b[01;31m\u001b[K>\u001b[m\u001b[KIJMT-2090153-Aphanochaete_repens\n",
      "\u001b[01;31m\u001b[K>\u001b[m\u001b[KMNNM-2042156-Cosmarium_granatum\n",
      "\u001b[01;31m\u001b[K>\u001b[m\u001b[KWDGV-2005229-Cosmarium_subtumidum\n",
      "\u001b[01;31m\u001b[K>\u001b[m\u001b[KHJVM-2025949-Cosmarium_ochthodes\n",
      "\u001b[01;31m\u001b[K>\u001b[m\u001b[KFPCO-2005600-Interfilum_paradoxum\n",
      "\u001b[01;31m\u001b[K>\u001b[m\u001b[KQWFV-2006406-Bambusina_borreri\n",
      "\u001b[01;31m\u001b[K>\u001b[m\u001b[KMWXT-2008060-Chara_vulgaris\n",
      "\u001b[01;31m\u001b[K>\u001b[m\u001b[KBFIK-2027273-Entransia_fimbriat\n",
      "\u001b[01;31m\u001b[K>\u001b[m\u001b[KPFUD-2035957-Geminella_sp.\n",
      "\u001b[01;31m\u001b[K>\u001b[m\u001b[KRPRU-2012687-Staurodesmus_omearii\n",
      "\u001b[01;31m\u001b[K>\u001b[m\u001b[KTPHT-2126301-Spirotaenia_sp.\n",
      "\u001b[01;31m\u001b[K>\u001b[m\u001b[KFQLP-2004170-Klebsormidium_subtile\n",
      "\u001b[01;31m\u001b[K>\u001b[m\u001b[KYSQT-2007847-Penium_exiguum\n",
      "\u001b[01;31m\u001b[K>\u001b[m\u001b[KSTKJ-2019062-Zygnema_sp.-A\n",
      "\u001b[01;31m\u001b[K>\u001b[m\u001b[KTPHT-2010795-Spirotaenia_sp.\n",
      "\u001b[01;31m\u001b[K>\u001b[m\u001b[KNBYP-2056123-Mesotaenium_kramstei\n",
      "\u001b[01;31m\u001b[K>\u001b[m\u001b[KQPDY-2028842-Coleochaete_irregularis\n",
      "\u001b[01;31m\u001b[K>\u001b[m\u001b[KRNAT-2007499-Eudorina_elegans\n",
      "\u001b[01;31m\u001b[K>\u001b[m\u001b[KLLEN-2041277-Pavlova_lutheri-SAG_926_1\n",
      "\u001b[01;31m\u001b[K>\u001b[m\u001b[KMOYY-2018826-Pleurotaenium_trabecul\n",
      "\u001b[01;31m\u001b[K>\u001b[m\u001b[KRYJX-2009960-Pandorina_morum\n",
      "\u001b[01;31m\u001b[K>\u001b[m\u001b[KISHC-2045472-Staurastrum_sebaldi\n",
      "\u001b[01;31m\u001b[K>\u001b[m\u001b[KVQBJ-2001736-Coleochaete_scutata\n",
      "\u001b[01;31m\u001b[K>\u001b[m\u001b[KPIVW-2001489-Ceratopteris_thalictroides\n",
      "\u001b[01;31m\u001b[K>\u001b[m\u001b[KIRBN-2000158-Scapania_nemorosa\n",
      "\u001b[01;31m\u001b[K>\u001b[m\u001b[KENQF-2084602-Lycopodium_annotinum\n",
      "\u001b[01;31m\u001b[K>\u001b[m\u001b[KPIVW-2016418-Ceratopteris_thalictroides\n",
      "\u001b[01;31m\u001b[K>\u001b[m\u001b[KFFPD-2013099-Ceratodon_purpureus\n",
      "\u001b[01;31m\u001b[K>\u001b[m\u001b[KJVSZ-2012388-Equisetum_hymale\n",
      "\u001b[01;31m\u001b[K>\u001b[m\u001b[KJVSZ-2127794-Equisetum_hymale\n",
      "\u001b[01;31m\u001b[K>\u001b[m\u001b[KAKXB-2066716-Phaeomegaceros_coriaceus\n",
      "\u001b[01;31m\u001b[K>\u001b[m\u001b[KJVSZ-2004872-Equisetum_hymale\n"
     ]
    },
    {
     "name": "stdout",
     "output_type": "stream",
     "text": [
      "\u001b[01;31m\u001b[K>\u001b[m\u001b[KLGOW-2015978-Schistochila_sp.\n",
      "\u001b[01;31m\u001b[K>\u001b[m\u001b[KANON-2035464-Leiosporoceros_dussii-B\n",
      "\u001b[01;31m\u001b[K>\u001b[m\u001b[KZFRE-2001130-Phaeoceros_carolinianus-sporophyte_1575\n",
      "\u001b[01;31m\u001b[K>\u001b[m\u001b[KRDOO-2005177-Racomitrium_varium\n",
      "\u001b[01;31m\u001b[K>\u001b[m\u001b[KCVEG-2124355-Azolla_cf._caroliniana\n",
      "\u001b[01;31m\u001b[K>\u001b[m\u001b[KPIVW-2002304-Ceratopteris_thalictroides\n",
      "\u001b[01;31m\u001b[K>\u001b[m\u001b[KPIVW-2019843-Ceratopteris_thalictroides\n",
      "\u001b[01;31m\u001b[K>\u001b[m\u001b[KRDOO-2000123-Racomitrium_varium\n",
      "\u001b[01;31m\u001b[K>\u001b[m\u001b[KRDOO-2000812-Racomitrium_varium\n",
      "\u001b[01;31m\u001b[K>\u001b[m\u001b[KDXOU-2036490-Nothoceros_aenigmaticus\n",
      "\u001b[01;31m\u001b[K>\u001b[m\u001b[KPIVW-2004036-Ceratopteris_thalictroides\n",
      "\u001b[01;31m\u001b[K>\u001b[m\u001b[KENQF-2007944-Lycopodium_annotinum\n",
      "\u001b[01;31m\u001b[K>\u001b[m\u001b[KRDOO-2000122-Racomitrium_varium\n",
      "\u001b[01;31m\u001b[K>\u001b[m\u001b[KPIVW-2020998-Ceratopteris_thalictroides\n",
      "\u001b[01;31m\u001b[K>\u001b[m\u001b[KUPMJ-2005050-Pseudolycopodiella_caroliniana\n",
      "\u001b[01;31m\u001b[K>\u001b[m\u001b[KPIVW-2004304-Ceratopteris_thalictroides\n",
      "\u001b[01;31m\u001b[K>\u001b[m\u001b[KDXOU-2004607-Nothoceros_aenigmaticus\n",
      "\u001b[01;31m\u001b[K>\u001b[m\u001b[KPIVW-2000174-Ceratopteris_thalictroides\n",
      "\u001b[01;31m\u001b[K>\u001b[m\u001b[KENQF-2004632-Lycopodium_annotinum\n",
      "\u001b[01;31m\u001b[K>\u001b[m\u001b[KJVSZ-2127811-Equisetum_hymale\n",
      "\u001b[01;31m\u001b[K>\u001b[m\u001b[KUPMJ-2018444-Pseudolycopodiella_caroliniana\n",
      "\u001b[01;31m\u001b[K>\u001b[m\u001b[KJVSZ-2014698-Equisetum_hymale\n",
      "\u001b[01;31m\u001b[K>\u001b[m\u001b[KJVSZ-2127731-Equisetum_hymale\n",
      "\u001b[01;31m\u001b[K>\u001b[m\u001b[KPIVW-2000450-Ceratopteris_thalictroides\n",
      "\u001b[01;31m\u001b[K>\u001b[m\u001b[KQMWB-2056566-Anomodon_attenuatus\n",
      "\u001b[01;31m\u001b[K>\u001b[m\u001b[KAKXB-2062983-Phaeomegaceros_coriaceus\n",
      "\u001b[01;31m\u001b[K>\u001b[m\u001b[KRDOO-2000811-Racomitrium_varium\n",
      "\u001b[01;31m\u001b[K>\u001b[m\u001b[KCBAE-2013716-Huperzia_myrisinites\n",
      "\u001b[01;31m\u001b[K>\u001b[m\u001b[KUPMJ-2005049-Pseudolycopodiella_caroliniana\n",
      "\u001b[01;31m\u001b[K>\u001b[m\u001b[KCBAE-2013582-Huperzia_myrisinites\n",
      "\u001b[01;31m\u001b[K>\u001b[m\u001b[KRDOO-2005175-Racomitrium_varium\n",
      "\u001b[01;31m\u001b[K>\u001b[m\u001b[KPIVW-2008000-Ceratopteris_thalictroides\n",
      "\u001b[01;31m\u001b[K>\u001b[m\u001b[KUPMJ-2014960-Pseudolycopodiella_caroliniana\n",
      "\u001b[01;31m\u001b[K>\u001b[m\u001b[KPIVW-2004305-Ceratopteris_thalictroides\n",
      "\u001b[01;31m\u001b[K>\u001b[m\u001b[KAKXB-2008754-Phaeomegaceros_coriaceus\n",
      "\u001b[01;31m\u001b[K>\u001b[m\u001b[KBNCU-2018766-Radula_lindenbergia\n",
      "\u001b[01;31m\u001b[K>\u001b[m\u001b[KHVBQ-2129775-Tetraphis_pellucida\n",
      "\u001b[01;31m\u001b[K>\u001b[m\u001b[KLGOW-2012213-Schistochila_sp.\n",
      "\u001b[01;31m\u001b[K>\u001b[m\u001b[KPIVW-2004303-Ceratopteris_thalictroides\n",
      "\u001b[01;31m\u001b[K>\u001b[m\u001b[KPIVW-2001491-Ceratopteris_thalictroides\n",
      "\u001b[01;31m\u001b[K>\u001b[m\u001b[KENQF-2004631-Lycopodium_annotinum\n",
      "\u001b[01;31m\u001b[K>\u001b[m\u001b[KPIVW-2001490-Ceratopteris_thalictroides\n",
      "\u001b[01;31m\u001b[K>\u001b[m\u001b[KJPYU-2008394-Marchantia_polymorpha\n",
      "\u001b[01;31m\u001b[K>\u001b[m\u001b[KFFPD-2013100-Ceratodon_purpureus\n",
      "\u001b[01;31m\u001b[K>\u001b[m\u001b[KUPMJ-2002417-Pseudolycopodiella_caroliniana\n",
      "\u001b[01;31m\u001b[K>\u001b[m\u001b[KPIVW-2002392-Ceratopteris_thalictroides\n",
      "\u001b[01;31m\u001b[K>\u001b[m\u001b[KCBAE-2009937-Huperzia_myrisinites\n",
      "\u001b[01;31m\u001b[K>\u001b[m\u001b[KJVSZ-2000820-Equisetum_hymale\n",
      "\u001b[01;31m\u001b[K>\u001b[m\u001b[KJVSZ-2008957-Equisetum_hymale\n",
      "\u001b[01;31m\u001b[K>\u001b[m\u001b[KJVSZ-2014398-Equisetum_hymale\n",
      "\u001b[01;31m\u001b[K>\u001b[m\u001b[KPIVW-2019502-Ceratopteris_thalictroides\n",
      "\u001b[01;31m\u001b[K>\u001b[m\u001b[KFFPD-2057947-Ceratodon_purpureus\n",
      "\u001b[01;31m\u001b[K>\u001b[m\u001b[KChlre_v5_5-Cre11_g467577_t1_1-Chlamydomonas_reinhardtii\n",
      "\u001b[01;31m\u001b[K>\u001b[m\u001b[KCVEG-2033633-Azolla_cf._caroliniana\n",
      "\u001b[01;31m\u001b[K>\u001b[m\u001b[KENQF-2015023-Lycopodium_annotinum\n",
      "\u001b[01;31m\u001b[K>\u001b[m\u001b[KNRWZ-2002384-Metzgeria_crassipilis\n",
      "\u001b[01;31m\u001b[K>\u001b[m\u001b[KBNCU-2085227-Radula_lindenbergia\n",
      "\u001b[01;31m\u001b[K>\u001b[m\u001b[KPIVW-2004035-Ceratopteris_thalictroides\n",
      "\u001b[01;31m\u001b[K>\u001b[m\u001b[KUPMJ-2008884-Pseudolycopodiella_caroliniana\n",
      "\u001b[01;31m\u001b[K>\u001b[m\u001b[KPIVW-2003993-Ceratopteris_thalictroides\n",
      "\u001b[01;31m\u001b[K>\u001b[m\u001b[KPIVW-2003992-Ceratopteris_thalictroides\n",
      "\u001b[01;31m\u001b[K>\u001b[m\u001b[KPIVW-2009413-Ceratopteris_thalictroides\n",
      "\u001b[01;31m\u001b[K>\u001b[m\u001b[KCBAE-2012867-Huperzia_myrisinites\n",
      "\u001b[01;31m\u001b[K>\u001b[m\u001b[KZFRE-2001131-Phaeoceros_carolinianus-sporophyte_1575\n",
      "\u001b[01;31m\u001b[K>\u001b[m\u001b[KPIVW-2000173-Ceratopteris_thalictroides\n",
      "\u001b[01;31m\u001b[K>\u001b[m\u001b[KJVSZ-2014659-Equisetum_hymale\n",
      "\u001b[01;31m\u001b[K>\u001b[m\u001b[KUPMJ-2017788-Pseudolycopodiella_caroliniana\n",
      "\u001b[01;31m\u001b[K>\u001b[m\u001b[KPIVW-2004302-Ceratopteris_thalictroides\n",
      "\u001b[01;31m\u001b[K>\u001b[m\u001b[KPIVW-2009414-Ceratopteris_thalictroides\n",
      "\u001b[01;31m\u001b[K>\u001b[m\u001b[KPIVW-2007999-Ceratopteris_thalictroides\n",
      "\u001b[01;31m\u001b[K>\u001b[m\u001b[KNRWZ-2014421-Metzgeria_crassipilis\n",
      "\u001b[01;31m\u001b[K>\u001b[m\u001b[KPIVW-2001493-Ceratopteris_thalictroides\n",
      "\u001b[01;31m\u001b[K>\u001b[m\u001b[KRDOO-2015055-Racomitrium_varium\n",
      "\u001b[01;31m\u001b[K>\u001b[m\u001b[KCVEG-2123825-Azolla_cf._caroliniana\n",
      "\u001b[01;31m\u001b[K>\u001b[m\u001b[KCVEG-2010487-Azolla_cf._caroliniana\n"
     ]
    }
   ],
   "source": [
    "grep '>' data/MIKC_orthogroup_selection-basal-v4_guide-v4.fasta"
   ]
  },
  {
   "cell_type": "code",
   "execution_count": 4,
   "metadata": {},
   "outputs": [
    {
     "name": "stdout",
     "output_type": "stream",
     "text": [
      "468 data/MIKC_orthogroup_selection-basal-v4_guide-v4.fasta\n"
     ]
    }
   ],
   "source": [
    "wc -l data/MIKC_orthogroup_selection-basal-v4_guide-v4.fasta"
   ]
  },
  {
   "attachments": {},
   "cell_type": "markdown",
   "metadata": {},
   "source": [
    "I should however remove some algae sequences, I made a semi-random list. Keeping DNA assembled genes and only a couple of RNA assembled ones from 1kP\n",
    "\n",
    "* AZZW-2004234-Chlorokybus atmophyticus\n",
    "* BFIK-2027273-Entransia fimbriat\n",
    "* DRGY-2036441-Chaetosphaeridium globosum\n",
    "* FPCO-2005600-Interfilum paradoxum\n",
    "* HJVM-2025949-Cosmarium ochthodes\n",
    "* IJMT-2090153-Aphanochaete repens\n",
    "* ISHC-2045472-Staurastrum sebaldi\n",
    "* MOYY-2018826-Pleurotaenium trabecul\n",
    "* MWXT-2008060-Chara vulgaris\n",
    "* NBYP-2056123-Mesotaenium kramstei\n",
    "* PFUD-2035957-Geminella sp.\n",
    "* QWFV-2006406-Bambusina borreri\n",
    "* RNAT-2007499-Eudorina elegans\n",
    "* RPRU-2012687-Staurodesmus omearii\n",
    "* RYJX-2009960-Pandorina morum\n",
    "* STKJ-2019062-Zygnema sp.-A\n",
    "* VQBJ-2001736-Coleochaete scutata\n",
    "* WDGV-2005229-Cosmarium subtumidum\n",
    "* YSQT-2007847-Penium exiguum\n"
   ]
  },
  {
   "cell_type": "code",
   "execution_count": 25,
   "metadata": {},
   "outputs": [
    {
     "name": "stdout",
     "output_type": "stream",
     "text": [
      "468 data/MIKC_orthogroup_selection-basal-v4_guide-v4.fasta\n",
      "38\n",
      "430\n"
     ]
    }
   ],
   "source": [
    "wc -l data/MIKC_orthogroup_selection-basal-v4_guide-v4.fasta\n",
    "grep -A1 --no-group-separator -f <( echo -e \"AZZW\\nBFIK\\nDRGY\\nFPCO\\nHJVM\\nIJMT\\nISHC\\nMOYY\\nMWXT\\nNBYP\\nPFUD\\nQWFV\\nRNAT\\nRPRU\\nRYJX\\nSTKJ\\nVQBJ\\nWDGV\\nYSQT\") data/MIKC_orthogroup_selection-basal-v4_guide-v4.fasta \\\n",
    "  | tee removetheselines.temp | wc -l\n",
    "grep -v -f removetheselines.temp data/MIKC_orthogroup_selection-basal-v4_guide-v4.fasta \\\n",
    "  | tee data/MIKC_orthogroup_selection-basal-v5_guide-v4.fasta | wc -l\n",
    "rm removetheselines.temp"
   ]
  },
  {
   "cell_type": "markdown",
   "metadata": {},
   "source": [
    "That looks good, now let's set the inseq variable to reflect our new working file name"
   ]
  },
  {
   "cell_type": "code",
   "execution_count": 26,
   "metadata": {},
   "outputs": [],
   "source": [
    "inseq='MIKC_orthogroup_selection-basal-v5_guide-v4'"
   ]
  },
  {
   "cell_type": "markdown",
   "metadata": {},
   "source": [
    "Now let's add the Azfi annotationv2 genes in there:"
   ]
  },
  {
   "cell_type": "code",
   "execution_count": 28,
   "metadata": {},
   "outputs": [
    {
     "name": "stdout",
     "output_type": "stream",
     "text": [
      "216\n"
     ]
    }
   ],
   "source": [
    "grep '>' data/$inseq.fasta -c"
   ]
  },
  {
   "cell_type": "code",
   "execution_count": 29,
   "metadata": {},
   "outputs": [],
   "source": [
    "cat data/Henriette_guideazfiv2.fasta >> data/$inseq.fasta"
   ]
  },
  {
   "cell_type": "code",
   "execution_count": 30,
   "metadata": {},
   "outputs": [
    {
     "name": "stdout",
     "output_type": "stream",
     "text": [
      "236\n"
     ]
    }
   ],
   "source": [
    "grep '>' data/$inseq.fasta -c"
   ]
  },
  {
   "cell_type": "markdown",
   "metadata": {},
   "source": [
    "Now I'm adding two gymnosperm gene sets. First Juniperus: XMGP and second parasitaxus JZVE"
   ]
  },
  {
   "cell_type": "code",
   "execution_count": 33,
   "metadata": {},
   "outputs": [
    {
     "name": "stdout",
     "output_type": "stream",
     "text": [
      ">\u001b[01;31m\u001b[KXMGP\u001b[m\u001b[K-2014150-Juniperus_scopulorum\n",
      ">\u001b[01;31m\u001b[KJZVE\u001b[m\u001b[K-2034291-Parasitaxus_usta\n",
      ">\u001b[01;31m\u001b[KXMGP\u001b[m\u001b[K-2012223-Juniperus_scopulorum\n",
      ">\u001b[01;31m\u001b[KXMGP\u001b[m\u001b[K-2002769-Juniperus_scopulorum\n",
      ">\u001b[01;31m\u001b[KJZVE\u001b[m\u001b[K-2035359-Parasitaxus_usta\n",
      ">\u001b[01;31m\u001b[KJZVE\u001b[m\u001b[K-2036348-Parasitaxus_usta\n",
      ">\u001b[01;31m\u001b[KXMGP\u001b[m\u001b[K-2007460-Juniperus_scopulorum\n",
      ">\u001b[01;31m\u001b[KXMGP\u001b[m\u001b[K-2008586-Juniperus_scopulorum\n",
      ">\u001b[01;31m\u001b[KJZVE\u001b[m\u001b[K-2036124-Parasitaxus_usta\n",
      ">\u001b[01;31m\u001b[KJZVE\u001b[m\u001b[K-2032691-Parasitaxus_usta\n",
      ">\u001b[01;31m\u001b[KJZVE\u001b[m\u001b[K-2006929-Parasitaxus_usta\n",
      ">\u001b[01;31m\u001b[KXMGP\u001b[m\u001b[K-2005352-Juniperus_scopulorum\n",
      ">\u001b[01;31m\u001b[KJZVE\u001b[m\u001b[K-2007309-Parasitaxus_usta\n",
      ">\u001b[01;31m\u001b[KJZVE\u001b[m\u001b[K-2003013-Parasitaxus_usta\n",
      ">\u001b[01;31m\u001b[KXMGP\u001b[m\u001b[K-2009071-Juniperus_scopulorum\n",
      ">\u001b[01;31m\u001b[KXMGP\u001b[m\u001b[K-2003328-Juniperus_scopulorum\n",
      ">\u001b[01;31m\u001b[KJZVE\u001b[m\u001b[K-2003919-Parasitaxus_usta\n",
      ">\u001b[01;31m\u001b[KJZVE\u001b[m\u001b[K-2004736-Parasitaxus_usta\n",
      ">\u001b[01;31m\u001b[KXMGP\u001b[m\u001b[K-2007459-Juniperus_scopulorum\n",
      ">\u001b[01;31m\u001b[KXMGP\u001b[m\u001b[K-2058097-Juniperus_scopulorum\n",
      ">\u001b[01;31m\u001b[KJZVE\u001b[m\u001b[K-2004735-Parasitaxus_usta\n",
      ">\u001b[01;31m\u001b[KJZVE\u001b[m\u001b[K-2036946-Parasitaxus_usta\n",
      ">\u001b[01;31m\u001b[KJZVE\u001b[m\u001b[K-2007246-Parasitaxus_usta\n"
     ]
    }
   ],
   "source": [
    "grep -f <(echo -e \"XMGP\\nJZVE\") data/MIKC_orthogroup_linear.fasta"
   ]
  },
  {
   "cell_type": "code",
   "execution_count": 34,
   "metadata": {},
   "outputs": [],
   "source": [
    "grep -f <(echo -e \"XMGP\\nJZVE\") data/MIKC_orthogroup_linear.fasta >> data/$inseq.fasta"
   ]
  },
  {
   "cell_type": "code",
   "execution_count": 35,
   "metadata": {},
   "outputs": [
    {
     "name": "stdout",
     "output_type": "stream",
     "text": [
      "259\n"
     ]
    }
   ],
   "source": [
    "grep '>' data/$inseq.fasta -c"
   ]
  },
  {
   "cell_type": "markdown",
   "metadata": {},
   "source": [
    "Ok, that should be sufficient. Now let's allign, trim, again make sure there's only sequences with M I and K domains, and make a tree!"
   ]
  },
  {
   "cell_type": "markdown",
   "metadata": {},
   "source": [
    "# aligning and trimming"
   ]
  },
  {
   "cell_type": "code",
   "execution_count": 36,
   "metadata": {},
   "outputs": [
    {
     "name": "stdout",
     "output_type": "stream",
     "text": [
      "(phylogenetics) "
     ]
    },
    {
     "ename": "",
     "evalue": "1",
     "output_type": "error",
     "traceback": []
    }
   ],
   "source": [
    "conda activate phylogenetics"
   ]
  },
  {
   "cell_type": "code",
   "execution_count": 37,
   "metadata": {
    "scrolled": true
   },
   "outputs": [
    {
     "name": "stdout",
     "output_type": "stream",
     "text": [
      "(phylogenetics) outputhat23=16\n",
      "treein = 0\n",
      "compacttree = 0\n",
      "stacksize: 8192 kb\n",
      "rescale = 1\n",
      "All-to-all alignment.\n",
      "tbfast-pair (aa) Version 7.458\n",
      "alg=N, model=BLOSUM62, 2.00, -0.00, -0.00, noshift, amax=0.0\n",
      "8 thread(s)\n",
      "\n",
      "outputhat23=16\n",
      "Loading 'hat3.seed' ... \n",
      "done.\n",
      "Writing hat3 for iterative refinement\n",
      "rescale = 1\n",
      "Gap Penalty = -1.53, +0.00, +0.00\n",
      "tbutree = 1, compacttree = 0\n",
      "Constructing a UPGMA tree ... \n",
      "  250 / 259\n",
      "done.\n",
      "\n",
      "Progressive alignment ... \n",
      "STEP   204 /258 (thread    3) \n",
      "Reallocating (by thread 5) ..done. *alloclen = 2932\n",
      "STEP   258 /258 (thread    2) \n",
      "done.\n",
      "tbfast (aa) Version 7.458\n",
      "alg=A, model=BLOSUM62, 1.53, -0.00, -0.00, noshift, amax=0.0\n",
      "8 thread(s)\n",
      "\n",
      "minimumweight = 0.000010\n",
      "autosubalignment = 0.000000\n",
      "nthread = 8\n",
      "randomseed = 0\n",
      "blosum 62 / kimura 200\n",
      "poffset = 0\n",
      "niter = 16\n",
      "sueff_global = 0.100000\n",
      "nadd = 16\n",
      "Loading 'hat3' ... done.\n",
      "rescale = 1\n",
      "\n",
      "  250 / 259\n",
      "Segment   1/  1    1-1979\n",
      "003-0514-1 (thread    6) identical     \n",
      "Converged2.\n",
      "done\n",
      "dvtditr (aa) Version 7.458\n",
      "alg=A, model=BLOSUM62, 1.53, -0.00, -0.00, noshift, amax=0.0\n",
      "8 thread(s)\n",
      "\n",
      "\n",
      "Strategy:\n",
      " E-INS-i (Suitable for sequences with long unalignable regions, very slow)\n",
      " Iterative refinement method (<16) with LOCAL pairwise alignment with generalized affine gap costs (Altschul 1998)\n",
      "\n",
      "If unsure which option to use, try 'mafft --auto input > output'.\n",
      "For more information, see 'mafft --help', 'mafft --man' and the mafft page.\n",
      "\n",
      "The default gap scoring scheme has been changed in version 7.110 (2013 Oct).\n",
      "It tends to insert more gaps into gap-rich regions than previous versions.\n",
      "To disable this change, add the --leavegappyregion option.\n",
      "\n",
      "Parameters for the E-INS-i option have been changed in version 7.243 (2015 Jun).\n",
      "To switch to the old parameters, use --oldgenafpair, instead of --genafpair.\n",
      "\n",
      "(phylogenetics) "
     ]
    },
    {
     "ename": "",
     "evalue": "1",
     "output_type": "error",
     "traceback": []
    }
   ],
   "source": [
    "if    [ ! -d ./data/alignments_raw/ ]\n",
    "then  mkdir  ./data/alignments_raw\n",
    "fi\n",
    "if    [ ! -f \"./data/alignments_raw/$inseq\"_aligned-mafft-linsi.fasta ]\n",
    "then  einsi --thread $(nproc) data/$inseq.fasta > ./data/alignments_raw/\"$inseq\"_aligned-mafft-einsi.fasta\n",
    "fi"
   ]
  },
  {
   "cell_type": "code",
   "execution_count": 38,
   "metadata": {},
   "outputs": [
    {
     "name": "stdout",
     "output_type": "stream",
     "text": [
      "(phylogenetics) (phylogenetics) (phylogenetics) (phylogenetics) (phylogenetics) (phylogenetics) trimming alignment data/alignments_raw/MIKC_orthogroup_selection-basal-v5_guide-v4_aligned-mafft-einsi.fasta\n",
      "\n",
      "WARNING: Removing sequence 'LLEN-2041277-Pavlova_lutheri-SAG_926_1' composed only by gaps\n",
      "WARNING: Removing sequence 'JVSZ-2000820-Equisetum_hymale' composed only by gaps\n",
      "WARNING: Removing sequence 'XMGP-2014150-Juniperus_scopulorum' composed only by gaps\n",
      "WARNING: Removing sequence 'JZVE-2034291-Parasitaxus_usta' composed only by gaps\n",
      "WARNING: Removing sequence 'XMGP-2012223-Juniperus_scopulorum' composed only by gaps\n",
      "WARNING: Removing sequence 'XMGP-2002769-Juniperus_scopulorum' composed only by gaps\n",
      "WARNING: Removing sequence 'JZVE-2035359-Parasitaxus_usta' composed only by gaps\n",
      "WARNING: Removing sequence 'JZVE-2036348-Parasitaxus_usta' composed only by gaps\n",
      "WARNING: Removing sequence 'XMGP-2007460-Juniperus_scopulorum' composed only by gaps\n",
      "WARNING: Removing sequence 'XMGP-2008586-Juniperus_scopulorum' composed only by gaps\n",
      "WARNING: Removing sequence 'JZVE-2036124-Parasitaxus_usta' composed only by gaps\n",
      "WARNING: Removing sequence 'JZVE-2032691-Parasitaxus_usta' composed only by gaps\n",
      "WARNING: Removing sequence 'JZVE-2006929-Parasitaxus_usta' composed only by gaps\n",
      "WARNING: Removing sequence 'XMGP-2005352-Juniperus_scopulorum' composed only by gaps\n",
      "WARNING: Removing sequence 'JZVE-2007309-Parasitaxus_usta' composed only by gaps\n",
      "WARNING: Removing sequence 'JZVE-2003013-Parasitaxus_usta' composed only by gaps\n",
      "WARNING: Removing sequence 'XMGP-2009071-Juniperus_scopulorum' composed only by gaps\n",
      "WARNING: Removing sequence 'XMGP-2003328-Juniperus_scopulorum' composed only by gaps\n",
      "WARNING: Removing sequence 'JZVE-2003919-Parasitaxus_usta' composed only by gaps\n",
      "WARNING: Removing sequence 'JZVE-2004736-Parasitaxus_usta' composed only by gaps\n",
      "WARNING: Removing sequence 'XMGP-2007459-Juniperus_scopulorum' composed only by gaps\n",
      "WARNING: Removing sequence 'XMGP-2058097-Juniperus_scopulorum' composed only by gaps\n",
      "WARNING: Removing sequence 'JZVE-2004735-Parasitaxus_usta' composed only by gaps\n",
      "WARNING: Removing sequence 'JZVE-2036946-Parasitaxus_usta' composed only by gaps\n",
      "WARNING: Removing sequence 'JZVE-2007246-Parasitaxus_usta' composed only by gaps\n",
      "\n",
      "(phylogenetics) "
     ]
    },
    {
     "ename": "",
     "evalue": "1",
     "output_type": "error",
     "traceback": []
    }
   ],
   "source": [
    "if    [ ! -d data/alignments_trimmed ]\n",
    "then  mkdir  data/alignments_trimmed \n",
    "fi\n",
    "\n",
    "# define appendix only once here:\n",
    "trimappendix='trim-gt1'\n",
    "\n",
    "\n",
    "for a in \"data/alignments_raw/$inseq\"_aligned*.fasta\n",
    "do  appendix=$(echo $a | cut -d '/' -f 3- | sed \"s/$inseq\\_//\" | sed \"s/.fasta//\")\n",
    "    if    [ ! -f data/alignments_trimmed/\"$inseq\"_\"$appendix\"_\"$trimappendix\".fasta ]\n",
    "    then  echo \"trimming alignment $a\"\n",
    "          sed -i 's/ /_/g' $a\n",
    "          trimal -in $a   \\\n",
    "                 -out data/alignments_trimmed/\"$inseq\"_\"$appendix\"_\"$trimappendix\".fasta \\\n",
    "                 -gt .1 \\\n",
    "                 -htmlout data/alignments_trimmed/\"$inseq\"_\"$appendix\"_\"$trimappendix\".html\n",
    "    fi\n",
    "done"
   ]
  },
  {
   "cell_type": "markdown",
   "metadata": {},
   "source": [
    "Well those warnings are not a good sign... I made a mistake making the fasta!"
   ]
  },
  {
   "cell_type": "code",
   "execution_count": 97,
   "metadata": {
    "scrolled": true
   },
   "outputs": [
    {
     "name": "stdout",
     "output_type": "stream",
     "text": [
      "(phylogenetics) data/alignments_trimmed/MIKC_orthogroup_selection-basal-v4_guide-v4_aligned-mafft-einsi_trim-gt1.fasta\n",
      "data/alignments_trimmed/MIKC_orthogroup_selection-basal-v4_guide-v4_aligned-mafft-einsi_trim-gt1-seqrmmanual.fasta\n",
      "(phylogenetics) "
     ]
    },
    {
     "ename": "",
     "evalue": "1",
     "output_type": "error",
     "traceback": []
    }
   ],
   "source": [
    "inseq=MIKC_orthogroup_selection-basal-v4_guide-v4\n",
    "ls data/alignments_trimmed/\"$inseq\"_aligned*fasta"
   ]
  },
  {
   "cell_type": "code",
   "execution_count": null,
   "metadata": {},
   "outputs": [],
   "source": [
    "conda activate phylogenetics"
   ]
  },
  {
   "cell_type": "code",
   "execution_count": 98,
   "metadata": {},
   "outputs": [
    {
     "name": "stdout",
     "output_type": "stream",
     "text": [
      "(phylogenetics) (phylogenetics) (phylogenetics) (phylogenetics) (phylogenetics) making a tree of file data/alignments_trimmed/MIKC_orthogroup_selection-basal-v3_guide-v4_aligned-mafft-einsi_trim-gt1-seqrmmanual.fasta\n",
      "(phylogenetics) The first lines of alignment data/alignments_trimmed/MIKC_orthogroup_selection-basal-v3_guide-v4_aligned-mafft-einsi_trim-gt1-seqrmmanual.fasta look like this\n",
      "(phylogenetics) >tr|Q5KU24|Q5KU24_COLSC_MADS-box_transcription_factor_CsMADS1_OS=Coleochaete_scutata_OX=3125_GN=csmads1_PE=2_SV=1\n",
      "------MGRGKIEIRRIENATSRQVTFSKRRNGLLKKAYELSVLCDVDIAVIVFSPTGKL\n",
      "FQYASS-SMKEILERYEQVPPEQKEK-----GSQRLDNM-DYLNREVAKLRNEVEHKYHE\n",
      "ARQLEGEDLDRLGVYELEQLEQKLSNSMRRIRGRKDELMKAELEGLRKQVADMETASNYL\n",
      "LQSIPGIRTMPSLGG-------------------------------NPA-----------\n",
      "----------------------STSLQLGSDRLFGNRGSQAAAAAQQEWKN--ASSPTDW\n",
      "KTEDSWPWVQPEWKNQ\n",
      ">tr|Q5KTX4|Q5KTX4_9VIRI_MADS-box_protein_CpMADS1_(Fragment)_OS=Closterium_peracerosum-strigosum-littorale_complex_OX=34146_GN=CpMADS1_PE=2_SV=1\n",
      "------MGRGKIEIRKIDNATTRQVTFSKRRNGLLKKAYELAVLCDVEIGVIIFSATGKL\n",
      "FQYAST-NMDSIVERYRRLALRPPWQ-----QQNPPQSTPGQLQARTQQQRQQLSRLQAE\n",
      "(phylogenetics) (phylogenetics) (phylogenetics) Making a directory MIKC_orthogroup_selection-basal-v3_guide-v4_aligned-mafft-einsi_trim-gt1-seqrmmanual to store trees (name based on alignment filename)\n",
      "(phylogenetics) (phylogenetics) (phylogenetics) (phylogenetics) (phylogenetics) [1] 29848\n",
      "(phylogenetics) "
     ]
    },
    {
     "ename": "",
     "evalue": "1",
     "output_type": "error",
     "traceback": []
    }
   ],
   "source": [
    "a=data/alignments_trimmed/MIKC_orthogroup_selection-basal-v3_guide-v4_aligned-mafft-einsi_trim-gt1-seqrmmanual.fasta\n",
    "\n",
    "iqpendix='iqtree-b100'\n",
    "#iqpendix='iqtree-MFP-bb2000-alrt2000'\n",
    "\n",
    "echo \"making a tree of file $a\"\n",
    "echo \"The first lines of alignment $a look like this\"\n",
    "head $a\n",
    "\n",
    "file_appendix=$(echo $a | cut -d '/' -f 3- | sed \"s/$inseq\\_//\" | sed \"s/.fasta//\")\n",
    "echo \"Making a directory $file_appendix to store trees (name based on alignment filename)\"\n",
    "\n",
    "if   [ ! -d    analyses/\"$inseq\"_trees/\"$file_appendix\" ]\n",
    "then mkdir -p  analyses/\"$inseq\"_trees/\"$file_appendix\" \n",
    "fi\n",
    "\n",
    "iqprefix=analyses/\"$inseq\"_trees/\"$file_appendix\"/\"$inseq\"_\"$file_appendix\"_\"$iqpendix\"\n",
    "if   [ ! -f analyses/\"$inseq\"_trees/\"$file_appendix\"/\"$inseq\"_\"$file_appendix\"_iqtree-bb1000.tree ]\n",
    "then nice iqtree -s $a \\\n",
    "                 -m 'MFP' \\\n",
    "                 -b 100 \\\n",
    "                 -nt AUTO \\\n",
    "                 -ntmax $(nproc)  \\\n",
    "                 -pre  \"$iqprefix\" \\\n",
    "                 2>   \"$iqprefix\".stderr \\\n",
    "                 >    \"$iqprefix\".stdout && cat \"$iqprefix\".log | mail -s IQtree_run laura &\n",
    "fi"
   ]
  },
  {
   "cell_type": "code",
   "execution_count": 163,
   "metadata": {
    "scrolled": true
   },
   "outputs": [
    {
     "name": "stdout",
     "output_type": "stream",
     "text": [
      "Iteration 330 / LogL: -56247.713 / Time: 0h:14m:12s (0h:3m:22s left)\n",
      "Iteration 340 / LogL: -56247.197 / Time: 0h:14m:36s (0h:2m:55s left)\n",
      "Iteration 350 / LogL: -56256.066 / Time: 0h:14m:59s (0h:2m:29s left)\n",
      "Estimate model parameters (epsilon = 0.100)\n",
      "BETTER TREE FOUND at iteration 357: -56230.385\n",
      "Iteration 360 / LogL: -56271.003 / Time: 0h:15m:22s (0h:4m:9s left)\n",
      "Iteration 370 / LogL: -56259.969 / Time: 0h:15m:48s (0h:3m:43s left)\n",
      "Iteration 380 / LogL: -56234.284 / Time: 0h:16m:11s (0h:3m:17s left)\n",
      "Iteration 390 / LogL: -56258.935 / Time: 0h:16m:35s (0h:2m:51s left)\n",
      "Iteration 400 / LogL: -56286.262 / Time: 0h:16m:59s (0h:2m:25s left)\n",
      "Iteration 410 / LogL: -56244.922 / Time: 0h:17m:23s (0h:1m:59s left)\n",
      "Estimate model parameters (epsilon = 0.100)\n",
      "BETTER TREE FOUND at iteration 419: -56229.714\n",
      "Iteration 420 / LogL: -56247.481 / Time: 0h:17m:48s (0h:4m:12s left)\n",
      "Iteration 430 / LogL: -56252.439 / Time: 0h:18m:13s (0h:3m:46s left)\n",
      "Estimate model parameters (epsilon = 0.100)\n",
      "BETTER TREE FOUND at iteration 433: -56229.677\n",
      "Iteration 440 / LogL: -56237.865 / Time: 0h:18m:36s (0h:3m:56s left)\n",
      "Iteration 450 / LogL: -56240.653 / Time: 0h:19m:0s (0h:3m:30s left)\n",
      "Iteration 460 / LogL: -56238.996 / Time: 0h:19m:24s (0h:3m:5s left)\n",
      "Iteration 470 / LogL: -56243.470 / Time: 0h:19m:47s (0h:2m:39s left)\n",
      "Iteration 480 / LogL: -56251.452 / Time: 0h:20m:12s (0h:2m:14s left)\n",
      "Iteration 490 / LogL: -56237.825 / Time: 0h:20m:36s (0h:1m:48s left)\n",
      "Iteration 500 / LogL: -56231.620 / Time: 0h:21m:1s (0h:1m:23s left)\n",
      "Estimate model parameters (epsilon = 0.100)\n",
      "BETTER TREE FOUND at iteration 503: -56229.043\n",
      "Iteration 510 / LogL: -56294.685 / Time: 0h:21m:25s (0h:3m:54s left)\n",
      "Iteration 520 / LogL: -56249.993 / Time: 0h:21m:48s (0h:3m:29s left)\n",
      "Iteration 530 / LogL: -56248.364 / Time: 0h:22m:12s (0h:3m:3s left)\n",
      "Iteration 540 / LogL: -56231.326 / Time: 0h:22m:37s (0h:2m:38s left)\n",
      "(phylogenetics) "
     ]
    },
    {
     "ename": "",
     "evalue": "1",
     "output_type": "error",
     "traceback": []
    }
   ],
   "source": [
    "tail -n 30 $iqprefix.log"
   ]
  },
  {
   "cell_type": "code",
   "execution_count": 168,
   "metadata": {
    "scrolled": false
   },
   "outputs": [
    {
     "name": "stdout",
     "output_type": "stream",
     "text": [
      "51\n",
      "(phylogenetics) ===> START BOOTSTRAP REPLICATE NUMBER 1\n",
      "===> START BOOTSTRAP REPLICATE NUMBER 2\n",
      "===> START BOOTSTRAP REPLICATE NUMBER 3\n",
      "===> START BOOTSTRAP REPLICATE NUMBER 4\n",
      "===> START BOOTSTRAP REPLICATE NUMBER 5\n",
      "===> START BOOTSTRAP REPLICATE NUMBER 6\n",
      "===> START BOOTSTRAP REPLICATE NUMBER 7\n",
      "===> START BOOTSTRAP REPLICATE NUMBER 8\n",
      "===> START BOOTSTRAP REPLICATE NUMBER 9\n",
      "===> START BOOTSTRAP REPLICATE NUMBER 10\n",
      "===> START BOOTSTRAP REPLICATE NUMBER 11\n",
      "===> START BOOTSTRAP REPLICATE NUMBER 12\n",
      "===> START BOOTSTRAP REPLICATE NUMBER 13\n",
      "===> START BOOTSTRAP REPLICATE NUMBER 14\n",
      "===> START BOOTSTRAP REPLICATE NUMBER 15\n",
      "===> START BOOTSTRAP REPLICATE NUMBER 16\n",
      "===> START BOOTSTRAP REPLICATE NUMBER 17\n",
      "===> START BOOTSTRAP REPLICATE NUMBER 18\n",
      "===> START BOOTSTRAP REPLICATE NUMBER 19\n",
      "===> START BOOTSTRAP REPLICATE NUMBER 20\n",
      "===> START BOOTSTRAP REPLICATE NUMBER 21\n",
      "===> START BOOTSTRAP REPLICATE NUMBER 22\n",
      "===> START BOOTSTRAP REPLICATE NUMBER 23\n",
      "===> START BOOTSTRAP REPLICATE NUMBER 24\n",
      "===> START BOOTSTRAP REPLICATE NUMBER 25\n",
      "===> START BOOTSTRAP REPLICATE NUMBER 26\n",
      "===> START BOOTSTRAP REPLICATE NUMBER 27\n",
      "===> START BOOTSTRAP REPLICATE NUMBER 28\n",
      "===> START BOOTSTRAP REPLICATE NUMBER 29\n",
      "===> START BOOTSTRAP REPLICATE NUMBER 30\n",
      "===> START BOOTSTRAP REPLICATE NUMBER 31\n",
      "===> START BOOTSTRAP REPLICATE NUMBER 32\n",
      "===> START BOOTSTRAP REPLICATE NUMBER 33\n",
      "===> START BOOTSTRAP REPLICATE NUMBER 34\n",
      "===> START BOOTSTRAP REPLICATE NUMBER 35\n",
      "===> START BOOTSTRAP REPLICATE NUMBER 36\n",
      "===> START BOOTSTRAP REPLICATE NUMBER 37\n",
      "===> START BOOTSTRAP REPLICATE NUMBER 38\n",
      "===> START BOOTSTRAP REPLICATE NUMBER 39\n",
      "===> START BOOTSTRAP REPLICATE NUMBER 40\n",
      "===> START BOOTSTRAP REPLICATE NUMBER 41\n",
      "===> START BOOTSTRAP REPLICATE NUMBER 42\n",
      "===> START BOOTSTRAP REPLICATE NUMBER 43\n",
      "===> START BOOTSTRAP REPLICATE NUMBER 44\n",
      "===> START BOOTSTRAP REPLICATE NUMBER 45\n",
      "===> START BOOTSTRAP REPLICATE NUMBER 46\n",
      "===> START BOOTSTRAP REPLICATE NUMBER 47\n",
      "===> START BOOTSTRAP REPLICATE NUMBER 48\n",
      "===> START BOOTSTRAP REPLICATE NUMBER 49\n",
      "===> START BOOTSTRAP REPLICATE NUMBER 50\n",
      "===> START BOOTSTRAP REPLICATE NUMBER 51\n",
      "(phylogenetics) "
     ]
    },
    {
     "ename": "",
     "evalue": "1",
     "output_type": "error",
     "traceback": []
    }
   ],
   "source": [
    "grep 'START BOOTSTRAP'  $iqprefix.log -c \n",
    "grep 'START BOOTSTRAP'  $iqprefix.log"
   ]
  },
  {
   "cell_type": "code",
   "execution_count": 170,
   "metadata": {},
   "outputs": [
    {
     "name": "stdout",
     "output_type": "stream",
     "text": [
      "50\n",
      "(phylogenetics) Total wall-clock time used: 1824.522 sec (0h:30m:24s)\n",
      "Total wall-clock time used: 744.728 sec (0h:12m:24s)\n",
      "Total wall-clock time used: 1873.262 sec (0h:31m:13s)\n",
      "Total wall-clock time used: 799.357 sec (0h:13m:19s)\n",
      "Total wall-clock time used: 863.983 sec (0h:14m:23s)\n",
      "Total wall-clock time used: 1640.990 sec (0h:27m:20s)\n",
      "Total wall-clock time used: 1036.143 sec (0h:17m:16s)\n",
      "Total wall-clock time used: 1143.690 sec (0h:19m:3s)\n",
      "Total wall-clock time used: 733.901 sec (0h:12m:13s)\n",
      "Total wall-clock time used: 2150.139 sec (0h:35m:50s)\n",
      "Total wall-clock time used: 1708.405 sec (0h:28m:28s)\n",
      "Total wall-clock time used: 1322.112 sec (0h:22m:2s)\n",
      "Total wall-clock time used: 726.797 sec (0h:12m:6s)\n",
      "Total wall-clock time used: 1921.855 sec (0h:32m:1s)\n",
      "Total wall-clock time used: 947.483 sec (0h:15m:47s)\n",
      "Total wall-clock time used: 2331.695 sec (0h:38m:51s)\n",
      "Total wall-clock time used: 762.739 sec (0h:12m:42s)\n",
      "Total wall-clock time used: 1776.778 sec (0h:29m:36s)\n",
      "Total wall-clock time used: 1141.909 sec (0h:19m:1s)\n",
      "Total wall-clock time used: 741.096 sec (0h:12m:21s)\n",
      "Total wall-clock time used: 1256.013 sec (0h:20m:56s)\n",
      "Total wall-clock time used: 1866.554 sec (0h:31m:6s)\n",
      "Total wall-clock time used: 2594.450 sec (0h:43m:14s)\n",
      "Total wall-clock time used: 822.935 sec (0h:13m:42s)\n",
      "Total wall-clock time used: 1404.341 sec (0h:23m:24s)\n",
      "Total wall-clock time used: 1642.215 sec (0h:27m:22s)\n",
      "Total wall-clock time used: 732.447 sec (0h:12m:12s)\n",
      "Total wall-clock time used: 1367.766 sec (0h:22m:47s)\n",
      "Total wall-clock time used: 825.107 sec (0h:13m:45s)\n",
      "Total wall-clock time used: 2687.206 sec (0h:44m:47s)\n",
      "Total wall-clock time used: 1234.591 sec (0h:20m:34s)\n",
      "Total wall-clock time used: 810.708 sec (0h:13m:30s)\n",
      "Total wall-clock time used: 1642.881 sec (0h:27m:22s)\n",
      "Total wall-clock time used: 740.861 sec (0h:12m:20s)\n",
      "Total wall-clock time used: 876.490 sec (0h:14m:36s)\n",
      "Total wall-clock time used: 1109.132 sec (0h:18m:29s)\n",
      "Total wall-clock time used: 871.016 sec (0h:14m:31s)\n",
      "Total wall-clock time used: 1058.863 sec (0h:17m:38s)\n",
      "Total wall-clock time used: 1252.126 sec (0h:20m:52s)\n",
      "Total wall-clock time used: 1582.865 sec (0h:26m:22s)\n",
      "Total wall-clock time used: 1190.265 sec (0h:19m:50s)\n",
      "Total wall-clock time used: 1552.429 sec (0h:25m:52s)\n",
      "Total wall-clock time used: 1102.675 sec (0h:18m:22s)\n",
      "Total wall-clock time used: 1100.478 sec (0h:18m:20s)\n",
      "Total wall-clock time used: 1706.617 sec (0h:28m:26s)\n",
      "Total wall-clock time used: 1039.499 sec (0h:17m:19s)\n",
      "Total wall-clock time used: 705.384 sec (0h:11m:45s)\n",
      "Total wall-clock time used: 1230.874 sec (0h:20m:30s)\n",
      "Total wall-clock time used: 1665.013 sec (0h:27m:45s)\n",
      "Total wall-clock time used: 1978.078 sec (0h:32m:58s)\n",
      "(phylogenetics) "
     ]
    },
    {
     "ename": "",
     "evalue": "1",
     "output_type": "error",
     "traceback": []
    }
   ],
   "source": [
    "grep 'Total wall-clock time used:'  $iqprefix.log -c \n",
    "grep 'Total wall-clock time used:'  $iqprefix.log #| cut -d ':' -f 2 | cut -d ' ' -f 2 \n"
   ]
  },
  {
   "cell_type": "markdown",
   "metadata": {},
   "source": [
    "Now let's try something completely different:"
   ]
  },
  {
   "cell_type": "code",
   "execution_count": 1,
   "metadata": {
    "scrolled": true
   },
   "outputs": [
    {
     "name": "stdout",
     "output_type": "stream",
     "text": [
      "data/alignments_trimmed/MIKC_orthogroup_selection-basal-v4_guide-v4_aligned-mafft-einsi_trim-gt1.fasta\n",
      "data/alignments_trimmed/MIKC_orthogroup_selection-basal-v4_guide-v4_aligned-mafft-einsi_trim-gt1-seqrmmanual2.fasta\n",
      "data/alignments_trimmed/MIKC_orthogroup_selection-basal-v4_guide-v4_aligned-mafft-einsi_trim-gt1-seqrmmanual.fasta\n"
     ]
    }
   ],
   "source": [
    "inseq=MIKC_orthogroup_selection-basal-v4_guide-v4\n",
    "ls data/alignments_trimmed/\"$inseq\"_aligned*fasta\n"
   ]
  },
  {
   "cell_type": "code",
   "execution_count": 2,
   "metadata": {},
   "outputs": [
    {
     "name": "stdout",
     "output_type": "stream",
     "text": [
      "(phylogenetics) "
     ]
    },
    {
     "ename": "",
     "evalue": "1",
     "output_type": "error",
     "traceback": []
    }
   ],
   "source": [
    "conda activate phylogenetics"
   ]
  },
  {
   "cell_type": "code",
   "execution_count": 8,
   "metadata": {},
   "outputs": [
    {
     "name": "stdout",
     "output_type": "stream",
     "text": [
      "(phylogenetics) (phylogenetics) (phylogenetics) (phylogenetics) (phylogenetics) making a tree of file data/alignments_trimmed/MIKC_orthogroup_selection-basal-v4_guide-v4_aligned-mafft-einsi_trim-gt1-seqrmmanual2.fasta\n",
      "(phylogenetics) The first lines of alignment data/alignments_trimmed/MIKC_orthogroup_selection-basal-v4_guide-v4_aligned-mafft-einsi_trim-gt1-seqrmmanual2.fasta look like this\n",
      "(phylogenetics) >tr|Q5KU24|Q5KU24_COLSC_MADS-box_transcription_factor_CsMADS1_OS=Coleochaete_scutata_OX=3125_GN=csmads1_PE=2_SV=1/1-170\n",
      "MGRGKIEIRRIENATSRQVTFSKRRNGLLKKAYELSVLCDVDIAVIVFSPTGKLFQYASSSMKEILERYEQV\n",
      "PPEQKEQRLDNMDYLNREVAKLRNEVEHKYHEARQLEGEDLDRLGVYELEQLEQKLSNSMRRIRGRKDELMK\n",
      "AELEGLRKQVADMETALVALLQSIPG\n",
      ">tr|Q5KTX4|Q5KTX4_9VIRI_MADS-box_protein_CpMADS1_(Fragment)_OS=Closterium_peracerosum-strigosum-littorale_complex_OX=34146_GN=CpMADS1_PE=2_SV=1/1-159\n",
      "MGRGKIEIRKIDNATTRQVTFSKRRNGLLKKAYELAVLCDVEIGVIIFSATGKLFQYASTNMDSIVERYRRL\n",
      "ALETQSRTQEDTK-KAAEPQPLDLELSRLQAEQRALVAESFEGLGLEEMRQLEKQLEASLSRLRERKEELFN\n",
      "RTISELKSR---LEGRSKA-------\n",
      ">cgMADS1_BAD88436/1-162\n",
      "MGRAKIEIKRIDNATSRQVTFSKRRNGLLKKAYELSVLCDADIAVIMFSPTGKLFEYANSSMKEILDRYHSC\n",
      "(phylogenetics) (phylogenetics) (phylogenetics) Making a directory aligned-mafft-einsi_trim-gt1-seqrmmanual2 to store trees (name based on alignment filename)\n",
      "(phylogenetics) (phylogenetics) (phylogenetics) (phylogenetics) (phylogenetics) [1] 47386\n",
      "(phylogenetics) "
     ]
    },
    {
     "ename": "",
     "evalue": "1",
     "output_type": "error",
     "traceback": []
    }
   ],
   "source": [
    "a=data/alignments_trimmed/MIKC_orthogroup_selection-basal-v4_guide-v4_aligned-mafft-einsi_trim-gt1-seqrmmanual2.fasta\n",
    "\n",
    "#iqpendix='iqtree-b100'\n",
    "iqpendix='iqtree-MFP-bb2000-alrt2000'\n",
    "\n",
    "echo \"making a tree of file $a\"\n",
    "echo \"The first lines of alignment $a look like this\"\n",
    "head $a\n",
    "\n",
    "file_appendix=$(echo $a | cut -d '/' -f 3- | sed \"s/$inseq\\_//\" | sed \"s/.fasta//\")\n",
    "echo \"Making a directory $file_appendix to store trees (name based on alignment filename)\"\n",
    "\n",
    "if   [ ! -d    analyses/\"$inseq\"_trees/\"$file_appendix\" ]\n",
    "then mkdir -p  analyses/\"$inseq\"_trees/\"$file_appendix\" \n",
    "fi\n",
    "\n",
    "iqprefix=analyses/\"$inseq\"_trees/\"$file_appendix\"/\"$inseq\"_\"$file_appendix\"_\"$iqpendix\"\n",
    "if   [ ! -f analyses/\"$inseq\"_trees/\"$file_appendix\"/\"$inseq\"_\"$file_appendix\"_iqtree-bb1000.tree ]\n",
    "then nice iqtree -s $a \\\n",
    "                 -m 'MFP' \\\n",
    "                 -bb 2000 -alrt 2000 \\\n",
    "                 -nt AUTO \\\n",
    "                 -ntmax $(nproc)  \\\n",
    "                 -pre  \"$iqprefix\" \\\n",
    "                 2>   \"$iqprefix\".stderr \\\n",
    "                 >    \"$iqprefix\".stdout && cat \"$iqprefix\".log | mail -s IQtree_run laura &\n",
    "fi"
   ]
  },
  {
   "cell_type": "code",
   "execution_count": 10,
   "metadata": {
    "scrolled": false
   },
   "outputs": [
    {
     "name": "stdout",
     "output_type": "stream",
     "text": [
      " 208  PIVW-2007999-Ceratopteris_thalictroides_1-166                                                                                                           2.35%    passed      6.39%\n",
      " 209  NRWZ-2014421-Metzgeria_crassipilis_1-169                                                                                                                0.59%    passed     77.73%\n",
      " 210  PIVW-2001493-Ceratopteris_thalictroides_1-152                                                                                                          10.59%    passed     64.49%\n",
      " 211  RDOO-2015055-Racomitrium_varium_1-164                                                                                                                   3.53%    passed     82.03%\n",
      " 212  CVEG-2123825-Azolla_cf._caroliniana_1-147                                                                                                              13.53%    passed     89.04%\n",
      " 213  CVEG-2010487-Azolla_cf._caroliniana_1-147                                                                                                              13.53%    passed     97.33%\n",
      "****  TOTAL                                                                                                                                                   7.03%  4 sequences failed composition chi2 test (p-value<5%; df=19)\n",
      "NOTE: CMADS3_AAC24319_1-164 is identical to CRM1_CAA69276_1-164 but kept for subsequent analysis\n",
      "NOTE: PIVW-2001493-Ceratopteris_thalictroides_1-152 is identical to PIVW-2001489-Ceratopteris_thalictroides_1-152 but kept for subsequent analysis\n",
      "NOTE: ZFRE-2001131-Phaeoceros_carolinianus-sporophyte_1575_1-170 is identical to ZFRE-2001130-Phaeoceros_carolinianus-sporophyte_1575_1-170 but kept for subsequent analysis\n",
      "NOTE: RDOO-2005175-Racomitrium_varium_1-164 is identical to RDOO-2005177-Racomitrium_varium_1-164 but kept for subsequent analysis\n",
      "NOTE: RDOO-2000122-Racomitrium_varium_1-169 is identical to RDOO-2000123-Racomitrium_varium_1-169 but kept for subsequent analysis\n",
      "NOTE: RDOO-2000811-Racomitrium_varium_1-149 is identical to RDOO-2000812-Racomitrium_varium_1-149 but kept for subsequent analysis\n",
      "NOTE: PIVW-2004035-Ceratopteris_thalictroides_1-168 is identical to PIVW-2004036-Ceratopteris_thalictroides_1-168 but kept for subsequent analysis\n",
      "NOTE: UPMJ-2005049-Pseudolycopodiella_caroliniana_1-170 is identical to UPMJ-2005050-Pseudolycopodiella_caroliniana_1-170 but kept for subsequent analysis\n",
      "NOTE: ENQF-2004631-Lycopodium_annotinum_1-139 is identical to ENQF-2004632-Lycopodium_annotinum_1-139 but kept for subsequent analysis\n",
      "NOTE: PIVW-2007999-Ceratopteris_thalictroides_1-166 is identical to PIVW-2008000-Ceratopteris_thalictroides_1-166 but kept for subsequent analysis\n",
      "NOTE: PIVW-2003992-Ceratopteris_thalictroides_1-168 is identical to PIVW-2003993-Ceratopteris_thalictroides_1-168 but kept for subsequent analysis\n",
      "NOTE: PIVW-2009414-Ceratopteris_thalictroides_1-149 is identical to PIVW-2009413-Ceratopteris_thalictroides_1-149 but kept for subsequent analysis\n",
      "\n",
      "\n",
      "Create initial parsimony tree by phylogenetic likelihood library (PLL)... 0.081 seconds\n",
      "NOTE: ModelFinder requires 64 MB RAM!\n",
      "ModelFinder will test 462 protein models (sample size: 170) ...\n",
      " No. Model         -LnL         df  AIC          AICc         BIC\n",
      "Measuring multi-threading efficiency up to 4 CPU cores\n",
      "Increase to 10 rounds for branch lengths\n",
      "21 trees examined\n",
      "Threads: 1 / Time: 4.179 sec / Speedup: 1.000 / Efficiency: 100% / LogL: -62641\n",
      "Threads: 2 / Time: 2.901 sec / Speedup: 1.440 / Efficiency: 72% / LogL: -62641\n",
      "(phylogenetics) "
     ]
    },
    {
     "ename": "",
     "evalue": "1",
     "output_type": "error",
     "traceback": []
    }
   ],
   "source": [
    "tail -n 30 $iqprefix.log"
   ]
  },
  {
   "cell_type": "code",
   "execution_count": 7,
   "metadata": {},
   "outputs": [
    {
     "name": "stdout",
     "output_type": "stream",
     "text": [
      "ERROR: File not found data/alignments_trimmed/MIKC_orthogroup_selection-basal-v3_guide-v4_aligned-mafft-einsi_trim-gt1-seqrmmanual2.fasta\n",
      "(phylogenetics) "
     ]
    },
    {
     "ename": "",
     "evalue": "1",
     "output_type": "error",
     "traceback": []
    }
   ],
   "source": [
    " cat \"$iqprefix\".stderr"
   ]
  }
 ],
 "metadata": {
  "kernelspec": {
   "display_name": "Bash",
   "language": "bash",
   "name": "bash"
  },
  "language_info": {
   "codemirror_mode": "shell",
   "file_extension": ".sh",
   "mimetype": "text/x-sh",
   "name": "bash"
  }
 },
 "nbformat": 4,
 "nbformat_minor": 2
}
